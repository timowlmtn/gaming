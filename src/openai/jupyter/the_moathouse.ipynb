{
 "cells": [
  {
   "cell_type": "code",
   "execution_count": 1,
   "metadata": {
    "collapsed": true,
    "ExecuteTime": {
     "start_time": "2023-05-17T16:22:46.600463Z",
     "end_time": "2023-05-17T16:22:46.822861Z"
    }
   },
   "outputs": [],
   "source": [
    "import openai\n",
    "import os\n",
    "\n",
    "from dotenv import load_dotenv, find_dotenv\n",
    "_ = load_dotenv(find_dotenv()) # read local .env file\n",
    "\n",
    "openai.api_key  = os.getenv('OPENAI_API_KEY')"
   ]
  },
  {
   "cell_type": "code",
   "execution_count": 2,
   "outputs": [],
   "source": [
    "def get_completion(prompt, model=\"gpt-3.5-turbo\", temperature=0): # Andrew mentioned that the prompt/ completion paradigm is preferable for this class\n",
    "    messages = [{\"role\": \"user\", \"content\": prompt}]\n",
    "    response = openai.ChatCompletion.create(\n",
    "        model=model,\n",
    "        messages=messages,\n",
    "        temperature=temperature, # this is the degree of randomness of the model's output\n",
    "    )\n",
    "    return response.choices[0].message[\"content\"]\n",
    "\n",
    "def read_file(filename):\n",
    "    with open(filename, \"r\") as fin:\n",
    "        result = fin.read()\n",
    "\n",
    "    return result"
   ],
   "metadata": {
    "collapsed": false,
    "ExecuteTime": {
     "start_time": "2023-05-17T16:26:02.581005Z",
     "end_time": "2023-05-17T16:26:02.584320Z"
    }
   }
  },
  {
   "cell_type": "code",
   "execution_count": 3,
   "outputs": [],
   "source": [
    "moathouse = read_file(\"../../../data/dnd/greyhawk/verbobonc/temple_of_elemental_evil/10_moathouse.txt\")"
   ],
   "metadata": {
    "collapsed": false,
    "ExecuteTime": {
     "start_time": "2023-05-17T16:26:43.666548Z",
     "end_time": "2023-05-17T16:26:43.675823Z"
    }
   }
  },
  {
   "cell_type": "code",
   "execution_count": 4,
   "outputs": [
    {
     "name": "stdout",
     "output_type": "stream",
     "text": [
      "As the players approach the once-ruined Moathouse, they are surprised to see that it has been rebuilt with craftsman attention to detail. The walls appear freshly painted and the wooden parts of the structure are newly replaced. As they make their way closer, they notice small figures flitting around the outside. Upon further inspection, they find that the culprits responsible for the renovation are none other than a group of kobolds who serve their mistress, the Sapphire Countess.\n",
      "\n",
      "The kobolds have set up a small camp outside the Moathouse and seem to be scurrying back and forth between it and their own makeshift dwellings. Upon being approached by the players, they reveal their mistress's grand plan: to create a base of operations in the Moathouse for her ultimately nefarious purposes.\n",
      "\n",
      "It quickly becomes clear that the kobolds are not aggressive and simply wish to serve their mistress. They are willing to share information about the Moathouse and even offer their services to the players, should they need them. However, as the players delve deeper into the newly renovated dungeon, they will come across remnants of the Moathouse's dark past - including evidence of Tharizdun's influence - and must decide whether to aid the kobolds or stop the Sapphire Countess's machinations before it's too late.\n"
     ]
    }
   ],
   "source": [
    "prompt = f\"\"\"\n",
    "As a dungeon master, introduce the Moathouse after it has been unexpectedly rebuilt with craftsman attention to detail\n",
    "by a group of kobolds for their mistress, the Sapphire Countess.\n",
    "\n",
    "Use the text delimited by triple backticks.\n",
    "```{moathouse}```\n",
    "\"\"\"\n",
    "\n",
    "\n",
    "response = get_completion(prompt, temperature=1)\n",
    "print(response)"
   ],
   "metadata": {
    "collapsed": false,
    "ExecuteTime": {
     "start_time": "2023-05-17T16:30:19.408109Z",
     "end_time": "2023-05-17T16:30:26.754844Z"
    }
   }
  },
  {
   "cell_type": "code",
   "execution_count": 10,
   "outputs": [
    {
     "name": "stdout",
     "output_type": "stream",
     "text": [
      "Sapphira is a stunning elven countess, dressed in shades of blue with silver reptilian jewelry. Her aura exudes elegance, power, and ancient wisdom with melodic and captivating voice. Her presence lingers in the memories of those who have encountered her.\n"
     ]
    }
   ],
   "source": [
    "prompt = f\"\"\"\n",
    "As a dungeon master, describe the Sapphire Countess in less than 100 words, do not mention she is a dragon.\n",
    "\n",
    "Use the text delimited by triple backticks.\n",
    "```{read_file('../../../data/dnd/character/sapphira_utreshmon.txt')}```\n",
    "\"\"\"\n",
    "\n",
    "\n",
    "response = get_completion(prompt, temperature=1)\n",
    "print(response)"
   ],
   "metadata": {
    "collapsed": false,
    "ExecuteTime": {
     "start_time": "2023-05-17T16:47:48.580293Z",
     "end_time": "2023-05-17T16:47:50.221208Z"
    }
   }
  },
  {
   "cell_type": "code",
   "execution_count": null,
   "outputs": [],
   "source": [],
   "metadata": {
    "collapsed": false
   }
  }
 ],
 "metadata": {
  "kernelspec": {
   "display_name": "Python 3",
   "language": "python",
   "name": "python3"
  },
  "language_info": {
   "codemirror_mode": {
    "name": "ipython",
    "version": 2
   },
   "file_extension": ".py",
   "mimetype": "text/x-python",
   "name": "python",
   "nbconvert_exporter": "python",
   "pygments_lexer": "ipython2",
   "version": "2.7.6"
  }
 },
 "nbformat": 4,
 "nbformat_minor": 0
}
