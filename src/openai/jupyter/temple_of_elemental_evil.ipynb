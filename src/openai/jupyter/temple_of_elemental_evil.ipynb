{
 "cells": [
  {
   "cell_type": "code",
   "execution_count": 27,
   "metadata": {
    "ExecuteTime": {
     "start_time": "2023-05-11T19:07:25.158297Z",
     "end_time": "2023-05-11T19:07:25.177057Z"
    }
   },
   "outputs": [],
   "source": [
    "import openai\n",
    "import os\n",
    "\n",
    "from dotenv import load_dotenv, find_dotenv\n",
    "_ = load_dotenv(find_dotenv()) # read local .env file\n",
    "\n",
    "openai.api_key  = os.getenv('OPENAI_API_KEY')"
   ]
  },
  {
   "cell_type": "markdown",
   "metadata": {},
   "source": []
  },
  {
   "cell_type": "code",
   "execution_count": 28,
   "metadata": {
    "ExecuteTime": {
     "start_time": "2023-05-11T19:07:26.278268Z",
     "end_time": "2023-05-11T19:07:26.281353Z"
    }
   },
   "outputs": [],
   "source": [
    "def get_completion(prompt, model=\"gpt-3.5-turbo\", temperature=0): # Andrew mentioned that the prompt/ completion paradigm is preferable for this class\n",
    "    messages = [{\"role\": \"user\", \"content\": prompt}]\n",
    "    response = openai.ChatCompletion.create(\n",
    "        model=model,\n",
    "        messages=messages,\n",
    "        temperature=temperature, # this is the degree of randomness of the model's output\n",
    "    )\n",
    "    return response.choices[0].message[\"content\"]\n"
   ]
  },
  {
   "cell_type": "code",
   "execution_count": 29,
   "metadata": {
    "ExecuteTime": {
     "start_time": "2023-05-11T19:07:33.063853Z",
     "end_time": "2023-05-11T19:07:33.066781Z"
    }
   },
   "outputs": [],
   "source": [
    "toe_gygax_1976 = f\"\"\"\n",
    "For a period of many years a cult of chaotic evil flourished somewhere on the shores of the Myr Dyv.  Although the location of the temple is lost, these facts regarding it, and its followers are known.\n",
    "\n",
    "The cult was based on the premise that the elemental forces of the universe are chaotic\n",
    "and opposed to mankind, i.e. evil. The temple of the cult sought to destroy all\n",
    "works of good and disrupt order.  Its members were thieves, assassins, brigands,\n",
    "and the like.  Fire was regarded as the first elemental evil, and its penchant\n",
    "for chaotic occurrence fitted in with the premise of the cult.\n",
    "\n",
    "Likewise, water was worshipped as an even more powerful force of chaotic evil, water in the\n",
    "form of floods, storms, and raging seas, beating upon the land and sinking ships.  The\n",
    "epitome of chaotic evil, however, was regarded as a combination of air and earth --\n",
    "represented by black and corresponding with the Demonic Abyss.  This combination was regarded as the complete negation of matter.\n",
    "\n",
    "The cult grew powerful and rich, attracting the followers of the worse sort, and offering\n",
    "safety to them within the walls of its temple stronghold.  From this fortress these\n",
    "followers would ride forth to rob, pillage, and lay waste to the lands thereabout, tithing the cult with the spoils of this brigandage.  Captives from these raids were\n",
    "brought back to the temple to serve as human sacrifices (children to the fire, men to the water, women to the blacklist evil) or to slave their lives away in bondage.  Besides\n",
    "the extensive upper works of the temple a deep labrynth beneath the place was constructed, but virtually nothing is now known about these dungeons other than that there\n",
    "were inhabited creatures serving both chaos and evil.  It is rumored that a demon took up\n",
    "abode in the deepest level in order to better receive the sacrifices to him.\n",
    "\n",
    "Eventually the neighbors of this temple grew tired of the depredations.  All good, lawful and\n",
    "chaotic, banded together in the form of a mighty host.  Their army marched to the temple,\n",
    "fighting two battles on the way.  The first was inconclusive, although the forces\n",
    "of good held the field afterwards, so that they gained the reputation of victory,\n",
    "and their ranks were swelled by may men from the area.  The second battle saw a great\n",
    "slaughter of kobolds, goblins, orcs, hobgoblins, evil men, and the like.  The temple\n",
    "was thereafter besieged, fell, and of its inhabitants were put to the sword.  It is\n",
    "reported by some sources that the temple and its precincts resisted complete destruction,\n",
    "but the majority state that the whole was razed so that the cult could never emerge again\n",
    "nor find where it had once flourished.\n",
    "\n",
    "\n",
    "\"\"\""
   ]
  },
  {
   "cell_type": "code",
   "execution_count": 4,
   "metadata": {
    "ExecuteTime": {
     "end_time": "2023-05-10T07:38:00.503988Z",
     "start_time": "2023-05-10T07:37:57.761466Z"
    }
   },
   "outputs": [
    {
     "name": "stdout",
     "output_type": "stream",
     "text": [
      "A cult of chaotic evil worshipped the elemental forces of the universe and sought to destroy all works of good. They grew powerful and rich, attracting followers of the worst sort, and offering safety within their temple stronghold. Eventually, a mighty host of good, lawful, and chaotic forces banded together to besiege and destroy the temple, putting its inhabitants to the sword.\n"
     ]
    }
   ],
   "source": [
    "prompt = f\"\"\"\n",
    "You are a crazy old man telling a story in a D&D game.\n",
    "\n",
    "Generate a short summary of the history of the Temple of\n",
    "Elemental Evil.\n",
    "\n",
    "Summarize the story, delimited by triple backticks, in at most 30 words.\n",
    "\n",
    "```\n",
    "{toe_gygax_1976}\n",
    "```\n",
    "\"\"\"\n",
    "\n",
    "response = get_completion(prompt)\n",
    "print(response)"
   ]
  },
  {
   "cell_type": "code",
   "execution_count": 5,
   "metadata": {
    "ExecuteTime": {
     "end_time": "2023-05-10T07:39:47.167269Z",
     "start_time": "2023-05-10T07:39:43.860879Z"
    }
   },
   "outputs": [
    {
     "name": "stdout",
     "output_type": "stream",
     "text": [
      "A cult of chaotic evil worshipped the elemental forces of the universe and sought to destroy all works of good. They grew powerful and rich, attracting followers of the worst sort, and offering safety within their temple stronghold. The temple had extensive upper works and a deep labyrinth beneath, inhabited by creatures serving chaos and evil. Eventually, a mighty host of good, lawful, and chaotic neighbors banded together to besiege and destroy the temple, putting its inhabitants to the sword.\n"
     ]
    }
   ],
   "source": [
    "prompt = f\"\"\"\n",
    "You are a crazy old man telling a story in a D&D game.\n",
    "\n",
    "Generate a short summary of the history of the Temple of\n",
    "Elemental Evil.\n",
    "\n",
    "Summarize the story, delimited by triple backticks, in at most 30 words, and focusing\n",
    "on aspects of the dungeon and the history.\n",
    "\n",
    "```\n",
    "{toe_gygax_1976}\n",
    "```\n",
    "\"\"\"\n",
    "\n",
    "response = get_completion(prompt)\n",
    "print(response)"
   ]
  },
  {
   "cell_type": "code",
   "execution_count": 6,
   "metadata": {
    "ExecuteTime": {
     "end_time": "2023-05-10T07:39:52.641123Z",
     "start_time": "2023-05-10T07:39:48.790674Z"
    }
   },
   "outputs": [
    {
     "name": "stdout",
     "output_type": "stream",
     "text": [
      "The Temple of Elemental Evil was a stronghold of a cult of chaotic evil, seeking to destroy all good and disrupt order. The cult worshipped fire, water, air, and earth as elemental forces of evil and grew powerful by raiding and pillaging nearby lands. The temple had extensive upper works and a deep labyrinth beneath, inhabited by creatures serving chaos and evil. The temple was eventually besieged and destroyed by a mighty host of good, lawful, and chaotic forces, putting an end to the cult's depredations.\n"
     ]
    }
   ],
   "source": [
    "prompt = f\"\"\"\n",
    "You are a dungeon master.\n",
    "\n",
    "Extract relevant information Temple of Elemental Evil.\n",
    "\n",
    "Summarize the story, delimited by triple backticks, in at most 30 words, and focusing\n",
    "on aspects of the dungeon and the history.\n",
    "\n",
    "```\n",
    "{toe_gygax_1976}\n",
    "```\n",
    "\"\"\"\n",
    "\n",
    "response = get_completion(prompt)\n",
    "print(response)"
   ]
  },
  {
   "cell_type": "code",
   "execution_count": 7,
   "metadata": {
    "ExecuteTime": {
     "end_time": "2023-05-10T07:39:55.404702Z",
     "start_time": "2023-05-10T07:39:54.848790Z"
    }
   },
   "outputs": [
    {
     "name": "stdout",
     "output_type": "stream",
     "text": [
      "lost, fascinated, horrified, disgusted, intrigued\n"
     ]
    }
   ],
   "source": [
    "prompt = f\"\"\"\n",
    "Identify a list of emotions that the writer of the text is expressing.  Include no more than\n",
    "five items in the list.  Format your answer as a list of lower-case words separated by commas.\n",
    "\n",
    "Text: '''{toe_gygax_1976}'''\n",
    "\"\"\"\n",
    "response = get_completion(prompt)\n",
    "print(response)"
   ]
  },
  {
   "cell_type": "code",
   "execution_count": 9,
   "metadata": {
    "ExecuteTime": {
     "end_time": "2023-05-10T07:41:08.008616Z",
     "start_time": "2023-05-10T07:41:04.260896Z"
    }
   },
   "outputs": [
    {
     "name": "stdout",
     "output_type": "stream",
     "text": [
      "Yes, the writer is expressing danger. \n",
      "\n",
      "1. The cult is based on the premise that the elemental forces of the universe are chaotic and opposed to mankind, i.e. evil.\n",
      "2. The temple of the cult sought to destroy all works of good and disrupt order.\n",
      "3. Its members were thieves, assassins, brigands, and the like.\n",
      "4. Captives from these raids were brought back to the temple to serve as human sacrifices.\n",
      "5. It is rumored that a demon took up abode in the deepest level in order to better receive the sacrifices to him.\n"
     ]
    }
   ],
   "source": [
    "prompt = f\"\"\"\n",
    "Is the writer of the text expressing danger.  Include no more than\n",
    "five items in the list.  Give your answer as yes or no.\n",
    "\n",
    "Text: '''{toe_gygax_1976}'''\n",
    "\"\"\"\n",
    "response = get_completion(prompt)\n",
    "print(response)"
   ]
  },
  {
   "cell_type": "code",
   "execution_count": 10,
   "metadata": {
    "ExecuteTime": {
     "end_time": "2023-05-10T07:41:14.570374Z",
     "start_time": "2023-05-10T07:41:12.032082Z"
    }
   },
   "outputs": [
    {
     "name": "stdout",
     "output_type": "stream",
     "text": [
      "{\n",
      "  \"followers\": [\n",
      "    {\"creature\": \"human\", \"level\": \"unknown\"},\n",
      "    {\"creature\": \"dwarf\", \"level\": \"unknown\"},\n",
      "    {\"creature\": \"elf\", \"level\": \"unknown\"},\n",
      "    {\"creature\": \"goblin\", \"level\": \"unknown\"}\n",
      "  ]\n",
      "}\n"
     ]
    }
   ],
   "source": [
    "prompt = f\"\"\"\"\n",
    "Identify the followers one might encounter in the text.\n",
    "- Creature the creature type of the followers\n",
    "- Level the level of the temple where the follower lives\n",
    "\n",
    "Format your response as a JSON object with \"creature\" and \"level\" as the keys.\n",
    "\n",
    "If the information isn't present, use \"unknown\" as the value.\n",
    "\n",
    "Make your response as short as possible.\n",
    "\n",
    "\"\"\"\n",
    "\n",
    "response = get_completion(prompt)\n",
    "print(response)\n"
   ]
  },
  {
   "cell_type": "code",
   "execution_count": 12,
   "metadata": {
    "ExecuteTime": {
     "end_time": "2023-05-10T07:41:18.449993Z",
     "start_time": "2023-05-10T07:41:17.072683Z"
    }
   },
   "outputs": [
    {
     "name": "stdout",
     "output_type": "stream",
     "text": [
      "1. A cult of chaotic evil\n",
      "2. Elemental forces of the universe\n",
      "3. Human sacrifices and slavery\n",
      "4. Battles and warfare\n",
      "5. Destruction of the cult and its stronghold\n"
     ]
    }
   ],
   "source": [
    "prompt = f\"\"\"\n",
    "Determine fiv topics that are being discussed in the following text:\n",
    "\n",
    "text: {toe_gygax_1976}\n",
    "\"\"\"\n",
    "\n",
    "response = get_completion(prompt)\n",
    "print(response)\n"
   ]
  },
  {
   "cell_type": "code",
   "execution_count": 13,
   "metadata": {
    "ExecuteTime": {
     "end_time": "2023-05-10T07:42:22.569735Z",
     "start_time": "2023-05-10T07:41:56.397759Z"
    }
   },
   "outputs": [
    {
     "name": "stdout",
     "output_type": "stream",
     "text": [
      "Pendant de nombreuses années, un culte du mal chaotique a prospéré quelque part sur les rives du Myr Dyv. Bien que l'emplacement du temple soit perdu, ces faits à son sujet et sur ses adeptes sont connus.\n",
      "\n",
      "Le culte était basé sur la prémisse que les forces élémentaires de l'univers sont chaotiques et opposées à l'humanité, c'est-à-dire maléfiques. Le temple du culte cherchait à détruire toutes les œuvres du bien et à perturber l'ordre. Ses membres étaient des voleurs, des assassins, des brigands et autres. Le feu était considéré comme le premier mal élémentaire, et son penchant pour les événements chaotiques s'inscrivait dans la prémisse du culte.\n",
      "\n",
      "De même, l'eau était vénérée comme une force encore plus puissante du mal chaotique, l'eau sous forme d'inondations, de tempêtes et de mers déchaînées, battant les terres et coulant les navires. L'apogée du mal chaotique était cependant considérée comme une combinaison d'air et de terre - représentée par le noir et correspondant à l'abîme démoniaque. Cette combinaison était considérée comme la négation complète de la matière.\n",
      "\n",
      "Le culte est devenu puissant et riche, attirant les adeptes du pire genre et leur offrant sécurité dans les murs de sa forteresse-temple. De cette forteresse, ces adeptes chevauchaient pour voler, piller et dévaster les terres environnantes, dîmant le culte avec les butins de ces brigandages. Les captifs de ces raids étaient ramenés au temple pour servir de sacrifices humains (enfants au feu, hommes à l'eau, femmes au mal noir) ou pour esclavagiser leur vie. Outre les vastes travaux supérieurs du temple, un labyrinthe profond sous le lieu a été construit, mais presque rien n'est maintenant connu de ces donjons, sinon qu'il y avait des créatures habitées servant à la fois le chaos et le mal. On raconte qu'un démon a pris domicile dans le niveau le plus profond afin de mieux recevoir les sacrifices qui lui étaient destinés.\n",
      "\n",
      "Finalement, les voisins de ce temple se sont lassés des déprédations. Tout le bien, le légal et le chaotique se sont unis sous la forme d'une armée puissante. Leur armée a marché vers le temple, combattant deux batailles en chemin. La première était inconclusive, bien que les forces du bien aient tenu le champ par la suite, de sorte qu'elles ont acquis la réputation de la victoire, et leurs rangs ont été gonflés par de nombreux hommes de la région. La deuxième bataille a vu un grand massacre de kobolds, de gobelins, d'orcs, de hobgoblins, d'hommes maléfiques et autres. Le temple a ensuite été assiégé, est tombé et ses habitants ont été mis à mort. Certaines sources rapportent que le temple et ses environs ont résisté à une destruction complète, mais la majorité affirme que le tout a été rasé pour que le culte ne puisse jamais émerger à nouveau ni trouver où il avait autrefois prospéré.\n"
     ]
    }
   ],
   "source": [
    "prompt = f\"\"\"\n",
    "Translate the following English text to French.\n",
    "\n",
    "text: {toe_gygax_1976}\n",
    "\"\"\"\n",
    "\n",
    "response = get_completion(prompt)\n",
    "print(response)\n",
    "\n"
   ]
  },
  {
   "cell_type": "code",
   "execution_count": 14,
   "metadata": {
    "ExecuteTime": {
     "end_time": "2023-05-10T07:43:00.808843Z",
     "start_time": "2023-05-10T07:42:59.193554Z"
    }
   },
   "outputs": [
    {
     "name": "stdout",
     "output_type": "stream",
     "text": [
      "Dear friend,\n",
      "\n",
      "I hope this email finds you well! I wanted to invite you to a game of Dungeons & Dragons with me. We'll be exploring a cult of chaotic evil and their stronghold. It's sure to be a thrilling adventure! Let me know if you're interested.\n",
      "\n",
      "Best,\n",
      "[Your Name]\n"
     ]
    }
   ],
   "source": [
    "prompt = f\"\"\"\n",
    "You are a party planner AI assistant.\n",
    "\n",
    "Limit to 30 words.  Use a friendly and familiar tone.\n",
    "\n",
    "Your task is to send an email to a valued friend inviting them to play D&D given\n",
    "the text delimited by the backticks.\n",
    "\n",
    "```{toe_gygax_1976}```\n",
    "\"\"\"\n",
    "\n",
    "\n",
    "response = get_completion(prompt, temperature=0.7)\n",
    "print(response)\n"
   ]
  },
  {
   "cell_type": "code",
   "execution_count": 15,
   "metadata": {
    "ExecuteTime": {
     "end_time": "2023-05-10T07:43:05.765271Z",
     "start_time": "2023-05-10T07:43:05.758580Z"
    }
   },
   "outputs": [],
   "source": [
    "def get_completion_from_messages(messages, model=\"gpt-3.5-turbo\", temperature=0):\n",
    "    response = openai.ChatCompletion.create(\n",
    "        model=model,\n",
    "        messages=messages,\n",
    "        temperature=temperature, # this is the degree of randomness of the model's output\n",
    "    )\n",
    "#     print(str(response.choices[0].message))\n",
    "    return response.choices[0].message[\"content\"]"
   ]
  },
  {
   "cell_type": "code",
   "execution_count": 16,
   "metadata": {
    "ExecuteTime": {
     "end_time": "2023-05-10T07:43:09.409159Z",
     "start_time": "2023-05-10T07:43:09.402165Z"
    }
   },
   "outputs": [],
   "source": [
    "messages =  [\n",
    "{'role':'system', 'content':'You are an dungeon master that speaks like Shakespeare.'},\n",
    "{'role':'user', 'content':'Tell me a joke'},\n",
    "{'role':'assistant', 'content':'How do you know if there’s a paladin in the party?'},\n",
    "{'role':'user', 'content':'I don\\'t know'}  ]"
   ]
  },
  {
   "cell_type": "code",
   "execution_count": 17,
   "metadata": {
    "ExecuteTime": {
     "end_time": "2023-05-10T07:43:13.135686Z",
     "start_time": "2023-05-10T07:43:12.530283Z"
    }
   },
   "outputs": [
    {
     "name": "stdout",
     "output_type": "stream",
     "text": [
      "Don't worry, they'll tell you.\n"
     ]
    }
   ],
   "source": [
    "response = get_completion_from_messages(messages, temperature=1)\n",
    "print(response)"
   ]
  },
  {
   "cell_type": "code",
   "execution_count": 18,
   "metadata": {
    "ExecuteTime": {
     "end_time": "2023-05-10T07:46:04.425199Z",
     "start_time": "2023-05-10T07:46:04.416195Z"
    }
   },
   "outputs": [],
   "source": [
    "\n",
    "def collect_messages(_):\n",
    "    prompt = inp.value_input\n",
    "    inp.value = ''\n",
    "    context.append({'role':'user', 'content':f\"{prompt}\"})\n",
    "    response = get_completion_from_messages(context)\n",
    "    context.append({'role':'assistant', 'content':f\"{response}\"})\n",
    "    panels.append(\n",
    "        pn.Row('User:', pn.pane.Markdown(prompt, width=600)))\n",
    "    panels.append(\n",
    "        pn.Row('Assistant:', pn.pane.Markdown(response, width=600, style={'background-color': '#F6F6F6'})))\n",
    "\n",
    "    return pn.Column(*panels)\n"
   ]
  },
  {
   "cell_type": "code",
   "execution_count": 19,
   "metadata": {
    "ExecuteTime": {
     "end_time": "2023-05-10T07:46:35.938387Z",
     "start_time": "2023-05-10T07:46:35.917248Z"
    }
   },
   "outputs": [
    {
     "data": {
      "application/javascript": [
       "(function(root) {\n",
       "  function now() {\n",
       "    return new Date();\n",
       "  }\n",
       "\n",
       "  var force = true;\n",
       "\n",
       "  if (typeof root._bokeh_onload_callbacks === \"undefined\" || force === true) {\n",
       "    root._bokeh_onload_callbacks = [];\n",
       "    root._bokeh_is_loading = undefined;\n",
       "  }\n",
       "\n",
       "  if (typeof (root._bokeh_timeout) === \"undefined\" || force === true) {\n",
       "    root._bokeh_timeout = Date.now() + 5000;\n",
       "    root._bokeh_failed_load = false;\n",
       "  }\n",
       "\n",
       "  function run_callbacks() {\n",
       "    try {\n",
       "      root._bokeh_onload_callbacks.forEach(function(callback) {\n",
       "        if (callback != null)\n",
       "          callback();\n",
       "      });\n",
       "    } finally {\n",
       "      delete root._bokeh_onload_callbacks\n",
       "    }\n",
       "    console.debug(\"Bokeh: all callbacks have finished\");\n",
       "  }\n",
       "\n",
       "  function load_libs(css_urls, js_urls, js_modules, callback) {\n",
       "    if (css_urls == null) css_urls = [];\n",
       "    if (js_urls == null) js_urls = [];\n",
       "    if (js_modules == null) js_modules = [];\n",
       "\n",
       "    root._bokeh_onload_callbacks.push(callback);\n",
       "    if (root._bokeh_is_loading > 0) {\n",
       "      console.debug(\"Bokeh: BokehJS is being loaded, scheduling callback at\", now());\n",
       "      return null;\n",
       "    }\n",
       "    if (js_urls.length === 0 && js_modules.length === 0) {\n",
       "      run_callbacks();\n",
       "      return null;\n",
       "    }\n",
       "    console.debug(\"Bokeh: BokehJS not loaded, scheduling load and callback at\", now());\n",
       "\n",
       "    function on_load() {\n",
       "      root._bokeh_is_loading--;\n",
       "      if (root._bokeh_is_loading === 0) {\n",
       "        console.debug(\"Bokeh: all BokehJS libraries/stylesheets loaded\");\n",
       "        run_callbacks()\n",
       "      }\n",
       "    }\n",
       "\n",
       "    function on_error() {\n",
       "      console.error(\"failed to load \" + url);\n",
       "    }\n",
       "\n",
       "    for (var i = 0; i < css_urls.length; i++) {\n",
       "      var url = css_urls[i];\n",
       "      const element = document.createElement(\"link\");\n",
       "      element.onload = on_load;\n",
       "      element.onerror = on_error;\n",
       "      element.rel = \"stylesheet\";\n",
       "      element.type = \"text/css\";\n",
       "      element.href = url;\n",
       "      console.debug(\"Bokeh: injecting link tag for BokehJS stylesheet: \", url);\n",
       "      document.body.appendChild(element);\n",
       "    }\n",
       "\n",
       "    var skip = [];\n",
       "    if (window.requirejs) {\n",
       "      window.requirejs.config({'packages': {}, 'paths': {'gridstack': 'https://cdn.jsdelivr.net/npm/gridstack@4.2.5/dist/gridstack-h5', 'notyf': 'https://cdn.jsdelivr.net/npm/notyf@3/notyf.min'}, 'shim': {'gridstack': {'exports': 'GridStack'}}});\n",
       "      require([\"gridstack\"], function(GridStack) {\n",
       "\twindow.GridStack = GridStack\n",
       "\ton_load()\n",
       "      })\n",
       "      require([\"notyf\"], function() {\n",
       "\ton_load()\n",
       "      })\n",
       "      root._bokeh_is_loading = css_urls.length + 2;\n",
       "    } else {\n",
       "      root._bokeh_is_loading = css_urls.length + js_urls.length + js_modules.length;\n",
       "    }    if (((window['GridStack'] !== undefined) && (!(window['GridStack'] instanceof HTMLElement))) || window.requirejs) {\n",
       "      var urls = ['https://cdn.holoviz.org/panel/0.14.4/dist/bundled/gridstack/gridstack@4.2.5/dist/gridstack-h5.js'];\n",
       "      for (var i = 0; i < urls.length; i++) {\n",
       "        skip.push(urls[i])\n",
       "      }\n",
       "    }    if (((window['Notyf'] !== undefined) && (!(window['Notyf'] instanceof HTMLElement))) || window.requirejs) {\n",
       "      var urls = ['https://cdn.holoviz.org/panel/0.14.4/dist/bundled/notificationarea/notyf@3/notyf.min.js'];\n",
       "      for (var i = 0; i < urls.length; i++) {\n",
       "        skip.push(urls[i])\n",
       "      }\n",
       "    }    for (var i = 0; i < js_urls.length; i++) {\n",
       "      var url = js_urls[i];\n",
       "      if (skip.indexOf(url) >= 0) {\n",
       "\tif (!window.requirejs) {\n",
       "\t  on_load();\n",
       "\t}\n",
       "\tcontinue;\n",
       "      }\n",
       "      var element = document.createElement('script');\n",
       "      element.onload = on_load;\n",
       "      element.onerror = on_error;\n",
       "      element.async = false;\n",
       "      element.src = url;\n",
       "      console.debug(\"Bokeh: injecting script tag for BokehJS library: \", url);\n",
       "      document.head.appendChild(element);\n",
       "    }\n",
       "    for (var i = 0; i < js_modules.length; i++) {\n",
       "      var url = js_modules[i];\n",
       "      if (skip.indexOf(url) >= 0) {\n",
       "\tif (!window.requirejs) {\n",
       "\t  on_load();\n",
       "\t}\n",
       "\tcontinue;\n",
       "      }\n",
       "      var element = document.createElement('script');\n",
       "      element.onload = on_load;\n",
       "      element.onerror = on_error;\n",
       "      element.async = false;\n",
       "      element.src = url;\n",
       "      element.type = \"module\";\n",
       "      console.debug(\"Bokeh: injecting script tag for BokehJS library: \", url);\n",
       "      document.head.appendChild(element);\n",
       "    }\n",
       "    if (!js_urls.length && !js_modules.length) {\n",
       "      on_load()\n",
       "    }\n",
       "  };\n",
       "\n",
       "  function inject_raw_css(css) {\n",
       "    const element = document.createElement(\"style\");\n",
       "    element.appendChild(document.createTextNode(css));\n",
       "    document.body.appendChild(element);\n",
       "  }\n",
       "\n",
       "  var js_urls = [\"https://cdn.bokeh.org/bokeh/release/bokeh-2.4.3.min.js\", \"https://cdn.bokeh.org/bokeh/release/bokeh-gl-2.4.3.min.js\", \"https://cdn.bokeh.org/bokeh/release/bokeh-widgets-2.4.3.min.js\", \"https://cdn.bokeh.org/bokeh/release/bokeh-tables-2.4.3.min.js\", \"https://cdn.bokeh.org/bokeh/release/bokeh-mathjax-2.4.3.min.js\", \"https://unpkg.com/@holoviz/panel@0.14.4/dist/panel.min.js\"];\n",
       "  var js_modules = [];\n",
       "  var css_urls = [\"https://cdn.holoviz.org/panel/0.14.4/dist/css/debugger.css\", \"https://cdn.holoviz.org/panel/0.14.4/dist/css/alerts.css\", \"https://cdn.holoviz.org/panel/0.14.4/dist/css/card.css\", \"https://cdn.holoviz.org/panel/0.14.4/dist/css/widgets.css\", \"https://cdn.holoviz.org/panel/0.14.4/dist/css/markdown.css\", \"https://cdn.holoviz.org/panel/0.14.4/dist/css/json.css\", \"https://cdn.holoviz.org/panel/0.14.4/dist/css/loading.css\", \"https://cdn.holoviz.org/panel/0.14.4/dist/css/dataframe.css\"];\n",
       "  var inline_js = [    function(Bokeh) {\n",
       "      inject_raw_css(\"\\n    .bk.pn-loading.arc:before {\\n      background-image: url(\\\"data:image/svg+xml;base64,PHN2ZyB4bWxucz0iaHR0cDovL3d3dy53My5vcmcvMjAwMC9zdmciIHN0eWxlPSJtYXJnaW46IGF1dG87IGJhY2tncm91bmQ6IG5vbmU7IGRpc3BsYXk6IGJsb2NrOyBzaGFwZS1yZW5kZXJpbmc6IGF1dG87IiB2aWV3Qm94PSIwIDAgMTAwIDEwMCIgcHJlc2VydmVBc3BlY3RSYXRpbz0ieE1pZFlNaWQiPiAgPGNpcmNsZSBjeD0iNTAiIGN5PSI1MCIgZmlsbD0ibm9uZSIgc3Ryb2tlPSIjYzNjM2MzIiBzdHJva2Utd2lkdGg9IjEwIiByPSIzNSIgc3Ryb2tlLWRhc2hhcnJheT0iMTY0LjkzMzYxNDMxMzQ2NDE1IDU2Ljk3Nzg3MTQzNzgyMTM4Ij4gICAgPGFuaW1hdGVUcmFuc2Zvcm0gYXR0cmlidXRlTmFtZT0idHJhbnNmb3JtIiB0eXBlPSJyb3RhdGUiIHJlcGVhdENvdW50PSJpbmRlZmluaXRlIiBkdXI9IjFzIiB2YWx1ZXM9IjAgNTAgNTA7MzYwIDUwIDUwIiBrZXlUaW1lcz0iMDsxIj48L2FuaW1hdGVUcmFuc2Zvcm0+ICA8L2NpcmNsZT48L3N2Zz4=\\\");\\n      background-size: auto calc(min(50%, 400px));\\n    }\\n    \");\n",
       "    },    function(Bokeh) {\n",
       "      Bokeh.set_log_level(\"info\");\n",
       "    },\n",
       "function(Bokeh) {} // ensure no trailing comma for IE\n",
       "  ];\n",
       "\n",
       "  function run_inline_js() {\n",
       "    if ((root.Bokeh !== undefined) || (force === true)) {\n",
       "      for (var i = 0; i < inline_js.length; i++) {\n",
       "        inline_js[i].call(root, root.Bokeh);\n",
       "      }} else if (Date.now() < root._bokeh_timeout) {\n",
       "      setTimeout(run_inline_js, 100);\n",
       "    } else if (!root._bokeh_failed_load) {\n",
       "      console.log(\"Bokeh: BokehJS failed to load within specified timeout.\");\n",
       "      root._bokeh_failed_load = true;\n",
       "    }\n",
       "  }\n",
       "\n",
       "  if (root._bokeh_is_loading === 0) {\n",
       "    console.debug(\"Bokeh: BokehJS loaded, going straight to plotting\");\n",
       "    run_inline_js();\n",
       "  } else {\n",
       "    load_libs(css_urls, js_urls, js_modules, function() {\n",
       "      console.debug(\"Bokeh: BokehJS plotting callback run at\", now());\n",
       "      run_inline_js();\n",
       "    });\n",
       "  }\n",
       "}(window));"
      ],
      "application/vnd.holoviews_load.v0+json": "(function(root) {\n  function now() {\n    return new Date();\n  }\n\n  var force = true;\n\n  if (typeof root._bokeh_onload_callbacks === \"undefined\" || force === true) {\n    root._bokeh_onload_callbacks = [];\n    root._bokeh_is_loading = undefined;\n  }\n\n  if (typeof (root._bokeh_timeout) === \"undefined\" || force === true) {\n    root._bokeh_timeout = Date.now() + 5000;\n    root._bokeh_failed_load = false;\n  }\n\n  function run_callbacks() {\n    try {\n      root._bokeh_onload_callbacks.forEach(function(callback) {\n        if (callback != null)\n          callback();\n      });\n    } finally {\n      delete root._bokeh_onload_callbacks\n    }\n    console.debug(\"Bokeh: all callbacks have finished\");\n  }\n\n  function load_libs(css_urls, js_urls, js_modules, callback) {\n    if (css_urls == null) css_urls = [];\n    if (js_urls == null) js_urls = [];\n    if (js_modules == null) js_modules = [];\n\n    root._bokeh_onload_callbacks.push(callback);\n    if (root._bokeh_is_loading > 0) {\n      console.debug(\"Bokeh: BokehJS is being loaded, scheduling callback at\", now());\n      return null;\n    }\n    if (js_urls.length === 0 && js_modules.length === 0) {\n      run_callbacks();\n      return null;\n    }\n    console.debug(\"Bokeh: BokehJS not loaded, scheduling load and callback at\", now());\n\n    function on_load() {\n      root._bokeh_is_loading--;\n      if (root._bokeh_is_loading === 0) {\n        console.debug(\"Bokeh: all BokehJS libraries/stylesheets loaded\");\n        run_callbacks()\n      }\n    }\n\n    function on_error() {\n      console.error(\"failed to load \" + url);\n    }\n\n    for (var i = 0; i < css_urls.length; i++) {\n      var url = css_urls[i];\n      const element = document.createElement(\"link\");\n      element.onload = on_load;\n      element.onerror = on_error;\n      element.rel = \"stylesheet\";\n      element.type = \"text/css\";\n      element.href = url;\n      console.debug(\"Bokeh: injecting link tag for BokehJS stylesheet: \", url);\n      document.body.appendChild(element);\n    }\n\n    var skip = [];\n    if (window.requirejs) {\n      window.requirejs.config({'packages': {}, 'paths': {'gridstack': 'https://cdn.jsdelivr.net/npm/gridstack@4.2.5/dist/gridstack-h5', 'notyf': 'https://cdn.jsdelivr.net/npm/notyf@3/notyf.min'}, 'shim': {'gridstack': {'exports': 'GridStack'}}});\n      require([\"gridstack\"], function(GridStack) {\n\twindow.GridStack = GridStack\n\ton_load()\n      })\n      require([\"notyf\"], function() {\n\ton_load()\n      })\n      root._bokeh_is_loading = css_urls.length + 2;\n    } else {\n      root._bokeh_is_loading = css_urls.length + js_urls.length + js_modules.length;\n    }    if (((window['GridStack'] !== undefined) && (!(window['GridStack'] instanceof HTMLElement))) || window.requirejs) {\n      var urls = ['https://cdn.holoviz.org/panel/0.14.4/dist/bundled/gridstack/gridstack@4.2.5/dist/gridstack-h5.js'];\n      for (var i = 0; i < urls.length; i++) {\n        skip.push(urls[i])\n      }\n    }    if (((window['Notyf'] !== undefined) && (!(window['Notyf'] instanceof HTMLElement))) || window.requirejs) {\n      var urls = ['https://cdn.holoviz.org/panel/0.14.4/dist/bundled/notificationarea/notyf@3/notyf.min.js'];\n      for (var i = 0; i < urls.length; i++) {\n        skip.push(urls[i])\n      }\n    }    for (var i = 0; i < js_urls.length; i++) {\n      var url = js_urls[i];\n      if (skip.indexOf(url) >= 0) {\n\tif (!window.requirejs) {\n\t  on_load();\n\t}\n\tcontinue;\n      }\n      var element = document.createElement('script');\n      element.onload = on_load;\n      element.onerror = on_error;\n      element.async = false;\n      element.src = url;\n      console.debug(\"Bokeh: injecting script tag for BokehJS library: \", url);\n      document.head.appendChild(element);\n    }\n    for (var i = 0; i < js_modules.length; i++) {\n      var url = js_modules[i];\n      if (skip.indexOf(url) >= 0) {\n\tif (!window.requirejs) {\n\t  on_load();\n\t}\n\tcontinue;\n      }\n      var element = document.createElement('script');\n      element.onload = on_load;\n      element.onerror = on_error;\n      element.async = false;\n      element.src = url;\n      element.type = \"module\";\n      console.debug(\"Bokeh: injecting script tag for BokehJS library: \", url);\n      document.head.appendChild(element);\n    }\n    if (!js_urls.length && !js_modules.length) {\n      on_load()\n    }\n  };\n\n  function inject_raw_css(css) {\n    const element = document.createElement(\"style\");\n    element.appendChild(document.createTextNode(css));\n    document.body.appendChild(element);\n  }\n\n  var js_urls = [\"https://cdn.bokeh.org/bokeh/release/bokeh-2.4.3.min.js\", \"https://cdn.bokeh.org/bokeh/release/bokeh-gl-2.4.3.min.js\", \"https://cdn.bokeh.org/bokeh/release/bokeh-widgets-2.4.3.min.js\", \"https://cdn.bokeh.org/bokeh/release/bokeh-tables-2.4.3.min.js\", \"https://cdn.bokeh.org/bokeh/release/bokeh-mathjax-2.4.3.min.js\", \"https://unpkg.com/@holoviz/panel@0.14.4/dist/panel.min.js\"];\n  var js_modules = [];\n  var css_urls = [\"https://cdn.holoviz.org/panel/0.14.4/dist/css/debugger.css\", \"https://cdn.holoviz.org/panel/0.14.4/dist/css/alerts.css\", \"https://cdn.holoviz.org/panel/0.14.4/dist/css/card.css\", \"https://cdn.holoviz.org/panel/0.14.4/dist/css/widgets.css\", \"https://cdn.holoviz.org/panel/0.14.4/dist/css/markdown.css\", \"https://cdn.holoviz.org/panel/0.14.4/dist/css/json.css\", \"https://cdn.holoviz.org/panel/0.14.4/dist/css/loading.css\", \"https://cdn.holoviz.org/panel/0.14.4/dist/css/dataframe.css\"];\n  var inline_js = [    function(Bokeh) {\n      inject_raw_css(\"\\n    .bk.pn-loading.arc:before {\\n      background-image: url(\\\"data:image/svg+xml;base64,PHN2ZyB4bWxucz0iaHR0cDovL3d3dy53My5vcmcvMjAwMC9zdmciIHN0eWxlPSJtYXJnaW46IGF1dG87IGJhY2tncm91bmQ6IG5vbmU7IGRpc3BsYXk6IGJsb2NrOyBzaGFwZS1yZW5kZXJpbmc6IGF1dG87IiB2aWV3Qm94PSIwIDAgMTAwIDEwMCIgcHJlc2VydmVBc3BlY3RSYXRpbz0ieE1pZFlNaWQiPiAgPGNpcmNsZSBjeD0iNTAiIGN5PSI1MCIgZmlsbD0ibm9uZSIgc3Ryb2tlPSIjYzNjM2MzIiBzdHJva2Utd2lkdGg9IjEwIiByPSIzNSIgc3Ryb2tlLWRhc2hhcnJheT0iMTY0LjkzMzYxNDMxMzQ2NDE1IDU2Ljk3Nzg3MTQzNzgyMTM4Ij4gICAgPGFuaW1hdGVUcmFuc2Zvcm0gYXR0cmlidXRlTmFtZT0idHJhbnNmb3JtIiB0eXBlPSJyb3RhdGUiIHJlcGVhdENvdW50PSJpbmRlZmluaXRlIiBkdXI9IjFzIiB2YWx1ZXM9IjAgNTAgNTA7MzYwIDUwIDUwIiBrZXlUaW1lcz0iMDsxIj48L2FuaW1hdGVUcmFuc2Zvcm0+ICA8L2NpcmNsZT48L3N2Zz4=\\\");\\n      background-size: auto calc(min(50%, 400px));\\n    }\\n    \");\n    },    function(Bokeh) {\n      Bokeh.set_log_level(\"info\");\n    },\nfunction(Bokeh) {} // ensure no trailing comma for IE\n  ];\n\n  function run_inline_js() {\n    if ((root.Bokeh !== undefined) || (force === true)) {\n      for (var i = 0; i < inline_js.length; i++) {\n        inline_js[i].call(root, root.Bokeh);\n      }} else if (Date.now() < root._bokeh_timeout) {\n      setTimeout(run_inline_js, 100);\n    } else if (!root._bokeh_failed_load) {\n      console.log(\"Bokeh: BokehJS failed to load within specified timeout.\");\n      root._bokeh_failed_load = true;\n    }\n  }\n\n  if (root._bokeh_is_loading === 0) {\n    console.debug(\"Bokeh: BokehJS loaded, going straight to plotting\");\n    run_inline_js();\n  } else {\n    load_libs(css_urls, js_urls, js_modules, function() {\n      console.debug(\"Bokeh: BokehJS plotting callback run at\", now());\n      run_inline_js();\n    });\n  }\n}(window));"
     },
     "metadata": {},
     "output_type": "display_data"
    },
    {
     "data": {
      "application/javascript": [
       "\n",
       "if ((window.PyViz === undefined) || (window.PyViz instanceof HTMLElement)) {\n",
       "  window.PyViz = {comms: {}, comm_status:{}, kernels:{}, receivers: {}, plot_index: []}\n",
       "}\n",
       "\n",
       "\n",
       "    function JupyterCommManager() {\n",
       "    }\n",
       "\n",
       "    JupyterCommManager.prototype.register_target = function(plot_id, comm_id, msg_handler) {\n",
       "      if (window.comm_manager || ((window.Jupyter !== undefined) && (Jupyter.notebook.kernel != null))) {\n",
       "        var comm_manager = window.comm_manager || Jupyter.notebook.kernel.comm_manager;\n",
       "        comm_manager.register_target(comm_id, function(comm) {\n",
       "          comm.on_msg(msg_handler);\n",
       "        });\n",
       "      } else if ((plot_id in window.PyViz.kernels) && (window.PyViz.kernels[plot_id])) {\n",
       "        window.PyViz.kernels[plot_id].registerCommTarget(comm_id, function(comm) {\n",
       "          comm.onMsg = msg_handler;\n",
       "        });\n",
       "      } else if (typeof google != 'undefined' && google.colab.kernel != null) {\n",
       "        google.colab.kernel.comms.registerTarget(comm_id, (comm) => {\n",
       "          var messages = comm.messages[Symbol.asyncIterator]();\n",
       "          function processIteratorResult(result) {\n",
       "            var message = result.value;\n",
       "            console.log(message)\n",
       "            var content = {data: message.data, comm_id};\n",
       "            var buffers = []\n",
       "            for (var buffer of message.buffers || []) {\n",
       "              buffers.push(new DataView(buffer))\n",
       "            }\n",
       "            var metadata = message.metadata || {};\n",
       "            var msg = {content, buffers, metadata}\n",
       "            msg_handler(msg);\n",
       "            return messages.next().then(processIteratorResult);\n",
       "          }\n",
       "          return messages.next().then(processIteratorResult);\n",
       "        })\n",
       "      }\n",
       "    }\n",
       "\n",
       "    JupyterCommManager.prototype.get_client_comm = function(plot_id, comm_id, msg_handler) {\n",
       "      if (comm_id in window.PyViz.comms) {\n",
       "        return window.PyViz.comms[comm_id];\n",
       "      } else if (window.comm_manager || ((window.Jupyter !== undefined) && (Jupyter.notebook.kernel != null))) {\n",
       "        var comm_manager = window.comm_manager || Jupyter.notebook.kernel.comm_manager;\n",
       "        var comm = comm_manager.new_comm(comm_id, {}, {}, {}, comm_id);\n",
       "        if (msg_handler) {\n",
       "          comm.on_msg(msg_handler);\n",
       "        }\n",
       "      } else if ((plot_id in window.PyViz.kernels) && (window.PyViz.kernels[plot_id])) {\n",
       "        var comm = window.PyViz.kernels[plot_id].connectToComm(comm_id);\n",
       "        comm.open();\n",
       "        if (msg_handler) {\n",
       "          comm.onMsg = msg_handler;\n",
       "        }\n",
       "      } else if (typeof google != 'undefined' && google.colab.kernel != null) {\n",
       "        var comm_promise = google.colab.kernel.comms.open(comm_id)\n",
       "        comm_promise.then((comm) => {\n",
       "          window.PyViz.comms[comm_id] = comm;\n",
       "          if (msg_handler) {\n",
       "            var messages = comm.messages[Symbol.asyncIterator]();\n",
       "            function processIteratorResult(result) {\n",
       "              var message = result.value;\n",
       "              var content = {data: message.data};\n",
       "              var metadata = message.metadata || {comm_id};\n",
       "              var msg = {content, metadata}\n",
       "              msg_handler(msg);\n",
       "              return messages.next().then(processIteratorResult);\n",
       "            }\n",
       "            return messages.next().then(processIteratorResult);\n",
       "          }\n",
       "        }) \n",
       "        var sendClosure = (data, metadata, buffers, disposeOnDone) => {\n",
       "          return comm_promise.then((comm) => {\n",
       "            comm.send(data, metadata, buffers, disposeOnDone);\n",
       "          });\n",
       "        };\n",
       "        var comm = {\n",
       "          send: sendClosure\n",
       "        };\n",
       "      }\n",
       "      window.PyViz.comms[comm_id] = comm;\n",
       "      return comm;\n",
       "    }\n",
       "    window.PyViz.comm_manager = new JupyterCommManager();\n",
       "    \n",
       "\n",
       "\n",
       "var JS_MIME_TYPE = 'application/javascript';\n",
       "var HTML_MIME_TYPE = 'text/html';\n",
       "var EXEC_MIME_TYPE = 'application/vnd.holoviews_exec.v0+json';\n",
       "var CLASS_NAME = 'output';\n",
       "\n",
       "/**\n",
       " * Render data to the DOM node\n",
       " */\n",
       "function render(props, node) {\n",
       "  var div = document.createElement(\"div\");\n",
       "  var script = document.createElement(\"script\");\n",
       "  node.appendChild(div);\n",
       "  node.appendChild(script);\n",
       "}\n",
       "\n",
       "/**\n",
       " * Handle when a new output is added\n",
       " */\n",
       "function handle_add_output(event, handle) {\n",
       "  var output_area = handle.output_area;\n",
       "  var output = handle.output;\n",
       "  if ((output.data == undefined) || (!output.data.hasOwnProperty(EXEC_MIME_TYPE))) {\n",
       "    return\n",
       "  }\n",
       "  var id = output.metadata[EXEC_MIME_TYPE][\"id\"];\n",
       "  var toinsert = output_area.element.find(\".\" + CLASS_NAME.split(' ')[0]);\n",
       "  if (id !== undefined) {\n",
       "    var nchildren = toinsert.length;\n",
       "    var html_node = toinsert[nchildren-1].children[0];\n",
       "    html_node.innerHTML = output.data[HTML_MIME_TYPE];\n",
       "    var scripts = [];\n",
       "    var nodelist = html_node.querySelectorAll(\"script\");\n",
       "    for (var i in nodelist) {\n",
       "      if (nodelist.hasOwnProperty(i)) {\n",
       "        scripts.push(nodelist[i])\n",
       "      }\n",
       "    }\n",
       "\n",
       "    scripts.forEach( function (oldScript) {\n",
       "      var newScript = document.createElement(\"script\");\n",
       "      var attrs = [];\n",
       "      var nodemap = oldScript.attributes;\n",
       "      for (var j in nodemap) {\n",
       "        if (nodemap.hasOwnProperty(j)) {\n",
       "          attrs.push(nodemap[j])\n",
       "        }\n",
       "      }\n",
       "      attrs.forEach(function(attr) { newScript.setAttribute(attr.name, attr.value) });\n",
       "      newScript.appendChild(document.createTextNode(oldScript.innerHTML));\n",
       "      oldScript.parentNode.replaceChild(newScript, oldScript);\n",
       "    });\n",
       "    if (JS_MIME_TYPE in output.data) {\n",
       "      toinsert[nchildren-1].children[1].textContent = output.data[JS_MIME_TYPE];\n",
       "    }\n",
       "    output_area._hv_plot_id = id;\n",
       "    if ((window.Bokeh !== undefined) && (id in Bokeh.index)) {\n",
       "      window.PyViz.plot_index[id] = Bokeh.index[id];\n",
       "    } else {\n",
       "      window.PyViz.plot_index[id] = null;\n",
       "    }\n",
       "  } else if (output.metadata[EXEC_MIME_TYPE][\"server_id\"] !== undefined) {\n",
       "    var bk_div = document.createElement(\"div\");\n",
       "    bk_div.innerHTML = output.data[HTML_MIME_TYPE];\n",
       "    var script_attrs = bk_div.children[0].attributes;\n",
       "    for (var i = 0; i < script_attrs.length; i++) {\n",
       "      toinsert[toinsert.length - 1].childNodes[1].setAttribute(script_attrs[i].name, script_attrs[i].value);\n",
       "    }\n",
       "    // store reference to server id on output_area\n",
       "    output_area._bokeh_server_id = output.metadata[EXEC_MIME_TYPE][\"server_id\"];\n",
       "  }\n",
       "}\n",
       "\n",
       "/**\n",
       " * Handle when an output is cleared or removed\n",
       " */\n",
       "function handle_clear_output(event, handle) {\n",
       "  var id = handle.cell.output_area._hv_plot_id;\n",
       "  var server_id = handle.cell.output_area._bokeh_server_id;\n",
       "  if (((id === undefined) || !(id in PyViz.plot_index)) && (server_id !== undefined)) { return; }\n",
       "  var comm = window.PyViz.comm_manager.get_client_comm(\"hv-extension-comm\", \"hv-extension-comm\", function () {});\n",
       "  if (server_id !== null) {\n",
       "    comm.send({event_type: 'server_delete', 'id': server_id});\n",
       "    return;\n",
       "  } else if (comm !== null) {\n",
       "    comm.send({event_type: 'delete', 'id': id});\n",
       "  }\n",
       "  delete PyViz.plot_index[id];\n",
       "  if ((window.Bokeh !== undefined) & (id in window.Bokeh.index)) {\n",
       "    var doc = window.Bokeh.index[id].model.document\n",
       "    doc.clear();\n",
       "    const i = window.Bokeh.documents.indexOf(doc);\n",
       "    if (i > -1) {\n",
       "      window.Bokeh.documents.splice(i, 1);\n",
       "    }\n",
       "  }\n",
       "}\n",
       "\n",
       "/**\n",
       " * Handle kernel restart event\n",
       " */\n",
       "function handle_kernel_cleanup(event, handle) {\n",
       "  delete PyViz.comms[\"hv-extension-comm\"];\n",
       "  window.PyViz.plot_index = {}\n",
       "}\n",
       "\n",
       "/**\n",
       " * Handle update_display_data messages\n",
       " */\n",
       "function handle_update_output(event, handle) {\n",
       "  handle_clear_output(event, {cell: {output_area: handle.output_area}})\n",
       "  handle_add_output(event, handle)\n",
       "}\n",
       "\n",
       "function register_renderer(events, OutputArea) {\n",
       "  function append_mime(data, metadata, element) {\n",
       "    // create a DOM node to render to\n",
       "    var toinsert = this.create_output_subarea(\n",
       "    metadata,\n",
       "    CLASS_NAME,\n",
       "    EXEC_MIME_TYPE\n",
       "    );\n",
       "    this.keyboard_manager.register_events(toinsert);\n",
       "    // Render to node\n",
       "    var props = {data: data, metadata: metadata[EXEC_MIME_TYPE]};\n",
       "    render(props, toinsert[0]);\n",
       "    element.append(toinsert);\n",
       "    return toinsert\n",
       "  }\n",
       "\n",
       "  events.on('output_added.OutputArea', handle_add_output);\n",
       "  events.on('output_updated.OutputArea', handle_update_output);\n",
       "  events.on('clear_output.CodeCell', handle_clear_output);\n",
       "  events.on('delete.Cell', handle_clear_output);\n",
       "  events.on('kernel_ready.Kernel', handle_kernel_cleanup);\n",
       "\n",
       "  OutputArea.prototype.register_mime_type(EXEC_MIME_TYPE, append_mime, {\n",
       "    safe: true,\n",
       "    index: 0\n",
       "  });\n",
       "}\n",
       "\n",
       "if (window.Jupyter !== undefined) {\n",
       "  try {\n",
       "    var events = require('base/js/events');\n",
       "    var OutputArea = require('notebook/js/outputarea').OutputArea;\n",
       "    if (OutputArea.prototype.mime_types().indexOf(EXEC_MIME_TYPE) == -1) {\n",
       "      register_renderer(events, OutputArea);\n",
       "    }\n",
       "  } catch(err) {\n",
       "  }\n",
       "}\n"
      ],
      "application/vnd.holoviews_load.v0+json": "\nif ((window.PyViz === undefined) || (window.PyViz instanceof HTMLElement)) {\n  window.PyViz = {comms: {}, comm_status:{}, kernels:{}, receivers: {}, plot_index: []}\n}\n\n\n    function JupyterCommManager() {\n    }\n\n    JupyterCommManager.prototype.register_target = function(plot_id, comm_id, msg_handler) {\n      if (window.comm_manager || ((window.Jupyter !== undefined) && (Jupyter.notebook.kernel != null))) {\n        var comm_manager = window.comm_manager || Jupyter.notebook.kernel.comm_manager;\n        comm_manager.register_target(comm_id, function(comm) {\n          comm.on_msg(msg_handler);\n        });\n      } else if ((plot_id in window.PyViz.kernels) && (window.PyViz.kernels[plot_id])) {\n        window.PyViz.kernels[plot_id].registerCommTarget(comm_id, function(comm) {\n          comm.onMsg = msg_handler;\n        });\n      } else if (typeof google != 'undefined' && google.colab.kernel != null) {\n        google.colab.kernel.comms.registerTarget(comm_id, (comm) => {\n          var messages = comm.messages[Symbol.asyncIterator]();\n          function processIteratorResult(result) {\n            var message = result.value;\n            console.log(message)\n            var content = {data: message.data, comm_id};\n            var buffers = []\n            for (var buffer of message.buffers || []) {\n              buffers.push(new DataView(buffer))\n            }\n            var metadata = message.metadata || {};\n            var msg = {content, buffers, metadata}\n            msg_handler(msg);\n            return messages.next().then(processIteratorResult);\n          }\n          return messages.next().then(processIteratorResult);\n        })\n      }\n    }\n\n    JupyterCommManager.prototype.get_client_comm = function(plot_id, comm_id, msg_handler) {\n      if (comm_id in window.PyViz.comms) {\n        return window.PyViz.comms[comm_id];\n      } else if (window.comm_manager || ((window.Jupyter !== undefined) && (Jupyter.notebook.kernel != null))) {\n        var comm_manager = window.comm_manager || Jupyter.notebook.kernel.comm_manager;\n        var comm = comm_manager.new_comm(comm_id, {}, {}, {}, comm_id);\n        if (msg_handler) {\n          comm.on_msg(msg_handler);\n        }\n      } else if ((plot_id in window.PyViz.kernels) && (window.PyViz.kernels[plot_id])) {\n        var comm = window.PyViz.kernels[plot_id].connectToComm(comm_id);\n        comm.open();\n        if (msg_handler) {\n          comm.onMsg = msg_handler;\n        }\n      } else if (typeof google != 'undefined' && google.colab.kernel != null) {\n        var comm_promise = google.colab.kernel.comms.open(comm_id)\n        comm_promise.then((comm) => {\n          window.PyViz.comms[comm_id] = comm;\n          if (msg_handler) {\n            var messages = comm.messages[Symbol.asyncIterator]();\n            function processIteratorResult(result) {\n              var message = result.value;\n              var content = {data: message.data};\n              var metadata = message.metadata || {comm_id};\n              var msg = {content, metadata}\n              msg_handler(msg);\n              return messages.next().then(processIteratorResult);\n            }\n            return messages.next().then(processIteratorResult);\n          }\n        }) \n        var sendClosure = (data, metadata, buffers, disposeOnDone) => {\n          return comm_promise.then((comm) => {\n            comm.send(data, metadata, buffers, disposeOnDone);\n          });\n        };\n        var comm = {\n          send: sendClosure\n        };\n      }\n      window.PyViz.comms[comm_id] = comm;\n      return comm;\n    }\n    window.PyViz.comm_manager = new JupyterCommManager();\n    \n\n\nvar JS_MIME_TYPE = 'application/javascript';\nvar HTML_MIME_TYPE = 'text/html';\nvar EXEC_MIME_TYPE = 'application/vnd.holoviews_exec.v0+json';\nvar CLASS_NAME = 'output';\n\n/**\n * Render data to the DOM node\n */\nfunction render(props, node) {\n  var div = document.createElement(\"div\");\n  var script = document.createElement(\"script\");\n  node.appendChild(div);\n  node.appendChild(script);\n}\n\n/**\n * Handle when a new output is added\n */\nfunction handle_add_output(event, handle) {\n  var output_area = handle.output_area;\n  var output = handle.output;\n  if ((output.data == undefined) || (!output.data.hasOwnProperty(EXEC_MIME_TYPE))) {\n    return\n  }\n  var id = output.metadata[EXEC_MIME_TYPE][\"id\"];\n  var toinsert = output_area.element.find(\".\" + CLASS_NAME.split(' ')[0]);\n  if (id !== undefined) {\n    var nchildren = toinsert.length;\n    var html_node = toinsert[nchildren-1].children[0];\n    html_node.innerHTML = output.data[HTML_MIME_TYPE];\n    var scripts = [];\n    var nodelist = html_node.querySelectorAll(\"script\");\n    for (var i in nodelist) {\n      if (nodelist.hasOwnProperty(i)) {\n        scripts.push(nodelist[i])\n      }\n    }\n\n    scripts.forEach( function (oldScript) {\n      var newScript = document.createElement(\"script\");\n      var attrs = [];\n      var nodemap = oldScript.attributes;\n      for (var j in nodemap) {\n        if (nodemap.hasOwnProperty(j)) {\n          attrs.push(nodemap[j])\n        }\n      }\n      attrs.forEach(function(attr) { newScript.setAttribute(attr.name, attr.value) });\n      newScript.appendChild(document.createTextNode(oldScript.innerHTML));\n      oldScript.parentNode.replaceChild(newScript, oldScript);\n    });\n    if (JS_MIME_TYPE in output.data) {\n      toinsert[nchildren-1].children[1].textContent = output.data[JS_MIME_TYPE];\n    }\n    output_area._hv_plot_id = id;\n    if ((window.Bokeh !== undefined) && (id in Bokeh.index)) {\n      window.PyViz.plot_index[id] = Bokeh.index[id];\n    } else {\n      window.PyViz.plot_index[id] = null;\n    }\n  } else if (output.metadata[EXEC_MIME_TYPE][\"server_id\"] !== undefined) {\n    var bk_div = document.createElement(\"div\");\n    bk_div.innerHTML = output.data[HTML_MIME_TYPE];\n    var script_attrs = bk_div.children[0].attributes;\n    for (var i = 0; i < script_attrs.length; i++) {\n      toinsert[toinsert.length - 1].childNodes[1].setAttribute(script_attrs[i].name, script_attrs[i].value);\n    }\n    // store reference to server id on output_area\n    output_area._bokeh_server_id = output.metadata[EXEC_MIME_TYPE][\"server_id\"];\n  }\n}\n\n/**\n * Handle when an output is cleared or removed\n */\nfunction handle_clear_output(event, handle) {\n  var id = handle.cell.output_area._hv_plot_id;\n  var server_id = handle.cell.output_area._bokeh_server_id;\n  if (((id === undefined) || !(id in PyViz.plot_index)) && (server_id !== undefined)) { return; }\n  var comm = window.PyViz.comm_manager.get_client_comm(\"hv-extension-comm\", \"hv-extension-comm\", function () {});\n  if (server_id !== null) {\n    comm.send({event_type: 'server_delete', 'id': server_id});\n    return;\n  } else if (comm !== null) {\n    comm.send({event_type: 'delete', 'id': id});\n  }\n  delete PyViz.plot_index[id];\n  if ((window.Bokeh !== undefined) & (id in window.Bokeh.index)) {\n    var doc = window.Bokeh.index[id].model.document\n    doc.clear();\n    const i = window.Bokeh.documents.indexOf(doc);\n    if (i > -1) {\n      window.Bokeh.documents.splice(i, 1);\n    }\n  }\n}\n\n/**\n * Handle kernel restart event\n */\nfunction handle_kernel_cleanup(event, handle) {\n  delete PyViz.comms[\"hv-extension-comm\"];\n  window.PyViz.plot_index = {}\n}\n\n/**\n * Handle update_display_data messages\n */\nfunction handle_update_output(event, handle) {\n  handle_clear_output(event, {cell: {output_area: handle.output_area}})\n  handle_add_output(event, handle)\n}\n\nfunction register_renderer(events, OutputArea) {\n  function append_mime(data, metadata, element) {\n    // create a DOM node to render to\n    var toinsert = this.create_output_subarea(\n    metadata,\n    CLASS_NAME,\n    EXEC_MIME_TYPE\n    );\n    this.keyboard_manager.register_events(toinsert);\n    // Render to node\n    var props = {data: data, metadata: metadata[EXEC_MIME_TYPE]};\n    render(props, toinsert[0]);\n    element.append(toinsert);\n    return toinsert\n  }\n\n  events.on('output_added.OutputArea', handle_add_output);\n  events.on('output_updated.OutputArea', handle_update_output);\n  events.on('clear_output.CodeCell', handle_clear_output);\n  events.on('delete.Cell', handle_clear_output);\n  events.on('kernel_ready.Kernel', handle_kernel_cleanup);\n\n  OutputArea.prototype.register_mime_type(EXEC_MIME_TYPE, append_mime, {\n    safe: true,\n    index: 0\n  });\n}\n\nif (window.Jupyter !== undefined) {\n  try {\n    var events = require('base/js/events');\n    var OutputArea = require('notebook/js/outputarea').OutputArea;\n    if (OutputArea.prototype.mime_types().indexOf(EXEC_MIME_TYPE) == -1) {\n      register_renderer(events, OutputArea);\n    }\n  } catch(err) {\n  }\n}\n"
     },
     "metadata": {},
     "output_type": "display_data"
    },
    {
     "data": {
      "text/html": [
       "<style>.bk-root, .bk-root .bk:before, .bk-root .bk:after {\n",
       "  font-family: var(--jp-ui-font-size1);\n",
       "  font-size: var(--jp-ui-font-size1);\n",
       "  color: var(--jp-ui-font-color1);\n",
       "}\n",
       "</style>"
      ]
     },
     "metadata": {},
     "output_type": "display_data"
    }
   ],
   "source": [
    "import panel as pn  # GUI\n",
    "pn.extension()\n",
    "\n",
    "panels = [] # collect display\n",
    "\n",
    "context = [ {'role':'system', 'content':\"\"\"\n",
    "You are Dungeon Master, playing a character named Ostler Gundigoot, the innkeeper. \\\n",
    "You first greet the player, then ask them where they would like to go in the village of Hommlet, \\\n",
    "and then asks if they plan to stay or take it in a picnic basket. \\\n",
    "You wait to collect the entire order, then summarize it and check for a final \\\n",
    "time if the player wants to add anything else. \\\n",
    "If it's a picnic, you ask what color napkins they wowuld like. \\\n",
    "Finally you collect the payment.\\\n",
    "Make sure to clarify all options, extras and sizes to uniquely \\\n",
    "identify the item from the menu.\\\n",
    "You respond in a short, very conversational friendly style. \\\n",
    "The menu includes \\\n",
    "Beer\t2cp \\\n",
    "Beer, heavy 3ср \\\n",
    "Ale 4 ср \\\n",
    "Ale, spiced\t7cp \\\n",
    "Mead 1sp \\\n",
    "Mead, special brew  14cp \\\n",
    "Wine, table\t8ср \\\n",
    "Wine, Keoish golden 15 cp \\\n",
    "Wine, Sundish lilac 4sp \\\n",
    "Wine, Urnst white 5 sp \\\n",
    "Wine, Celene ruby   8sp \\\n",
    "Wine, Furyondian emerald pale\t1 gp \\\n",
    "Wine, Velunan fireamber 3 gp \\\n",
    "Brandy, local   5 sp \\\n",
    "Brandy, Keoish  8 gp \\\n",
    "Brandy, Urnst, aged 3 gp\n",
    "Liqueur, Ulek Elixir    5 gp \\\n",
    "\"\"\"} ]  # accumulate messages\n",
    "\n"
   ]
  },
  {
   "cell_type": "code",
   "execution_count": 24,
   "metadata": {
    "ExecuteTime": {
     "end_time": "2023-05-10T07:48:31.915497Z",
     "start_time": "2023-05-10T07:48:29.956298Z"
    }
   },
   "outputs": [
    {
     "data": {},
     "metadata": {},
     "output_type": "display_data"
    },
    {
     "data": {
      "application/vnd.holoviews_exec.v0+json": "",
      "text/html": [
       "<div id='1053'>\n",
       "  <div class=\"bk-root\" id=\"fca021e6-cc4f-4786-9993-0c1eb0562b0d\" data-root-id=\"1053\"></div>\n",
       "</div>\n",
       "<script type=\"application/javascript\">(function(root) {\n",
       "  function embed_document(root) {\n",
       "    var docs_json = {\"5b174ae5-e328-453e-bd6b-8b62151a00ce\":{\"defs\":[{\"extends\":null,\"module\":null,\"name\":\"ReactiveHTML1\",\"overrides\":[],\"properties\":[]},{\"extends\":null,\"module\":null,\"name\":\"FlexBox1\",\"overrides\":[],\"properties\":[{\"default\":\"flex-start\",\"kind\":null,\"name\":\"align_content\"},{\"default\":\"flex-start\",\"kind\":null,\"name\":\"align_items\"},{\"default\":\"row\",\"kind\":null,\"name\":\"flex_direction\"},{\"default\":\"wrap\",\"kind\":null,\"name\":\"flex_wrap\"},{\"default\":\"flex-start\",\"kind\":null,\"name\":\"justify_content\"}]},{\"extends\":null,\"module\":null,\"name\":\"GridStack1\",\"overrides\":[],\"properties\":[{\"default\":\"warn\",\"kind\":null,\"name\":\"mode\"},{\"default\":null,\"kind\":null,\"name\":\"ncols\"},{\"default\":null,\"kind\":null,\"name\":\"nrows\"},{\"default\":true,\"kind\":null,\"name\":\"allow_resize\"},{\"default\":true,\"kind\":null,\"name\":\"allow_drag\"},{\"default\":[],\"kind\":null,\"name\":\"state\"}]},{\"extends\":null,\"module\":null,\"name\":\"click1\",\"overrides\":[],\"properties\":[{\"default\":\"\",\"kind\":null,\"name\":\"terminal_output\"},{\"default\":\"\",\"kind\":null,\"name\":\"debug_name\"},{\"default\":0,\"kind\":null,\"name\":\"clears\"}]},{\"extends\":null,\"module\":null,\"name\":\"NotificationAreaBase1\",\"overrides\":[],\"properties\":[{\"default\":\"bottom-right\",\"kind\":null,\"name\":\"position\"},{\"default\":0,\"kind\":null,\"name\":\"_clear\"}]},{\"extends\":null,\"module\":null,\"name\":\"NotificationArea1\",\"overrides\":[],\"properties\":[{\"default\":[],\"kind\":null,\"name\":\"notifications\"},{\"default\":\"bottom-right\",\"kind\":null,\"name\":\"position\"},{\"default\":0,\"kind\":null,\"name\":\"_clear\"},{\"default\":[{\"background\":\"#ffc107\",\"icon\":{\"className\":\"fas fa-exclamation-triangle\",\"color\":\"white\",\"tagName\":\"i\"},\"type\":\"warning\"},{\"background\":\"#007bff\",\"icon\":{\"className\":\"fas fa-info-circle\",\"color\":\"white\",\"tagName\":\"i\"},\"type\":\"info\"}],\"kind\":null,\"name\":\"types\"}]},{\"extends\":null,\"module\":null,\"name\":\"Notification\",\"overrides\":[],\"properties\":[{\"default\":null,\"kind\":null,\"name\":\"background\"},{\"default\":3000,\"kind\":null,\"name\":\"duration\"},{\"default\":null,\"kind\":null,\"name\":\"icon\"},{\"default\":\"\",\"kind\":null,\"name\":\"message\"},{\"default\":null,\"kind\":null,\"name\":\"notification_type\"},{\"default\":false,\"kind\":null,\"name\":\"_destroyed\"}]},{\"extends\":null,\"module\":null,\"name\":\"TemplateActions1\",\"overrides\":[],\"properties\":[{\"default\":0,\"kind\":null,\"name\":\"open_modal\"},{\"default\":0,\"kind\":null,\"name\":\"close_modal\"}]},{\"extends\":null,\"module\":null,\"name\":\"MaterialTemplateActions1\",\"overrides\":[],\"properties\":[{\"default\":0,\"kind\":null,\"name\":\"open_modal\"},{\"default\":0,\"kind\":null,\"name\":\"close_modal\"}]}],\"roots\":{\"references\":[{\"attributes\":{\"css_classes\":[\"markdown\"],\"margin\":[5,5,5,5],\"name\":\"Markdown00110\",\"width\":600},\"id\":\"1061\",\"type\":\"panel.models.markup.HTML\"},{\"attributes\":{\"children\":[{\"id\":\"1072\"},{\"id\":\"1073\"}],\"margin\":[0,0,0,0],\"name\":\"Row00150\"},\"id\":\"1071\",\"type\":\"Row\"},{\"attributes\":{\"css_classes\":[\"markdown\"],\"margin\":[5,5,5,5],\"name\":\"Markdown00177\",\"text\":\"&lt;p&gt;Assistant:&lt;/p&gt;\"},\"id\":\"1081\",\"type\":\"panel.models.markup.HTML\"},{\"attributes\":{\"css_classes\":[\"markdown\"],\"margin\":[5,5,5,5],\"name\":\"Markdown00146\",\"width\":600},\"id\":\"1073\",\"type\":\"panel.models.markup.HTML\"},{\"attributes\":{\"css_classes\":[\"markdown\"],\"margin\":[5,5,5,5],\"name\":\"Markdown00170\",\"width\":600},\"id\":\"1079\",\"type\":\"panel.models.markup.HTML\"},{\"attributes\":{\"children\":[{\"id\":\"1063\"},{\"id\":\"1064\"}],\"margin\":[0,0,0,0],\"name\":\"Row00119\"},\"id\":\"1062\",\"type\":\"Row\"},{\"attributes\":{\"children\":[{\"id\":\"1081\"},{\"id\":\"1082\"}],\"margin\":[0,0,0,0],\"name\":\"Row00179\"},\"id\":\"1080\",\"type\":\"Row\"},{\"attributes\":{\"css_classes\":[\"markdown\"],\"margin\":[5,5,5,5],\"name\":\"Markdown00148\",\"text\":\"&lt;p&gt;User:&lt;/p&gt;\"},\"id\":\"1072\",\"type\":\"panel.models.markup.HTML\"},{\"attributes\":{\"css_classes\":[\"markdown\"],\"margin\":[5,5,5,5],\"name\":\"Markdown00117\",\"text\":\"&lt;p&gt;Assistant:&lt;/p&gt;\"},\"id\":\"1063\",\"type\":\"panel.models.markup.HTML\"},{\"attributes\":{\"css_classes\":[\"markdown\"],\"margin\":[5,5,5,5],\"name\":\"Markdown00131\",\"style\":{\"background-color\":\"#F6F6F6\"},\"text\":\"&lt;p&gt;Good evening to you too! How can I assist you today? Are you looking for a room or would you like to order something from our menu?&lt;/p&gt;\",\"width\":600},\"id\":\"1070\",\"type\":\"panel.models.markup.HTML\"},{\"attributes\":{\"css_classes\":[\"markdown\"],\"margin\":[5,5,5,5],\"name\":\"Markdown00151\",\"style\":{\"background-color\":\"#F6F6F6\"},\"text\":\"&lt;p&gt;Sure, here&amp;rsquo;s our menu:&lt;/p&gt;\\n&lt;ul&gt;\\n&lt;li&gt;Beer (2cp)&lt;/li&gt;\\n&lt;li&gt;Heavy Beer (3cp)&lt;/li&gt;\\n&lt;li&gt;Ale (4cp)&lt;/li&gt;\\n&lt;li&gt;Spiced Ale (7cp)&lt;/li&gt;\\n&lt;li&gt;Mead (1sp)&lt;/li&gt;\\n&lt;li&gt;Special Brew Mead (14cp)&lt;/li&gt;\\n&lt;li&gt;Table Wine (8cp)&lt;/li&gt;\\n&lt;li&gt;Keoish Golden Wine (15cp)&lt;/li&gt;\\n&lt;li&gt;Sundish Lilac Wine (4sp)&lt;/li&gt;\\n&lt;li&gt;Urnst White Wine (5sp)&lt;/li&gt;\\n&lt;li&gt;Celene Ruby Wine (8sp)&lt;/li&gt;\\n&lt;li&gt;Furyondian Emerald Pale Wine (1gp)&lt;/li&gt;\\n&lt;li&gt;Velunan Fireamber Wine (3gp)&lt;/li&gt;\\n&lt;li&gt;Local Brandy (5sp)&lt;/li&gt;\\n&lt;li&gt;Keoish Brandy (8gp)&lt;/li&gt;\\n&lt;li&gt;Urnst Aged Brandy (3gp)&lt;/li&gt;\\n&lt;li&gt;Ulek Elixir Liqueur (5gp)&lt;/li&gt;\\n&lt;/ul&gt;\\n&lt;p&gt;What would you like to order?&lt;/p&gt;\",\"width\":600},\"id\":\"1076\",\"type\":\"panel.models.markup.HTML\"},{\"attributes\":{\"children\":[{\"id\":\"1059\"},{\"id\":\"1062\"},{\"id\":\"1065\"},{\"id\":\"1068\"},{\"id\":\"1071\"},{\"id\":\"1074\"},{\"id\":\"1077\"},{\"id\":\"1080\"}],\"margin\":[0,0,0,0],\"name\":\"Column00180\"},\"id\":\"1058\",\"type\":\"Column\"},{\"attributes\":{\"children\":[{\"id\":\"1058\"}],\"height\":300,\"margin\":[0,0,0,0],\"min_height\":300,\"name\":\"Row00168\"},\"id\":\"1057\",\"type\":\"Row\"},{\"attributes\":{\"args\":{\"bidirectional\":false,\"properties\":{\"event:button_click\":\"loading\"},\"source\":{\"id\":\"1056\"},\"target\":{\"id\":\"1057\"}},\"code\":\"\\n    if ('event:button_click'.startsWith('event:')) {\\n      var value = true\\n    } else {\\n      var value = source['event:button_click'];\\n      value = value;\\n    }\\n    if (typeof value !== 'boolean' || source.labels !== ['Loading']) {\\n      value = true\\n    }\\n    var css_classes = target.css_classes.slice()\\n    var loading_css = ['pn-loading', 'arc']\\n    if (value) {\\n      for (var css of loading_css) {\\n        if (!(css in css_classes)) {\\n          css_classes.push(css)\\n        }\\n      }\\n    } else {\\n     for (var css of loading_css) {\\n        var index = css_classes.indexOf(css)\\n        if (index > -1) {\\n          css_classes.splice(index, 1)\\n        }\\n      }\\n    }\\n    target['css_classes'] = css_classes\\n    \",\"tags\":[[5791372480,[null,\"event:button_click\"],[null,\"loading\"]]]},\"id\":\"1083\",\"type\":\"CustomJS\"},{\"attributes\":{\"css_classes\":[\"markdown\"],\"margin\":[5,5,5,5],\"name\":\"Markdown00133\",\"text\":\"&lt;p&gt;Assistant:&lt;/p&gt;\"},\"id\":\"1069\",\"type\":\"panel.models.markup.HTML\"},{\"attributes\":{\"children\":[{\"id\":\"1066\"},{\"id\":\"1067\"}],\"margin\":[0,0,0,0],\"name\":\"Row00130\"},\"id\":\"1065\",\"type\":\"Row\"},{\"attributes\":{\"children\":[{\"id\":\"1056\"}],\"margin\":[0,0,0,0],\"name\":\"Row00163\"},\"id\":\"1055\",\"type\":\"Row\"},{\"attributes\":{\"css_classes\":[\"markdown\"],\"margin\":[5,5,5,5],\"name\":\"Markdown00153\",\"text\":\"&lt;p&gt;Assistant:&lt;/p&gt;\"},\"id\":\"1075\",\"type\":\"panel.models.markup.HTML\"},{\"attributes\":{\"icon\":null,\"js_event_callbacks\":{\"button_click\":[{\"id\":\"1083\"}]},\"label\":\"Chat!\",\"margin\":[5,10,5,10],\"subscribed_events\":[\"button_click\"]},\"id\":\"1056\",\"type\":\"Button\"},{\"attributes\":{\"css_classes\":[\"markdown\"],\"margin\":[5,5,5,5],\"name\":\"Markdown00175\",\"style\":{\"background-color\":\"#F6F6F6\"},\"text\":\"&lt;p&gt;Great! What can I get for you?&lt;/p&gt;\",\"width\":600},\"id\":\"1082\",\"type\":\"panel.models.markup.HTML\"},{\"attributes\":{\"children\":[{\"id\":\"1078\"},{\"id\":\"1079\"}],\"margin\":[0,0,0,0],\"name\":\"Row00174\"},\"id\":\"1077\",\"type\":\"Row\"},{\"attributes\":{\"margin\":[5,10,5,10],\"max_length\":5000,\"placeholder\":\"Enter text here\\u2026\"},\"id\":\"1054\",\"type\":\"TextInput\"},{\"attributes\":{\"children\":[{\"id\":\"1075\"},{\"id\":\"1076\"}],\"margin\":[0,0,0,0],\"name\":\"Row00155\"},\"id\":\"1074\",\"type\":\"Row\"},{\"attributes\":{\"css_classes\":[\"markdown\"],\"margin\":[5,5,5,5],\"name\":\"Markdown00115\",\"style\":{\"background-color\":\"#F6F6F6\"},\"text\":\"&lt;p&gt;Hello there! Welcome to my inn. What can I get for you today? Are you looking to stay or take your order to go in a picnic basket? And where in the village of Hommlet would you like to go?&lt;/p&gt;\\n&lt;p&gt;Here&amp;rsquo;s our menu:&lt;/p&gt;\\n&lt;ul&gt;\\n&lt;li&gt;Beer (2cp)&lt;/li&gt;\\n&lt;li&gt;Heavy Beer (3cp)&lt;/li&gt;\\n&lt;li&gt;Ale (4cp)&lt;/li&gt;\\n&lt;li&gt;Spiced Ale (7cp)&lt;/li&gt;\\n&lt;li&gt;Mead (1sp)&lt;/li&gt;\\n&lt;li&gt;Special Brew Mead (14cp)&lt;/li&gt;\\n&lt;li&gt;Table Wine (8cp)&lt;/li&gt;\\n&lt;li&gt;Keoish Golden Wine (15cp)&lt;/li&gt;\\n&lt;li&gt;Sundish Lilac Wine (4sp)&lt;/li&gt;\\n&lt;li&gt;Urnst White Wine (5sp)&lt;/li&gt;\\n&lt;li&gt;Celene Ruby Wine (8sp)&lt;/li&gt;\\n&lt;li&gt;Furyondian Emerald Pale Wine (1gp)&lt;/li&gt;\\n&lt;li&gt;Velunan Fireamber Wine (3gp)&lt;/li&gt;\\n&lt;li&gt;Local Brandy (5sp)&lt;/li&gt;\\n&lt;li&gt;Keoish Brandy (8gp)&lt;/li&gt;\\n&lt;li&gt;Urnst Aged Brandy (3gp)&lt;/li&gt;\\n&lt;li&gt;Ulek Elixir Liqueur (5gp)&lt;/li&gt;\\n&lt;/ul&gt;\\n&lt;p&gt;Let me know what you&amp;rsquo;d like, and if it&amp;rsquo;s a picnic, what color napkins you prefer. And don&amp;rsquo;t forget to let me know if you&amp;rsquo;d like to add anything else. Once we have your complete order, I&amp;rsquo;ll collect the payment.&lt;/p&gt;\",\"width\":600},\"id\":\"1064\",\"type\":\"panel.models.markup.HTML\"},{\"attributes\":{\"css_classes\":[\"markdown\"],\"margin\":[5,5,5,5],\"name\":\"Markdown00128\",\"text\":\"&lt;p&gt;User:&lt;/p&gt;\"},\"id\":\"1066\",\"type\":\"panel.models.markup.HTML\"},{\"attributes\":{\"client_comm_id\":\"893035dc6ffd43f6bad972c11b1fecf5\",\"comm_id\":\"6da5c0c656a9460db5b476a5f97c7fa0\",\"plot_id\":\"1053\"},\"id\":\"1084\",\"type\":\"panel.models.comm_manager.CommManager\"},{\"attributes\":{\"children\":[{\"id\":\"1054\"},{\"id\":\"1055\"},{\"id\":\"1057\"}],\"margin\":[0,0,0,0],\"name\":\"Column00182\"},\"id\":\"1053\",\"type\":\"Column\"},{\"attributes\":{\"children\":[{\"id\":\"1060\"},{\"id\":\"1061\"}],\"margin\":[0,0,0,0],\"name\":\"Row00114\"},\"id\":\"1059\",\"type\":\"Row\"},{\"attributes\":{\"css_classes\":[\"markdown\"],\"margin\":[5,5,5,5],\"name\":\"Markdown00126\",\"text\":\"&lt;p&gt;Good evening good sir&lt;/p&gt;\",\"width\":600},\"id\":\"1067\",\"type\":\"panel.models.markup.HTML\"},{\"attributes\":{\"children\":[{\"id\":\"1069\"},{\"id\":\"1070\"}],\"margin\":[0,0,0,0],\"name\":\"Row00135\"},\"id\":\"1068\",\"type\":\"Row\"},{\"attributes\":{\"css_classes\":[\"markdown\"],\"margin\":[5,5,5,5],\"name\":\"Markdown00112\",\"text\":\"&lt;p&gt;User:&lt;/p&gt;\"},\"id\":\"1060\",\"type\":\"panel.models.markup.HTML\"},{\"attributes\":{\"css_classes\":[\"markdown\"],\"margin\":[5,5,5,5],\"name\":\"Markdown00172\",\"text\":\"&lt;p&gt;User:&lt;/p&gt;\"},\"id\":\"1078\",\"type\":\"panel.models.markup.HTML\"}],\"root_ids\":[\"1053\",\"1084\"]},\"title\":\"Bokeh Application\",\"version\":\"2.4.3\"}};\n",
       "    var render_items = [{\"docid\":\"5b174ae5-e328-453e-bd6b-8b62151a00ce\",\"root_ids\":[\"1053\"],\"roots\":{\"1053\":\"fca021e6-cc4f-4786-9993-0c1eb0562b0d\"}}];\n",
       "    root.Bokeh.embed.embed_items_notebook(docs_json, render_items);\n",
       "    for (const render_item of render_items) {\n",
       "      for (const root_id of render_item.root_ids) {\n",
       "\tconst id_el = document.getElementById(root_id)\n",
       "\tif (id_el.children.length && (id_el.children[0].className === 'bk-root')) {\n",
       "\t  const root_el = id_el.children[0]\n",
       "\t  root_el.id = root_el.id + '-rendered'\n",
       "\t}\n",
       "      }\n",
       "    }\n",
       "  }\n",
       "  if (root.Bokeh !== undefined && root.Bokeh.Panel !== undefined) {\n",
       "    embed_document(root);\n",
       "  } else {\n",
       "    var attempts = 0;\n",
       "    var timer = setInterval(function(root) {\n",
       "      if (root.Bokeh !== undefined && root.Bokeh.Panel !== undefined) {\n",
       "        clearInterval(timer);\n",
       "        embed_document(root);\n",
       "      } else if (document.readyState == \"complete\") {\n",
       "        attempts++;\n",
       "        if (attempts > 200) {\n",
       "          clearInterval(timer);\n",
       "          console.log(\"Bokeh: ERROR: Unable to run BokehJS code because BokehJS library is missing\");\n",
       "        }\n",
       "      }\n",
       "    }, 25, root)\n",
       "  }\n",
       "})(window);</script>"
      ],
      "text/plain": [
       "Column\n",
       "    [0] TextInput(placeholder='Enter text here…')\n",
       "    [1] Row\n",
       "        [0] Button(name='Chat!')\n",
       "    [2] ParamFunction(function, _pane=Column, height=300, loading_indicator=True)"
      ]
     },
     "execution_count": 24,
     "metadata": {
      "application/vnd.holoviews_exec.v0+json": {
       "id": "1053"
      }
     },
     "output_type": "execute_result"
    }
   ],
   "source": [
    "\n",
    "inp = pn.widgets.TextInput(value=\"Hi\", placeholder='Enter text here…')\n",
    "button_conversation = pn.widgets.Button(name=\"Chat!\")\n",
    "\n",
    "interactive_conversation = pn.bind(collect_messages, button_conversation)\n",
    "\n",
    "dashboard = pn.Column(\n",
    "    inp,\n",
    "    pn.Row(button_conversation),\n",
    "    pn.panel(interactive_conversation, loading_indicator=True, height=300),\n",
    ")\n",
    "\n",
    "dashboard"
   ]
  },
  {
   "cell_type": "code",
   "execution_count": 26,
   "metadata": {},
   "outputs": [
    {
     "name": "stdout",
     "output_type": "stream",
     "text": [
      "Here's a JSON summary of the previous bar order:\n",
      "\n",
      "```\n",
      "{\n",
      "  \"order\": [\n",
      "    {\n",
      "      \"drink\": \"Spiced Ale\",\n",
      "      \"type\": \"ale\",\n",
      "      \"size\": \"regular\",\n",
      "      \"price\": 4\n",
      "    },\n",
      "    {\n",
      "      \"drink\": \"Keoish Brandy\",\n",
      "      \"type\": \"brandy\",\n",
      "      \"size\": \"regular\",\n",
      "      \"price\": 8\n",
      "    },\n",
      "    {\n",
      "      \"drink\": \"Velunan Fireamber Wine\",\n",
      "      \"type\": \"wine\",\n",
      "      \"size\": \"regular\",\n",
      "      \"price\": 3\n",
      "    }\n",
      "  ],\n",
      "  \"napkins\": \"yellow\",\n",
      "  \"total_price\": 15\n",
      "}\n",
      "```\n",
      "\n",
      "The `order` field contains an array of objects, each representing a drink that was ordered. Each object has a `drink` field that includes the name of the drink and its size (if applicable), a `type` field that specifies the type of drink, and a `price` field that indicates the total price of the drink.\n",
      "\n",
      "The `napkins` field indicates the color of the napkins that were requested.\n",
      "\n",
      "The `total_price` field indicates the total price of the order, including all drinks and any additional items (such as napkins).\n"
     ]
    }
   ],
   "source": [
    "messages =  context.copy()\n",
    "messages.append(\n",
    "{'role':'system', 'content':'create a json summary of the previous bar order. Itemize the price for each item\\\n",
    " The fields should be 1) drink, include size 2) the type of drink 3) total price '},\n",
    ")\n",
    "\n",
    "\n",
    "response = get_completion_from_messages(messages, temperature=0)\n",
    "print(response)"
   ]
  },
  {
   "cell_type": "code",
   "execution_count": 6,
   "metadata": {
    "ExecuteTime": {
     "start_time": "2023-05-10T17:39:54.059439Z",
     "end_time": "2023-05-10T17:39:54.063845Z"
    }
   },
   "outputs": [],
   "source": [
    "church = f\"\"\"\n",
    "Canoness Ydey maintains this, the largest Temple in town.\n",
    "Theaged cleric was instrumental in the fall of the Temple of\n",
    "Elemental Evil and its completed defeat a few years later. Ydey\n",
    "suspects there was more to that Temple than she and her allies saw. She is aware that a great demon that lived\n",
    "within is gone now, but she spendswaking nights now\n",
    "and again wondering what \"elemental evil\" truly represented\n",
    "and what the truth behind the forces and funding of the\n",
    "Temple. (She was told then, and it is thought by others now,\n",
    "that a demonic tyrant of the nearby lands of Iuz controlled\n",
    "the Temple, but she personally finds that hard to believe.) No\n",
    "one can get in to see Y'dey without first speaking to Calmer,\n",
    "who casts detect Evil on any wishing audience.\n",
    "Calmer is Y'dey'S assistant and trusted friend. He is tall and\n",
    "well-built but will likely only advance in his\n",
    "current position. He is aware of this and has long since\n",
    "accepted it. Calmerisa friend of Spugnoir (see area 25).\n",
    "Terjon, the second-in-command, is an adventurer at heart.\n",
    "He prefers that Y'dey manage the Temple's affairs so that he\n",
    "can go on expeditions. About one-quarter of the time, he is\n",
    "off n a quest for something or other. He's eager to join good-aligned adventurers for a short-term mission but\n",
    "won't join a group that is obviously far less skilled than he.\n",
    "He questions any potential companions to ensure\n",
    "they are at least 5th level. Terjon is gruff, with dark brown\n",
    "hair and eyes. Most townsfolk do not care for him, preferring\n",
    "the softer touch of Y'dey or Calmer.\n",
    "New to the Temple, the acolyte Derim keeps quiet and\n",
    "observes, learning h e hierarchy of the church and, indeed, the town. His motives are o t sinister; he simply looks before\n",
    "he leaps. One day, Derim hopes to be the canon of his\n",
    "church and an influential leader in Hommlet.\n",
    "\"\"\""
   ]
  },
  {
   "cell_type": "code",
   "execution_count": 5,
   "outputs": [
    {
     "name": "stdout",
     "output_type": "stream",
     "text": [
      "As you approach the Church of St. Cuthbert, you see that it is the largest temple in town. The entrance is guarded by a man named Calmer, who will only allow visitors in if they first pass his detect evil spell. Within the temple, you will find Canoness Ydey, a respected and aged cleric who helped defeat the Temple of Elemental Evil years ago. Ydey is a bit of a mystery, as she suspects that there was more to that temple than what they saw. She wonders about the true nature of the \"elemental evil\" that they fought and the forces behind it. Ydey's assistant and friend, Calmer is a tall and well-built man who is content with his current position. The second-in-command here is Terjon, an adventurer at heart who prefers to leave the management of the temple to Ydey so that he can continue going on expeditions. Terjon is gruff and not well-liked by the townsfolk. Finally, there is Derim, a quiet acolyte who is new to the temple but hopes to one day become the canon of his church.\n"
     ]
    }
   ],
   "source": [
    "response = get_completion(prompt, temperature=1)\n",
    "print(response)"
   ],
   "metadata": {
    "collapsed": false,
    "ExecuteTime": {
     "start_time": "2023-05-10T17:38:18.677581Z",
     "end_time": "2023-05-10T17:38:24.843347Z"
    }
   }
  },
  {
   "cell_type": "code",
   "execution_count": 8,
   "outputs": [
    {
     "name": "stdout",
     "output_type": "stream",
     "text": [
      "As you enter the Church of St. Cuthbert, the dim light casts eerie shadows on the walls and ceiling. The pews are overturned and broken, some even set on fire. The stained-glass windows are shattered, filling the floor with colorful shards. The altar is desecrated, with symbols of dark power etched into the once holy wood. The smell of smoke and burnt flesh lingers in the air.\n",
      "\n",
      "You see a few figures moving about the wreckage, investigating the damage. Canoness Ydey is kneeling beside a burned tome, shaking her head in dismay. Calmer stands nearby, his face etched with concern. Terjon is nowhere to be seen, perhaps on one of his adventures. A young acolyte, Derim, is sweeping up broken glass and trying to make himself useful.\n",
      "\n",
      "As you approach, Ydey looks up at you with a mix of sadness and anger. \"We have been attacked by Doomdreamer priests,\" she explains. \"They seek to bring chaos and destruction to our town. We will not let them succeed. But we could use your help in tracking down these villains and stopping their evil plans.\" She looks around at the destruction, a determined glint in her eye. \"We will rebuild and we will prevail.\"\n"
     ]
    }
   ],
   "source": [
    "prompt = f\"\"\"\n",
    "As a dungeon master, describe the church of St. Cuthbert in the dim light just after it was attacked by a Doomdreamer priest.\n",
    "\n",
    "use the description in quotes \"{church}\" as context.\n",
    "\"\"\"\n",
    "response = get_completion(prompt, temperature=1)\n",
    "print(response)\n"
   ],
   "metadata": {
    "collapsed": false,
    "ExecuteTime": {
     "start_time": "2023-05-10T17:41:17.312225Z",
     "end_time": "2023-05-10T17:41:23.500167Z"
    }
   }
  },
  {
   "cell_type": "code",
   "execution_count": 12,
   "outputs": [
    {
     "name": "stdout",
     "output_type": "stream",
     "text": [
      "The road from Hommlet to the Nulb follows the small river that leads to the shores of the Myr Dyv. Along the way, travelers may come across remnants of a long-forgotten cult of chaotic evil that once flourished in the area. The cult believed that the elemental forces of the universe were chaotic and opposed to mankind, and sought to destroy all works of good and disrupt order. Their temple stronghold was a haven for thieves, assassins, brigands, and the like, and from there they would ride forth to rob, pillage, and lay waste to the lands thereabout. Captives from these raids were brought back to the temple to serve as human sacrifices or to slave their lives away in bondage. The temple was eventually besieged and fell, but rumors persist of a demon that took up abode in the deepest level to better receive sacrifices. Today, only the ruins of the temple remain as a reminder of the evil that once lurked along the river's edge.\n"
     ]
    }
   ],
   "source": [
    "prompt = f\"\"\"\n",
    "As a dungeon master, describe the a road from Hommlet that leads along a small river to the Nulb using the background in triple backticks.\n",
    "\n",
    "```\n",
    "{toe_gygax_1976}\n",
    "```\n",
    "\"\"\"\n",
    "\n",
    "response = get_completion(prompt, temperature=1)\n",
    "print(response)"
   ],
   "metadata": {
    "collapsed": false,
    "ExecuteTime": {
     "start_time": "2023-05-10T19:53:38.549329Z",
     "end_time": "2023-05-10T19:53:42.382241Z"
    }
   }
  },
  {
   "cell_type": "code",
   "execution_count": 13,
   "outputs": [
    {
     "name": "stdout",
     "output_type": "stream",
     "text": [
      "The road through the swamp leading to Nulb passes by an old moathouse that was once a stronghold of the chaotic evil cult. The moathouse lies abandoned now, but travelers on the road may still catch glimpses of the dark, foreboding structure as they pass by. The road itself is treacherous, with deep mud pits that can swallow up unsuspecting wagons, and dense fog that can disorient even the most seasoned adventurers. \n",
      "\n",
      "Despite its dangers, the road through the swamp is a popular shortcut, as it is significantly shorter in distance than the east road. There are some who even say that the road is cursed, that the spirits of the cultists who were killed in the siege still haunt its muddy stretches. Nevertheless, merchants and adventurers alike continue to brave the swamp, hoping to save time and reach their destination faster. \n",
      "\n",
      "At the end of the road lies the town of Nulb, a den of lawlessness and depravity. Here, the cult of chaotic evil still has a small but dedicated following, and its influence can be felt in the town's twisted morals and seedy establishments. The journey through the swamp may be dangerous, but for those who seek adventure and riches, it is a necessary risk.\n"
     ]
    }
   ],
   "source": [
    "prompt = f\"\"\"\n",
    "As a dungeon master, describe a road through a swamp that leads past an old moathouse and to Nulb that is shorter in distance than the east road.\n",
    "```\n",
    "{toe_gygax_1976}\n",
    "```\n",
    "\"\"\"\n",
    "\n",
    "response = get_completion(prompt, temperature=1)\n",
    "print(response)"
   ],
   "metadata": {
    "collapsed": false,
    "ExecuteTime": {
     "start_time": "2023-05-10T19:54:47.103442Z",
     "end_time": "2023-05-10T19:54:51.610173Z"
    }
   }
  },
  {
   "cell_type": "code",
   "execution_count": 14,
   "outputs": [],
   "source": [
    "inn_welcome_wench = f\"\"\"\n",
    "Oseltr Gundigoot (male human, Com6) opened the inn of o believe.) opened the Inn Welcome Wench shortly after the Battle of Emridy Meadows more than twenty years ago. In the old days, he was a ranking figure in the militia and general town administration. The Inn of the Welcome Wench grew in reputation as a place of great comfort and quality, but one whose patrons should expect to pay well for the excellent service and fine food and lodging.\n",
    "\n",
    "Nowadays, Ostler takes it easy. His heart is weak, and his daughter and wife attempt to shelter him from great excitement or surprises. Ostler's daughter Vestra runs the daily activities. She keeps the inn friendly and warm, making it a welcome dar brow and homey place.\n",
    "\n",
    "Maridosen, the barkeep, is actually an agent for the secret cult. This black-haired, pale-skinned woman has worked at the inn for two months and knows the town reasonably well. However, she is short-tempered, with little patience for small talk or looks before humor. Vesta will likely fire her within the next month, as she is too coarse for the inn's standards.\n",
    "\n",
    "Dining Hall\n",
    "Well-appointed, if a little old, this place is clean and quiet. The Information: Y'dey can identify the symbols of the\n",
    "clientele of the Welcome Wench are well-mannered folk who ple in to enjoy fine food and drink. Drunkards and louts are not welcome. They are dealt with by Maridosen or, if necessary, the active town militia.\n",
    "\n",
    "The menu at the Inn of the Welcome Wench is varied and\n",
    "filled with delights. Below are some representative offerings.\n",
    "\n",
    "Menu\n",
    "Boiled crawfish with drawn butter 4 sp\n",
    "Poached salmon 4 sp\n",
    "Spiced sausages 5 sp\n",
    "Stuffed pork chops 5 sp\n",
    "Stuffed trout 5sp\n",
    "(All meals are served with bread and honey, potatoes, string beans, yams, rum-boiled artichokes, cabbage, carrots, or spinach.)\n",
    "\n",
    "\"\"\"\n",
    "\n"
   ],
   "metadata": {
    "collapsed": false,
    "ExecuteTime": {
     "start_time": "2023-05-11T05:41:45.516720Z",
     "end_time": "2023-05-11T05:41:45.532218Z"
    }
   }
  },
  {
   "cell_type": "code",
   "execution_count": 18,
   "outputs": [
    {
     "name": "stdout",
     "output_type": "stream",
     "text": [
      "As the adventurers approach the Inn of the Welcome Wench, they see a sign swinging from a post above the door. Inside, they see a man sitting at a table near the door, greeting customers as they enter. This is Oseltr Gundigoot, the owner of the inn. Despite his age, he seems sharp and friendly.\n",
      "\n",
      "Behind the bar stands Maridosen, the barkeep. She is a striking woman with black hair and pale skin, but she appears to be in a perpetually bad mood. The adventurers can sense that she has little patience for small talk.\n",
      "\n",
      "As they look around, they see Vestra, Oseltr's daughter, darting from table to table, making sure that the patrons are comfortable and well-fed. She has a warm smile and seems to be the heart of the inn.\n",
      "\n",
      "Overall, the Inn of the Welcome Wench appears to be a cozy and welcoming place, filled with good food, good drink, and friendly company.\n"
     ]
    }
   ],
   "source": [
    "prompt = f\"\"\"\n",
    "As a dungeon master, introduce the characters of the Inn of the Welcome Wench.\n",
    "\n",
    "Use the text delimited by triple backticks.\n",
    "```{inn_welcome_wench}```\n",
    "\"\"\"\n",
    "\n",
    "\n",
    "response = get_completion(prompt, temperature=1)\n",
    "print(response)"
   ],
   "metadata": {
    "collapsed": false,
    "ExecuteTime": {
     "start_time": "2023-05-11T05:56:44.099174Z",
     "end_time": "2023-05-11T05:56:51.991745Z"
    }
   }
  },
  {
   "cell_type": "code",
   "execution_count": 22,
   "outputs": [],
   "source": [
    "moathouse = \"\"\"\n",
    "THE MOATHOUSE\n",
    "Now a ruined keep of small size, the moathouse has an exciting history of battles and monsters. It lies approximately ten miles east of Hommlet, on the road toward the deserted town of Nulb. An overgrown and rugged two miles long path leads off the main road to the moathouse.\n",
    "\n",
    "MOATHOUSE HISTORY\n",
    "When the Temple of Elemental Evil was built, this keep arose at the point where their evil influence reached the farthest west. It was a great deal of work because the area was wet and unstable. The builders had to drain the surrounding lands and dig down to the limestone to build a foundation (once they did, they allowed the water to return, channeling it into a moat around the fortress). The construction crews complained and whined, \"Why here?\"\n",
    "\n",
    "The reason is that this fortress is over the site of an ancient shrine to Tharizdun. In time-lost days, clerics of the Dark God erected a great obelisk within a natural cave to commune with their deity. Then, when Tharizdun was imprisoned, they sealed the cave and diverted a minor underground stream so that even if the top of the shaft leading down to the cave were discovered, it would appear to be a pool.\n",
    "\n",
    "The original master of the place was a cultist of the Dark God named Noustan. As a cleric of Zuggtmoy, he compelled the forces of Elemental Evil to build here. The moathouse served its purpose, but each time the forces of good struggled against Elemental Evil, this outpost was the last to fall. The first time, when the moathouse was still new, a pitched battle between two sizable forces tore gaping holes in the walls, destroying the mostly wooden sections of the main structure, and the place was looted. The second time, as the temple was rebuilding itself, a particularly devious and vile cleric named Lareth deBeautiful took control of the moathouse. Lareth commanded a small number of troops, primarily humans and bugbears, who occupied only the dungeon of the moathouse. Shrewd and opportunistic, Lareth professed to serve both Lloth and Zuggtmoy at various times but was actually a cleric ofTharizdun. He and his servants were slain by the small band of heroes who helped defeat the temple with the aid of locals such as Y'dey and Elmo (see Chapter 1: The Town of Hommlet).\n",
    "\n",
    "Since then, the moathouse has fallen even worse, and the dungeon has been relatively quiet except for the ghouls and ghasts. Unfortunately, these horrors are always present, no matter how many are destroyed (due to the influence of Tharizdun's shrine, but no one knows that). Occasionally Elmo comes out to the place just to make sure 1 is quiet, and Spugnoir (see area 25 in Chapter 1) sometimes explores a\n",
    "few rooms in the dungeon, looking for a magical treasure rumored to belong to Lareth. Over the years, even a few groups of adventurers have stopped by, but they consistently report what everyone else does-nothing new stirs in the moathouse. Until now.\n",
    "\n",
    "Delian, or \"ol' Del\" as he refers to himself, wanders the wilderness alone, trapping small animals for food and occasionally going to Hommlet to sell the pelts. The PCs encounter him on his way to town on the road or checking his traps in the wilderness. He's a friendly old guy, grizzled and dirty, usually with a bag full of pelts or dead animals on his shoulder. He doesn't get to talk to people much, so he's willing to chat.\n",
    "If the PCs say anything about the moathouse, Del responds, \"There's a dragon in there! Don't wanna be going there.\"\n",
    "Del saw Utreshimon, a blue dragon, about three days ago (the dragon took up residence in the moathouse the previous week). He has no idea if the dragon has anything to do with the clerics he saw - and it doesn't.\n",
    "\n",
    "If pressed for more information about the moathouse other than the dragon, he says: \"Some folks been pokin' in and outta that old place. Look like holy men to me, except they keep strange company.\"\n",
    "What Del saw was the clerics ofTharizdun who had been\n",
    "exploring and excavating the site for the past three months. The \"strange company\" are gnolls, which Del can identify because enough live in the area for him to be familiar with such creatures. Careful questioning reveals that the gnolls with the clerics were \"more like people\" than most. (Their armor, weapons, and clothing are in good shape and relatively uniform, having been supplied by the clerics.)\n",
    "\n",
    "Pressed even further, Del says: \"Even before, when that place was quieter, I wouldn't go in there. It's haunted.\"\n",
    "What Del saw were the ghouls that infest the moathouse. He doesn't know a ghoul from a zombie from a wight, but he can describe them as\"like dead people still walkin' around.\"\n",
    "\n",
    "The Dragon\n",
    "Utreshimon, a young blue dragon, found the moathouse\n",
    "about a week ago and moved in. Although a young blue is a Should the PCs decide to leave the road and explore their\n",
    "tough challenge for a low-level party, a few factors make the\n",
    "encounter less deadly. For one, the dragon's actions are hilly, rocky scrub, with the occasional moor in the damp low-\n",
    "limited because of the clerics and others in the dungeon lands between hills. A chance for hostile encounters exists\n",
    "below. It seems Utreshimon has them trapped, and he finds\n",
    "this dangerous area. Use the table below, checking once every 6 hours. The encounter level (EL) listed is the average\n",
    "that funny. She's also not terribly hungry, having already devoured a cleric.\n",
    "The Clerics\n",
    "It's been two months or more now since clerics of the Elder\n",
    "Elemental Eye, the doom-dreamer cult's more presentable\n",
    "delegates, moved secretly into the area around Hommlet.\n",
    "Although the cult's plans require using the Temple of Ele-\n",
    "mental Evil eventually, they concentrate\n",
    "on uncovering what their records show as an important old temple toTharizdun under the moathouse.\n",
    "Their operation here is almost finished. They've thoroughly explored the obelisk chamber (see area 32) and gathered relics they believe necessary.\n",
    "When the dragon arrived, the clerics attempted to destroy him. That mistake cost them dearly. Their leader is dead now, killed by Utreshimon. The other clerics are panicking. They've been trapped in the moathouse dungeon for three days.\n",
    "\n",
    "EVENTS DEVELOPMENT\n",
    "\n",
    "If the PCs defeat or drive off the dragon and then leave, the clerics can move about as they wish. However, they\n",
    "of the possible range of creatures encountered.\n",
    "\n",
    "Day Encounter\n",
    "Roll\t\tCreature\n",
    "01-60 \tNone\n",
    "61-70\t1d4 Wild dogs\n",
    "71-80 \t1d4 Giant Toads\n",
    "81-85\tGiant Constrictor Snake\n",
    "86-90\t1d4 brigands\n",
    "91-95\t1d4+1 hobgoblins\n",
    "96-100\tGiant crocodile\n",
    "\n",
    "Night Encounter\n",
    "Roll\t\tCreature\n",
    "01-40 \tNone\n",
    "41-60\t1d4 Will-o-wisps\n",
    "61-70\t1d4 Ghouls\n",
    "71-80 \t1d4 Ghouls and 1 Ghast\n",
    "81-85\tYeth Hound\n",
    "86-90\t1d4 brigands\n",
    "91-95\t1d4+1 hobgoblins\n",
    "96-100\tTroll\n",
    "\n",
    "Aside from such dangerous encounters, the PCs can see deer, badgers, snakes, quail, thrushes, blue jays, hawks, field mice, ground squirrels, and insects. However, when they get close to the moathouse, they encounter few animals of any size-a dragon has chased them away.\n",
    "\n",
    "\n",
    "\n",
    "\"\"\""
   ],
   "metadata": {
    "collapsed": false,
    "ExecuteTime": {
     "start_time": "2023-05-11T09:21:06.263250Z",
     "end_time": "2023-05-11T09:21:06.264334Z"
    }
   }
  },
  {
   "cell_type": "code",
   "execution_count": 26,
   "outputs": [
    {
     "name": "stdout",
     "output_type": "stream",
     "text": [
      "As you approach the Moathouse, you can hardly believe your eyes. What once stood as a ruined keep of small size has been rebuilt with astonishing craftsmanship. The walls have been mended, and the wooden sections have been replaced with sturdy stone. The moat, which once lay murky and stagnant, now sparkles in the sun, showing the care given to it. Although it seemed uninhabited, you notice the smoke rising from chimneys, indicating that someone calls the newly rebuilt Moathouse home.\n",
      "\n",
      "As you draw closer, you catch a glimpse of several figures. They are smaller than humans, with scales covering their bodies and snouts protruding from their faces. These are kobolds, and as you approach, they ready their weapons, wary of your intentions.\n",
      "\n",
      "After a brief standoff, a kobold steps forward. \"Hail, adventurers,\" she says. \"I am Ur'kan, servant of the Sapphire Countess. Who are you, and what brings you to the Moathouse?\"\n",
      "\n",
      "Ur'kan explains that the Sapphire Countess has claimed the Moathouse as her domain. She and her loyal followers, including the kobolds, have worked tirelessly to rebuild the keep, honoring its history while making it their own. The kobolds were tasked with overseeing the construction, and they take pride in its renewed splendor.\n",
      "\n",
      "If asked about the Sapphire Countess, Ur'kan explains that she is a powerful spellcaster who values loyalty and obedience above all else. She resides within the keep and rarely leaves, but her presence is felt throughout the area.\n",
      "\n",
      "It is up to the players to decide how to proceed with this newfound knowledge of the Moathouse and its inhabitants. Will they seek an audience with the Sapphire Countess or press on with their original mission? Only time will tell what adventures await within the walls of the Moathouse.\n"
     ]
    }
   ],
   "source": [
    "prompt = f\"\"\"\n",
    "As a dungeon master, introduce the Moathouse after it has been unexpectedly rebuilt with craftsman attention to detail\n",
    "by a group of kobolds for their mistress, the Sapphire Countess.\n",
    "\n",
    "Use the text delimited by triple backticks.\n",
    "```{moathouse}```\n",
    "\"\"\"\n",
    "\n",
    "\n",
    "response = get_completion(prompt, temperature=1)\n",
    "print(response)"
   ],
   "metadata": {
    "collapsed": false,
    "ExecuteTime": {
     "start_time": "2023-05-11T19:07:18.295557Z",
     "end_time": "2023-05-11T19:07:25.160179Z"
    }
   }
  },
  {
   "cell_type": "code",
   "execution_count": 32,
   "outputs": [],
   "source": [
    "moathouse_dungeon_upper = f\"\"\"\n",
    "Background\n",
    "When the Temple of Elemental Evil was built, this keep arose at the point where their evil influence reached the farthest west. It was a great deal of work because the area was wet and unstable. The builders had to drain the surrounding lands and dig down to the limestone to build a foundation (once they did, they allowed the water to return, channeling it into a moat around the fortress). The construction crews complained and whined, \"Why here?\"\n",
    "\n",
    "The reason is that this fortress is over the site of an ancient shrine to Tharizdun. In time-lost days, clerics of the Dark God erected a great obelisk within a natural cave to commune with their deity. Then, when Tharizdun was imprisoned, they sealed the cave and diverted a minor underground stream so that even if the top of the shaft leading down to the cave were discovered, it would appear to be a pool.\n",
    "\n",
    "Here are the rooms of the Moathouse Dungeon.\n",
    "\n",
    "21. Prison (EL 3)\n",
    "Littered with bones, broken stonework, and bits of rusty meat,l this area appears to have once been the real crux of the dungeon. Cell doors-some hanging open, some closed- line the west wall. Wide pillars stretch from floor to ceiling, with manacles dangling from them. Finally, you see a small wooden door in the north portion of the room and an archway in the eastern wall.\n",
    "\n",
    "A foul smell hangs in the air here.\n",
    "\n",
    "Creatures: A ghast hides behind one of the pillars (Hide - DC 10), waiting to leap out and attack as soon as possible. The stench of the undead horror might tip off wary adventurers, but most likely, they'll think it's just the dungeon's smell. Spawned by the utter corruption inherent in the obelisk's power (see area 32C), this creature obeys all commands from\n",
    "the clerics of the Elder Elemental Eye, recognizing the authority within them. It, in turn, commands any ghouls found in the dungeon.\n",
    "\n",
    "Ghast: hp 25; see MonsterManual page 97.\n",
    "Treasure: The cells hold nothing, and the debris on the floor is pretty old.\n",
    "\n",
    "22. Torture Chamber (EL 3)\n",
    "You see ruined devices of torture: a rack, an iron maiden, a brazier surrounded by discarded irons. The whole place is covered in cobwebs and dust.\n",
    "\n",
    "Inside a pillar is a well-hidden secret shaft (Search DC 25. The passage drops some 30 feet and has iron rungs set into the stonework for easy descent (Climb DC 0). Finally, a narrow tunnel leads to a hidden entrance into area 33.\n",
    "\n",
    "Creatures: Three ghouls wait for the ghast's orders. They move to attack if they hear sounds of combat or the horrid shriek of the ghast from area 21. Otherwise, they attack any living creature in the room other than a cleric of the Elder Elemental Eye.\n",
    "\n",
    "Ghouls (3): hp 10, 13, 14; see Monster Manual page 97.\n",
    "Treasure: One of the ghouls wears a gold ring worth 25 gp.\n",
    "\n",
    "23. Empty room\n",
    "Debris and trash cover this room as well. There's nothing else here besides a wooden door on the east.\n",
    "\n",
    "A successful Search (DC 18) reveals a path through the debris made by recent traffic.\n",
    "\n",
    "24. Excavated Relics (EL 4)\n",
    "This large room is mostly empty. In fact, it appears to have been swept clean. Some strange items lie on a white blanket spread out on the floor. Not far away, a lantern rests on the floor, lighting the room. The single door is on the south wall near where you came in.\n",
    "\n",
    "Creatures: Gren, a cleric of the Elder Elemental Eye, waits here with two black-capped gnoll bodyguards. Her job is to watch over this collection of relics uncovered in the cavern below (see area 32). The importance of these objects has impressed her, and she has sworn to defend them with her life if need be.\n",
    "\n",
    "Gren: Female human Clr2; hp 18; see Appendix .3\n",
    "Gnolls (2): hp 10, 12; 2d10 gp; see Monster Manual page 105.\n",
    "\n",
    "Tactics: Gren's most likely first move is to open the door\n",
    "into area 25 and command the skeletons there to attack. Although she fights to the death, the gnolls are not beyond trying to use the secret door to escape if events turn sour for them.\n",
    "\n",
    "Treasure: Laid out carefully on the white blanket are the following items:\n",
    "\n",
    "• An iron torch and three black cones. • A black scepter with violet gems.\n",
    "• A small black sphere.\n",
    "• A black metal tube.\n",
    "\n",
    "The torch is a torch of revealing, and the cones are its fuel(see Appendix 1.) The scepter is nonmagical but is worth 1,000 gp. The sphere is a bead of force. The tube holds a worm-ridden scroll covered with unfamiliar writing, and only comprehended languages spell can decipher it. The scroll provides information for accessing an extraplanar node of utter darkness called the BlackCyst. This ritual requires multiple wish spells,\n",
    "living sacrifices, other grisly components, and years of work.\n",
    "\n",
    "This foreshadows what the PCs find in Chapter 6: The Inner and Outer Fanes.\n",
    "\n",
    "25. Skeletons! (EL 3)\n",
    "Beyond the heavy oak door lies a smaller chamber containing little other than dust and cobwebs. The north wall bears a scrawled carving in Common: \"Death to all ogres.\"\n",
    "\n",
    "Creatures: The skeletons of six humans and a single massive ogre await the commands of the clerics who animated them. They attack anyone not wearing the triangle symbol of the Elder Elemental Eye. The human skeletons are still wearing tattered leather armor -- one also sports an old black cloak with a flaming eye symbol.\n",
    "\n",
    "Medium-Size Skeletons (6): hp 4, 5, 6, 6, 9, 10; see Monster Manual page 165.\n",
    "Ogre Skeleton: hp 22; see Monster Manual page 165.\n",
    "\n",
    "26. Portcullis\n",
    "An iron portcullis sits flush with the ceiling in the middle of this northwest-southeast hallway. Anyone rolling a successful Search (DC 20) finds it. When it drops, a character standing under the portcullis (see area 27) must succeed at a Reflex save (DC 15) or take 4d6 points of piercing damage. Then, the character is pinned and must make a successful Escape Artist or Strength check (DC 27) to get free.\n",
    "Portcullis: 2 inches thick; hardness 10; hp 60; AC 4; lift DC 27.\n",
    "\n",
    "26A. Secret Winch\n",
    "A winch behind the secret door raises the portcullis once dropped (see area 27).\n",
    "\n",
    "27. Trap (EL 1)\n",
    "The middle of the three doors here are false and cause the portcullis in area 26 to fall if opened. All the current inhabitants know about this trap and the winch in 26A that raises the portcullis. In fact, if they know powerful intruders are on their way, they trigger the trap intentionally.\n",
    "\n",
    "Portcullis Trap: CR 1; no attack roll required (drops portcullis in area 26); Search (DC 20); Disable Device (DC 20).\n",
    "\n",
    "28. Gnoll Lair (EL 5)\n",
    "This strangely shaped room has six very old-looking beds made of wood and padded with mattresses of straw. Clothes, armor pieces, and weapons lie on the floor, mixed with bones, fruit rinds, and other waste. It has the smell of wet fur.\n",
    "\n",
    "Creatures: Six gnolls rest here. Whether asleep or relaxing, they could be more attentive. Assume that the gnolls suffer a 1-0 penalty on Listen to checks for their intention. For example, if t h e PCs talk and make a lot of noise in the middle of area 27, just to the south, the DC for the Listen check would be 5 (0 bases, +5 for distance). Since gnolls have to Listen +3, they would get a result of 3(average roll of 10-10+3), which would not be enough to detect the party's approach.\n",
    "\n",
    "If surprised, three gnolls are asleep and not wearing armor (and are AC 11). Therefore, they are not ready to fight in the first round of combat.T h e other three are armored and attempt to fight off intruders while their companions awaken.\n",
    "Gnolls (6): hp 9,10, 11, 11, 12, 14; 2d10 gp; see Monster Manual page 105.\n",
    "\n",
    "29. Gnoll Leader (EL 3)\n",
    "Odd in shape, this chamber's walls are stained and scored with signs of fire long ago. A wooden bed with a mattress of straw is against the western side, and a small iron box sits next to it. On top of the box are a pipe, some tobacco, a whetstone, and a stoneware cup full of dark liquid.\n",
    "\n",
    "The liquid in the cup is rancid, cold coffee. Inside the box, which is not locked, are a few bits of clothing and some per- sonal gear (nothing of value). Tucked in the northernmost portion of the room is a black cloak with a flaming eye symbol, somewhat dirty but otherwise in good shape.\n",
    "\n",
    "Creatures: The leader of the gnolls dwells here, a ranger whose favored enemy is humans. This gnoll is without fear. He is willing to take on an entire group of foes, although he gladly accepts the aid of his troops (see area 28) or the clerics, should it come.\n",
    "\n",
    "Garrik: Gnoll Rg2r; hp 28; es Appendix 3.\n",
    "\n",
    "Development: If the gnoll leader learns that intruders are in the moathouse, he joins the gnollsinarea28 and moves to defend the clerics. If the clerics leave, he and the remaining gnolls go with them.\n",
    "\n",
    "30. Clerics' Quarters (EL 2)\n",
    "Six old wooden beds with straw mattresses are arranged haphazardly in this room. Each has a bag or satchel of a different sort next to it, and a small iron box rests upon one bed. A stand with a blazer, currently unlit, and another with a lantern, also dark, ear against the middle portions of the east and west walls.\n",
    "\n",
    "This is the room where the clerics have been staying during their excavation.\n",
    "\n",
    "Trap: The box is locked (Open Lock DC 20) and trapped with an aglyph of warding activated when it is opened without saying \"Praise the Elder Elemental Eye.\" The cleric Geynor Ton (see area 32A) has the key.\n",
    "Glyph of Warding: CR2; 5-ft. acid spray (3d8); Reflex save DC 15 half; Disable Device(DC28).\n",
    "\n",
    "Treasure: The box contains potions to light cure wounds and water breathing, scrolls of animal messenger and stone shape, six tinder twigs, and a curved ceremonial dagger with gold inlay (worth 50 gp). In addition, a sheaf of papers lies within that serves as Geynor Ton's personal journal. When the PCs discover this, show them Handout 1: Journal of Geynor Ton. Feel free to photocopy this sheet ahead of time.\n",
    "\n",
    "Development: If the clerics leave, they take everything with them but the beds-a n d those they push into area 29.\n",
    "\n",
    "31. Ambush (EL 3)\n",
    "The stairs here fall into darkness, from which a foul stench arises.\n",
    "\n",
    "Creatures: A ghast waits to ambush on the stairs. Spawned by the utter corruption inherent in the obelisk's power (see area 32C, this creature obeys all clerics of the Elder Elemental Eye.\n",
    "\n",
    "Ghast: hp 30; see Monster Manual page 97. Development: Theclericsi n area 32C hear the sounds of combat here (unless the silence spell covers the battle or the PCs; otherwise, deal with the ghast quietly) and arrive to help in 2 rounds.\n",
    "\n",
    "\"\"\""
   ],
   "metadata": {
    "collapsed": false,
    "ExecuteTime": {
     "start_time": "2023-05-11T19:11:06.318886Z",
     "end_time": "2023-05-11T19:11:06.321738Z"
    }
   }
  },
  {
   "cell_type": "code",
   "execution_count": 38,
   "outputs": [
    {
     "name": "stdout",
     "output_type": "stream",
     "text": [
      "Before you stands a stairway leading down into the darkness. The stone steps are worn and damp, and a foul stench wafts up, filling the air with a sickly scent. As you descend, the temperature drops and an uneasy feeling settles in the pit of your stomach.\n"
     ]
    }
   ],
   "source": [
    "prompt = f\"\"\"\n",
    "As a dungeon master, describe for the players a stairway into the dungeon.  Use 30 words.\n",
    "\n",
    "Use the text delimited by triple backticks.\n",
    "```{moathouse_dungeon_upper}```\n",
    "\"\"\"\n",
    "\n",
    "response = get_completion(prompt, temperature=1)\n",
    "print(response)"
   ],
   "metadata": {
    "collapsed": false,
    "ExecuteTime": {
     "start_time": "2023-05-11T19:13:43.365353Z",
     "end_time": "2023-05-11T19:13:44.705283Z"
    }
   }
  },
  {
   "cell_type": "code",
   "execution_count": 47,
   "outputs": [
    {
     "name": "stdout",
     "output_type": "stream",
     "text": [
      "The room is littered with bones and broken stonework, with manacles dangling from the pillars. A foul smell hangs in the air, hinting at an evil presence. A small wooden door and an archway lead to other areas.\n"
     ]
    }
   ],
   "source": [
    "prompt = f\"\"\"\n",
    "As a dungeon master, describe room 21.  Use 30 words and call it just \"The room\". Don't mention the ghast,\n",
    "only mention an evil presence.\n",
    "\n",
    "Use the text delimited by triple backticks.\n",
    "```{moathouse_dungeon_upper}```\n",
    "\"\"\"\n",
    "\n",
    "response = get_completion(prompt, temperature=0)\n",
    "print(response)"
   ],
   "metadata": {
    "collapsed": false,
    "ExecuteTime": {
     "start_time": "2023-05-11T19:21:14.660651Z",
     "end_time": "2023-05-11T19:21:16.234247Z"
    }
   }
  },
  {
   "cell_type": "code",
   "execution_count": 51,
   "outputs": [
    {
     "name": "stdout",
     "output_type": "stream",
     "text": [
      "The room is covered in cobwebs and dust, with ruined devices of torture scattered about. An evil presence lingers, but its source is unknown.\n"
     ]
    }
   ],
   "source": [
    "prompt = f\"\"\"\n",
    "As a dungeon master, describe room 22.  Use 30 words and call it just \"The room\". Don't mention the ghouls or secret,\n",
    "only mention an evil presence.\n",
    "\n",
    "Use the text delimited by triple backticks.\n",
    "```{moathouse_dungeon_upper}```\n",
    "\"\"\"\n",
    "\n",
    "response = get_completion(prompt, temperature=0)\n",
    "print(response)"
   ],
   "metadata": {
    "collapsed": false,
    "ExecuteTime": {
     "start_time": "2023-05-11T19:22:31.609841Z",
     "end_time": "2023-05-11T19:22:32.425025Z"
    }
   }
  },
  {
   "cell_type": "code",
   "execution_count": 53,
   "outputs": [
    {
     "name": "stdout",
     "output_type": "stream",
     "text": [
      "The room is filled with debris and trash with nothing of interest except for a wooden door on the east. Recent traffic has cleared a path through the mess.\n"
     ]
    }
   ],
   "source": [
    "prompt = f\"\"\"\n",
    "As a dungeon master, describe room 23.  Use 30 words and call it just \"The room\". Don't mention the monsters or secret.\n",
    "\n",
    "Use the text delimited by triple backticks.\n",
    "```{moathouse_dungeon_upper}```\n",
    "\"\"\"\n",
    "\n",
    "response = get_completion(prompt, temperature=1)\n",
    "print(response)"
   ],
   "metadata": {
    "collapsed": false,
    "ExecuteTime": {
     "start_time": "2023-05-11T19:23:50.626080Z",
     "end_time": "2023-05-11T19:23:51.466712Z"
    }
   }
  },
  {
   "cell_type": "code",
   "execution_count": 56,
   "outputs": [
    {
     "name": "stdout",
     "output_type": "stream",
     "text": [
      "The Room (24) appears to have been swept clean, and strange relics are laid out on a white blanket on the floor. Gren, a cleric of the Elder Elemental Eye, and her two black-capped gnoll bodyguards wait inside. They are on high alert and ready to defend the relics at all costs.\n"
     ]
    }
   ],
   "source": [
    "prompt = f\"\"\"\n",
    "As a dungeon master, describe room 24.  Use 30 words and call it just \"The room\". Describe the reaction of Gren and her\n",
    "bodyguards to your arrival.\n",
    "\n",
    "Use the text delimited by triple backticks.\n",
    "```{moathouse_dungeon_upper}```\n",
    "\"\"\"\n",
    "\n",
    "response = get_completion(prompt, temperature=1)\n",
    "print(response)"
   ],
   "metadata": {
    "collapsed": false,
    "ExecuteTime": {
     "start_time": "2023-05-11T19:25:48.746521Z",
     "end_time": "2023-05-11T19:25:50.358827Z"
    }
   }
  },
  {
   "cell_type": "code",
   "execution_count": 58,
   "outputs": [
    {
     "name": "stdout",
     "output_type": "stream",
     "text": [
      "The room appears to be the living quarters for the clerics of the Elder Elemental Eye. Six old wooden beds with straw mattresses are arranged haphazardly. The clerics have left various bags/satchels by their beds and a small iron box sits on one of the beds. A blazer and a lantern are on stands against the walls. As soon as the monsters see the players, they attack without hesitation.\n"
     ]
    }
   ],
   "source": [
    "prompt = f\"\"\"\n",
    "As a dungeon master, describe room 30.  Use 50 words and call it just \"The room\". Describe the reaction of the monsters to your arrival.\n",
    "\n",
    "Use the text delimited by triple backticks.\n",
    "```{moathouse_dungeon_upper}```\n",
    "\"\"\"\n",
    "\n",
    "response = get_completion(prompt, temperature=1)\n",
    "print(response)"
   ],
   "metadata": {
    "collapsed": false,
    "ExecuteTime": {
     "start_time": "2023-05-11T19:27:21.491140Z",
     "end_time": "2023-05-11T19:27:23.432486Z"
    }
   }
  },
  {
   "cell_type": "code",
   "execution_count": 59,
   "outputs": [
    {
     "name": "stdout",
     "output_type": "stream",
     "text": [
      "In room 30, the dungeon master describes a small iron box that rests on one of the six old wooden beds with straw mattresses. The box is locked (Open Lock DC 20) and trapped with an aglyph of warding that activates when it is opened without saying \"Praise the Elder Elemental Eye.\" The box contains potions to light cure wounds and water breathing, scrolls of animal messenger and stone shape, six tinder twigs, and a curved ceremonial dagger with gold inlay (worth 50 gp). Additionally, a sheaf of papers lies within that serves as Geynor Ton's personal journal. When the PCs discover this, the dungeon master can show them Handout 1: Journal of Geynor Ton.\n"
     ]
    }
   ],
   "source": [
    "prompt = f\"\"\"\n",
    "As a dungeon master, describe the iron box in room 30.\n",
    "\n",
    "Use the text delimited by triple backticks.\n",
    "```{moathouse_dungeon_upper}```\n",
    "\"\"\"\n",
    "\n",
    "response = get_completion(prompt, temperature=1)\n",
    "print(response)"
   ],
   "metadata": {
    "collapsed": false,
    "ExecuteTime": {
     "start_time": "2023-05-11T19:28:07.525220Z",
     "end_time": "2023-05-11T19:28:10.633752Z"
    }
   }
  },
  {
   "cell_type": "code",
   "execution_count": 60,
   "outputs": [],
   "source": [
    "moathouse_dungeon_lower = f\"\"\"\n",
    "32. Excavation Site\n",
    "This complex area requires understanding the side view diagram (Map 5).\n",
    "\n",
    "32A. Old Well Room (EL 4)\n",
    "This place is freezing, and even the most insensitive can tell that the unnatural chill is corruption in the air. A wide pit in the center dominates the room, its sides slick with moisture. A pulley has been affixed to the ceiling, and a rope descends from it, connected to four more. These, in turn, are tied to the edge of a 10-foot-wide wooden platform, circular in shape, in four different places to provide stability. A lantern sitting atop a stool in the southwestern corner illuminates the chamber. Scattered about the pit edge are picks and shovels, and a strange statue rest in the corner farthest from the entrance. Against the north wall stands a large, round, flat stone about the pit's diameter.\n",
    "\n",
    "The platform, rope, and pulley all look new.\n",
    "\n",
    "Creatures: Two clerics work in this room studying the statue brought up recently from below. One is a human, Gaynor Ton. The other is a troglodyte named Ysslansh.\n",
    "\n",
    "Ysslansh is the leader of the clerics stationed at the moathouse now that Festrath (see area 32E) has become irretrievably insane. The troglodyte is ruthless and utterly evil.   All the human clerics hate him.\n",
    "\n",
    " The clerics take the statue with them when they leave and abandon the wooden platform (but not the rope), which they stand on end against the north wall.\n",
    "Geynor Ton: Male human Clr2; hp 16; see Appendix 3\n",
    "Ysslansh: Mael troglodyte Cl2; hp 28; see Appendix 3 32C. Ancient Obelisk (EL 5)\n",
    "Tactics: If the clerics hear a fight with the ghast in area31,\n",
    "Use this description as the PCs descend the shaft.\n",
    "They move to investigate, arriving in 2 rounds.\n",
    "\n",
    "Statue: This rectangular block is 3 feet high and 2 feet on each side. Each side has a distinct figure carved into it.\n",
    "\n",
    "The first is jet black and depicts a muscular man in full plate with unfamiliar flanges and fluting. He wears a cape and holds a wavy-bladed sword. It appears very smooth and black, with veins of deep violet.\n",
    "\n",
    "The second side is dark green, carved into a man swathed in\n",
    "a flowing robe with long sleeves and a high collar.   The face is a mask resembling the one that the dead Master Thaque\n",
    "possessed (see area 6).\n",
    "\n",
    "The third side is a deep blood red and depicts A man in high boots, a doublet, and gauntlets of twisting design. A hood drawn tight around the face covers his head.\n",
    "\n",
    "The fourth side is a statue of a man colored deep indigo. The Egure is clothed in a many-pleated robe with a sash covered in strange sigils (impossible to decipher). His head is cowled and cradled a scepter in his folded arms.\n",
    "\n",
    "32B. shaft\n",
    "Roughly 15 feet from the top of the shaft, indications exist that a stone plug was once placed here, then carefully mortared and sealed. Just above that point, a 4- foot-wide tunnel carrying underground stream empties into the shaft, the water spilling into the darkness below. A 2-foot-wide opening is visible just below the top of the pit.\n",
    "\n",
    "Once the seal was intact, the water filled the shaft to the top and formed a pool. Then, excess water drained out and into a pipe that returned it to the underground stream.\n",
    "\n",
    "The water poured down beside the descending platform.\n",
    "\n",
    "Platform: Someone within reach of the shaft or dais can raise or lower the platform. At a point, as a full-round action, the operator can tie off the top to the contraption so that it no longer moves down. Then, using the pulley, a character can lift or lower twice the amount he or she could typically drag. Six Medium-size characters also fit on the platform; ten can crowd aboard if necessary. Unfortunately, the rope-and-platform assembly breaks if more than 2,000 pounds are placed on it.\n",
    "\n",
    "If the rope is released, the platform falls along with everything on it. Characters aboard the platform can attempt Reflex saves (DC 20) to grab the rope. If successful, the character must succeed at a Strength check (DC 15, +1/100 pounds of load) to stop the platform. Failure, in addition to the typical damage from falling, inflicts severe rope burn. That deals 1 point of subdual damage.\n",
    "\n",
    "Characters taking violent or reckless actions on the platform must succeed at a Balance check (DC 13) to stay on. Those who fall can attempt to grab hold of the edge by taking Reflex saves (DC 20).\n",
    "\n",
    "Development: If the clerics can leave, they reseal the shaft. They insert the round, flat stone about 15 feet down, then use the potion of water breathing and the scroll of some shape (both in the iron box in area 30) to seal it. The shaft fills with water again, forming a pool, and the room returns to \"normal.\"\n",
    "\n",
    "The whole area below the shaft is unholy due to an unhallow spell. The site has permanent protection from good effect, and the unholy aura confers a 4- profane penalty on turn undead attempts (+4 to rebuke undead). The ancient unhallow spell no longer has any other effects attached to it.\n",
    "\n",
    "The unnatural cold intensifies as depth increases: By the time characters descend to the \"floor\" (which, in fact, is the top of the obelisk), it is so cold that they risk hypothermia. They must make Fortitude saves (DC 15, 1+ for every previous check) every 10 minutes or suffer 1d6\n",
    "points of subdual damage.\n",
    "\n",
    "Characters wearing warm winter clothing need only make checks once per hour. A character rendered unconscious then takes typical damage from the cold. Those who take any subdual damage from the cold become fatigued, suffering a 2- penalty to Strength and Dexterity, and cannot run or charge. Subdual damage and fatigue penalties disappear when the character is removed from the cold.\n",
    "\n",
    "Once the characters reach the top of the obelisk, use the following descriptive text:\n",
    "\n",
    "The floor resembles black marble but has no luster, while the veins of purple are thick and jagged. The entire surface is slightly convex, with sides lower than the center. Stranger still, the floor does not extend to the cave walls around it as though it were merely a large platform. Instead, it is about 30 feet across--the cave is much larger than that in every direction. Beyond the floor edge, the cave walls plummet farther into darkness. Finally, at the western rim of the black floor, another circular wooden platform hangs suspended over the void, with another rope and pulley system pounded into the rock above it.\n",
    "\n",
    "Obelisk (EL 3): The obelisk is dangerous to touch. It feels exceedingly cold, and as soon as a living being contacts it, the veins need to writhe like tentacles and move toward that figure, even while wearing boots or gloves. After one round, the veins reach the character, who must succeed in a fortitude save (DC 22) or suffer 1d6 points of temporary Strength damage. The player must make a save every round as he continues to touch the obelisk. Victims who lose all their Strength are pulled down into the obelisk by the veins, their souls forever destroyed.\n",
    "\n",
    "As the clerics discovered, lowering oneself down by the first platform is possible, scurrying quickly across the top of the obelisk and getting to the other platform without any adverse effects.\n",
    "\n",
    "Creature (EL 4): Hiding in the dark roof of the cave is a well, a horrible creature resembling a floating brain with tentacles. It was summoned earlier by the cleric Festrath using an extraplanar archway (area 32G). The Grell quietly lowers himself over a party, descending to the bottom of the cave, and attacks a single, random foe. It can attack with only one tentacle in the first round because it cannot both move and make a full attack. However, if it can paralyze and grab hold of the victim with two tentacles, it flies away with its prey the next round.\n",
    "\n",
    "Grell. Hp 23 of 32; wounded (see Appendix 1.)\n",
    "\n",
    "Ad Hoc XP Adjustment: Due to the problematic situation provided (a hidden and ready opponent versus unprepared PCs), this encounter should award 120% of the standard XP.\n",
    "\n",
    "32D. Obex\n",
    "The stone is worked and smooth on what appears to be the bottom of the colossal cavern. Two symbols are carved into the floor on the western side of the cave. A two-tiered, inverted ziggurat, black in color, and a flaming sun, also jet black. Rising from the middle of the cave, a pillar supports the black-and-violet mass of the enormous obelisk on whose surface you recently stood. On the north side of the cave, water spilling from above collects in a pool.\n",
    "\n",
    "The upside-down pyramid is a symbol of Tharizdun, called an Obex. Standing on the Obex is safe (although it creates an unsettling feeling in any creature that does not worship the Dark God) unless the character speaks the name of Tharizdun. If this happens, he is instantly reduced to -1 hp (no save) and rendered unconscious and dying (Heal DC 21 to stabilize).\n",
    "\n",
    "While unconscious, the character has an evil vision: a man formed of darkness that is hazy and insubstantial.\n",
    "\n",
    "In each round in which the character is not stabilized, he loses one additional hit point while seeing and experiencing something new:\n",
    "\n",
    "Finds a curved +1 dagger at his feet, engraved with his name.\n",
    "If he says anything else, or nothing at all, he continues to lose hit points.\n",
    "\n",
    "6- hp: The dark form says, \"Do you seek to free me?\"\n",
    "7- hp: If the character says \"Yes,\" he is restored to total hit points and consciousness. If he says anything else, or noth-\n",
    "ing at all, he continues to lose hit points.\n",
    "-8 hp: The dark form says, \"It does not matter what you seek. I am. You are nothing.\"\n",
    "-9 hp: The dark form says, \"You serve me now, whether you wish it or not.\" The character is restored to total hit points and consciousness but is cursed y the Dark God. He now suffers a -2 penalty on saving throws to resist spells cast by clerics of Tharizdun or the Elder Elemental Eye.\n",
    "\n",
    "This curse cannot be removed with anything less than a wish or miracle.\n",
    "\n",
    "32E. Black Sun (EL 5)\n",
    "This symbol seems an evil perversion of some otherwise good sign of light and life.\n",
    "\n",
    "The strange inverted black triangle radiates insanity and mental disharmony. Even those nearby or looking at it from afar are disturbed and\n",
    "on edge. Anyone standing within its circle for more than 1 round must succeed at a Wisdom saving throw (DC 15) or suffer\n",
    "1d6 points of temporary Wisdom damage. The character must make a save every turn she continues to touch the symbol. Creatures: Festrath, a cleric of Tharizdun who is now completely insane, is hidden among the rocks at the cavern's edge near the black sun. When Master Thaque was killed by the dragon (see area 6), Festrath was next in the chain ofcom- mand. However, he was already close to madness from spending time in the chamber and foolishly experimenting with the black sun. He has since lost what remained of his mind; although being wrapped in a winter cloak, he has managed to stave off the effects of the cold for the most part. (His statistics have already been modified to reflect subdual damage and fatigue penalties.)\n",
    "\n",
    "From his vantage point, the mad Festrath watches what the party does, waiting for an opportune time to attack. He fears the Grell and avoids letting the creature know where he is. (Festrathwas attacked by the Grell when he summoned it, wounding it and driving it off temporarily so that he could hide.) Once he has committed to the attack, he does\n",
    "not hesitate to use his potion of fly to get at enemies on a plat-\n",
    "form or the Pillar, or just to attack from above. He laughs and howls, all the while maniacally.\n",
    "\n",
    "Festrath carries a piece of paper that bears this message: \"The Water Temple will soon make its move against the forces of fire. Return quickly, Festrath, for we need your aid. Together, we shall win the favor of the doom-dreamers and the Triad itself.\"\n",
    "\n",
    "• Festrath: Male human Clr5; hp42 of 32; wounded; see Appendix .3\n",
    "\n",
    "32F. Pillar\n",
    "Impossible though it seems, the colossal obelisk comes to a very narrow point balanced atop this 30-foot high Pillar. The Pillar has been carved from the rock itself and appears to be quite solid. Iron rungs, primarily free of corrosion, have been hammered into it, allowing anyone to 2 7 climbs to the point where Pillar meets the obelisk.\n",
    "\n",
    "The pinpoint tip of the obelisk, if viewed in the light of a torch of revealing (see Appendix 1), is actually a purple-colored gem of unknown make. Touching the amethyst teleports a character (and all her gear, but not the torch) into a spherical room of black walls with purple veins. No light is present, but even characters without darkvision find that they can \"see\" within the darkness here. Immediately upon arrival, the character hears a voice boom in a low, hollow voice: \"Seek the heart of each of the four moons. Together, they can sunder the walls of my prison. But, for now, eat of my fruit and be blessed.\"\n",
    "\n",
    "The mysterious voice is a message from Tharizdun to his faithful. It refers to the elemental nodes that can fulfill the doomdreamers' plans (see the Introduction and Chapter 8: The Fire Node).\n",
    "After the voice speaks, a lustrous black fruit suddenly appears in t h character's hands. Each character who enters the chamber and eats the fruit gains a permanent 1+ inherent bonus to a random ability score. Three rounds after the fruit appears, the player is transported to Area 32B.\n",
    "\n",
    "Anyone who attempts to go through this process more than once or eats a fruit given to another suffers 2 points of permanent drain from a random ability score. For example, a character who attempts to eat a third fruit in this manner must successfully make Fortitude save (DC 18) or be obliterated, leaving nothing but gray mist (only true resurrection can bring the character back). Even on a success, another two points of a random ability score are permanently drained. Attempting to eat a fourth fruit results in obliteration, with no saving throw allowed.\n",
    "\n",
    "32G. Horrific Summons (EL variable)\n",
    "An archway is carved out of the stone so that it seems to be a curved mass of writhing tentacles and serpents. Beyond the opening is a smooth, black wall.\n",
    "\n",
    "Merely touching this apparent dead-end is a colossal mistake.\n",
    "\n",
    "The character must succeed at a Fortitude save D(C 15) or suffer initial and secondary damage of 2d6 temporary Constitution. Those drinking the corrupted water get no saving throw. Anyone slain by interaction with the water is immediately transformed into a ghast.\n",
    "\n",
    "33. Crypt (EL 4)\n",
    "Dismal and cold, this dusty, cobweb-filled chamber has all the trappings of a crypt. Sarcophagi era stored in the dark, shadow-filled alcoves along the walls.\n",
    "\n",
    "This area is also unholy, as the result of an unhallow spell. The site has permanent protection from good effect, and the unholy aura confers a -4 profane penalty on turn undead attempts (+4 to rebuke undead). The ancient spell no longer has any other effects attached to it.\n",
    "\n",
    "A secret door slides to one side within the tiny alcove to the north and opens into a cramped tunnel about 3 feet high and wide, leading to the hollow column in area 2. The back of one crypt to the south is broken out and leads through a cramped earthen tunnel, thick with the reek of decay. The tunnel ceiling is barely 5 feet high.\n",
    "\n",
    "Creatures: Four ghouls dwell here, lurking among the crypts. Their hiding places are marked with dots on the map. They stagger out of the crypts one at a time, one per round. •Ghouls (4):hp10, 12, 13, 14; see Monster Manual page 97.\n",
    "\n",
    "AdHoc XP Adjustment: Because of the unholy aura in this place and the fact that they are hiding, these undead are more challenging to deal with than usual. This encounter should award 110% of the regular XP.\n",
    "\n",
    "34. Ghoul Caves\n",
    "The passage is rough as if borrowed from the earth. The walls seem to close in. Bits of dirt falls from the ceiling and walls as you pass them. The place stinks of death.\n",
    "\n",
    "This warren of tunnels was clawed out over the ages by the ever-present ghouls and is filled with their leavings.\n",
    "\n",
    "34A. Undisturbed Secret Shrine (EL 5)\n",
    "This cave seems cut at strange angles, creating disturbing shadows and weird, seemingly impossible bends and curves. The stone is cloudy purple in color. The rising plane, to which the archway is a one-way gate. Rising from floor to ceiling is a tall, four-sided column, natural but extensively carved so that each side sports a different graven image. Before the column is an altar made of flat, porous, slightly corroded black rock, sitting atop a 1-foot-high platform of black stone speckled and\n",
    "streaked with violet. The room is cold-- a soul-numbing chill that grips one's very heart, as well as one's sanity. Rather than a mere judgment, it is a fact that this is an evil place.\n",
    "\n",
    "The clerics of the Elder Elemental Eye never found this ancient shrine, a companion to the room with the obelisk. The ghouls know of it but are too stupid and single-minded to tell their masters.\n",
    "\n",
    "Four-Sided Column: This is similar to the statue wand in area 32A but is three times the size. Each side hides a small secret compartment that hides some treasure.\n",
    "\n",
    "The first is jet black, depicting a mall, muscular man in full plate\n",
    "mail with unfamiliar flanges and fluting. He wears a cape and holds a wavy-bladed sword. The secret compartment contains a bead of force.\n",
    "\n",
    "The second side is dark green, carved into a man swathed in a flowing robe with long sleeves and a high collar. Covering the face is a mask resembling the one that the dead Master Thaque possessed (see area 6). The secret compartment holds a skin-covered black drum.\n",
    "\n",
    "The third side is a deep blood red and depicts a man in high boots, a doublet, and gauntlets of twisting design. A hood drawn tight around the face covers his head. The secret compartment has a set of silver chimes (worth 200 gp).\n",
    "\n",
    "The fourth side is a statue of a man colored deep indigo. The figure is clothed in a many-pleated robe with a sash covered in strange sigils (impossible to decipher). His head is cowed, and he cradles a scepter in his folded arms. In the compartment is a bronze brazier with chunks of incense.\n",
    "\n",
    "Altar (EL 5): If the altar is touched by living flesh or struck with force, it begins to fade. In 3 rounds, its color transforms to translucent amethyst with a black, amorphous center. Anyone touching the altar further must succeed at a Fortitude save (DC 18) or be paralyzed for 1d4 hours.\n",
    "\n",
    "If the PCs search the four-sided column and discover the objects inside, they risk producing a different and much more dangerous effect. On beating the drum, ringing the chimes, and lighting the brazier, a glowing golden eye swims not view from the stone's writing center. All creatures\n",
    "viewing the Eye must make Will save (DC 20). Failure results in a random effect, as described below.\n",
    "\n",
    "\td100\tResult\n",
    "\t01-05\tDeath\n",
    "\t06-20 \t1d2 negative levels\n",
    "\t21-40 \tinsanity (as if permanently affected by confusion)\n",
    "\t41-60 \t1d3 permanent Wisdom drain\n",
    "\t61-80 \t2d6 temporary Strength damage\n",
    "\t81-100 \t1d6 temporary Constitution damage\n",
    "\n",
    "The altar's most potent effect requires the presence of a tentacle rod (found in area 120 of the Crater Ridge Mines. area 19 of the Outer Fane, and Level 8 of the Inner Fane) when the Eye appears. In this case, the altar becomes transparent heliotrope in color, the black mass at the\n",
    "center grows larger and shows swollen veins of purple, and the Eye is a fiery red-orange. A tentacle emerges from the altar and grabs the nearest living creature, pulling it into the stone (+15 attack, +10 Strength bonus, treat as Large). A creature drawn into the altar is destroyed, while the stone returns to its black, opaque state. Atop the altar appears a single magic item wished for by those in the shrine, worth up to 50,000 gp (for multiple items, determine which one appears randomly).\n",
    "\n",
    "The Book of the Dark Eye resides in the Fire Temple complex of the Crater Ridge Mines (see area 122 in Chapter 5). This book, which deals with the worship of the Elder Elemental Eye, describes in detail the process of activating the altar.\n",
    "\n",
    "35. Wall of Stone\n",
    "Use this description only if a character carefully examines the end of this dead-end passage.\n",
    "\n",
    "A solid stone wall, clearly different from the masonry around it,\n",
    "forms the end of the passage. It is fused with the stone of the walls and the floor and ceiling.\n",
    "\n",
    "This is the result of a wall of stone spell cast long ago. The clerics of the Elder Elemental Eye have no idea what's on the other side, nor do they care, having discovered the black obelisk they were sent to find.\n",
    "\n",
    "36. Secret Passage\n",
    "The stone passage heads east for 40 feet before narrowing to a rough-hewn tunnel 5 feet wide. It gradually slopes up as it continues eastward another 400 yards, then opens into a small, natural cave. Hidden among boulders, the cave mouth lies by the riverbank about a quarter-mile east of the moathouse.\n",
    "\n",
    "The clerics of the Elder Elemental Eye have yet to learn about this passage, but a few others do, including Spugnoir and Elmo (see Chapter 1: The Town of Hommlet).\n",
    "\n",
    "37. Cockatrice Lair (EL 5)\n",
    "This sour-smelling room contains three nests made of black cloth, river reeds, and bits of wood. Each nest is about 3 feet across. A stone inside the southern entrance looks like half a gigantic rat, the other half smashed to bits around it.\n",
    "\n",
    "The stone is what remains of a dire rat, petrified by the cockatrices here.\n",
    "Creatures: Three cockatrices nest here, but only two are present. Vicious and foul-tempered, they attack anyone they see, hissing and snarling.\n",
    "\n",
    "Cockatrices (2): hp 25, 30; see Monster Manual page 38.\n",
    "Treasure: Within each nest, a searcher can find an intact black cloak with a gold eye of fire embroidered on the back, along with numerous scraps of others.\n",
    "38. Old Barracks (EL 3)\n",
    "Smashed wooden beds, at least a dozen, lie haphazardly about in this ruined chamber. A handaxe and the aged remains of the figure who wielded it, still clad in rusted half-plate armor, lie in the middle of the floor.\n",
    "\n",
    "The area to the south is likewise filled with debris, mostly from broken crates and casks. It was once a storage area.\n",
    "\n",
    "Creature: Another cockatrice wanders about this room, poking about the ruins. It attacks immediately. It is so stupid that it does not come to the aid of its kin in Area 37, even if it hears fighting\n",
    "Cockatrice: hp 27; see Monster Manual page 38.\n",
    "Treasure: Searchers can locate twelve 100-gp gems, fallen between two loose stones on the floor along the west wall.\n",
    "39. Old Bedchamber\n",
    "This room obviously once was lavish in its appointment. Now, its once-fine wall hangings, soft chairs, thick rugs, and plush couch are all in tatters. A wooden table, a single chair, and a bed comprise the rest of the room's furnishings. Dust-covered, moth-eaten bedclothes lie in a heap next to the bed, whose mattress\n",
    "has been cut open and the stuffing scattered about. A skeleton clothed in tattered dark robes lies on the floor near the table.\n",
    "\n",
    "Most people who've seen the skeleton believe that the remains are those of Lareth the Beautiful. That is precisely what they are meant to think. That dark cleric called himself the \"New Master\" began fortifying the moathouse a few years ago when the Temple of Elemental Evil attempted to rise again. While Lareth was slain by adventurers in this room, an even more powerful cleric of the Elder Eel mental Eye, named Hedrack, raised him from the dead soon afterward and spirited him away. Now Lareth lives as a recluse in the nearby village of Nulb (see Chapter 3: Ghost Town and Ruined Temple).\n",
    "\n",
    "Characters with the Heal skill who examine the body and make a successful skill check (DC 15) notice that the remains bear marks of disease and no signs of violence (a plague victim's body was substituted for Lareths). This is the only clue at this point that Lareth is alive.\n",
    "\n",
    "Treasure: A successful Search check (DC 15) uncovers a small spider medallion on the skeleton and a wand of doom with 1 charge remaining. A successful Knowledge (religion) check (DC 15) identifies the spider symbol as one of Lolth, the demon goddess of drow and spiders.\n",
    "\n",
    "\"\"\""
   ],
   "metadata": {
    "collapsed": false,
    "ExecuteTime": {
     "start_time": "2023-05-11T19:42:33.266149Z",
     "end_time": "2023-05-11T19:42:33.296356Z"
    }
   }
  },
  {
   "cell_type": "code",
   "execution_count": 65,
   "outputs": [
    {
     "name": "stdout",
     "output_type": "stream",
     "text": [
      "The room is filled with strange relics and items laid out carefully on a white blanket. A cleric and two black-capped gnoll bodyguards guard the items fiercely. As you enter, the gnolls prepare to attack. The cleric may also open a door to release undead skeletons to aid in combat.\n",
      "\n",
      "- Cleric of the Elder Elemental Eye \n",
      "- Gnoll bodyguards\n"
     ]
    }
   ],
   "source": [
    "prompt = f\"\"\"\n",
    "As a dungeon master, describe room 32E to the players in second person.  Use 50 words and call it just \"The room\". Describe the reaction of the monsters to their arrival.\n",
    "\n",
    "List the monsters in the room in bullets.\n",
    "\n",
    "Use the text delimited by triple backticks.\n",
    "```{moathouse_dungeon_upper}```\n",
    "\"\"\"\n",
    "\n",
    "response = get_completion(prompt, temperature=1)\n",
    "print(response)"
   ],
   "metadata": {
    "collapsed": false,
    "ExecuteTime": {
     "start_time": "2023-05-11T19:46:54.293267Z",
     "end_time": "2023-05-11T19:46:56.032579Z"
    }
   }
  },
  {
   "cell_type": "code",
   "execution_count": null,
   "outputs": [],
   "source": [],
   "metadata": {
    "collapsed": false
   }
  }
 ],
 "metadata": {
  "kernelspec": {
   "display_name": "Python 3 (ipykernel)",
   "language": "python",
   "name": "python3"
  },
  "language_info": {
   "codemirror_mode": {
    "name": "ipython",
    "version": 3
   },
   "file_extension": ".py",
   "mimetype": "text/x-python",
   "name": "python",
   "nbconvert_exporter": "python",
   "pygments_lexer": "ipython3",
   "version": "3.9.6"
  }
 },
 "nbformat": 4,
 "nbformat_minor": 1
}
