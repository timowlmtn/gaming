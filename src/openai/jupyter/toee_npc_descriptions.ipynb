{
 "cells": [
  {
   "cell_type": "code",
   "execution_count": 1,
   "metadata": {
    "collapsed": true,
    "ExecuteTime": {
     "start_time": "2023-05-13T09:23:35.519297Z",
     "end_time": "2023-05-13T09:23:35.689544Z"
    }
   },
   "outputs": [],
   "source": [
    "import openai\n",
    "import os\n",
    "\n",
    "from dotenv import load_dotenv, find_dotenv\n",
    "_ = load_dotenv(find_dotenv()) # read local .env file\n",
    "\n",
    "openai.api_key  = os.getenv('OPENAI_API_KEY')"
   ]
  },
  {
   "cell_type": "code",
   "execution_count": 9,
   "outputs": [],
   "source": [
    "def get_completion(prompt, model=\"gpt-3.5-turbo\", temperature=0): # Andrew mentioned that the prompt/ completion paradigm is preferable for this class\n",
    "    messages = [{\"role\": \"user\", \"content\": prompt}]\n",
    "    response = openai.ChatCompletion.create(\n",
    "        model=model,\n",
    "        messages=messages,\n",
    "        temperature=temperature, # this is the degree of randomness of the model's output\n",
    "    )\n",
    "    return response.choices[0].message[\"content\"]\n",
    "\n",
    "def read_file(filename):\n",
    "    with open(filename, \"r\") as fin:\n",
    "        result = fin.read()\n",
    "\n",
    "    return result\n"
   ],
   "metadata": {
    "collapsed": false,
    "ExecuteTime": {
     "start_time": "2023-05-13T09:27:36.226236Z",
     "end_time": "2023-05-13T09:27:36.239255Z"
    }
   }
  },
  {
   "cell_type": "code",
   "execution_count": 12,
   "outputs": [],
   "source": [
    "character_sheet = read_file(\"../../../data/dnd/character/hommlet_canoness_yday.txt\")\n",
    "character_intro = read_file(\"../../../data/dnd/greyhawk/verbobonc/temple_of_elemental_evil/2_hommlet_church_of_st_cuthbert.txt\")"
   ],
   "metadata": {
    "collapsed": false,
    "ExecuteTime": {
     "start_time": "2023-05-13T09:28:27.290927Z",
     "end_time": "2023-05-13T09:28:27.294911Z"
    }
   }
  },
  {
   "cell_type": "code",
   "execution_count": 13,
   "outputs": [
    {
     "name": "stdout",
     "output_type": "stream",
     "text": [
      "Canoness Yday is an aged cleric who maintains the largest Temple in town. She is a human acolyte with a background in knowledge and wisdom. Yday was instrumental in the fall of the Temple of Elemental Evil and its completed defeat a few years later. She suspects there was more to that Temple than she and her allies saw. Yday is aware that a great demon that lived within is gone now, but she spends waking nights now and again wondering what \"elemental evil\" truly represented and what the truth behind the forces and funding of the Temple. No one can get in to see Yday without first speaking to Calmer, who casts detect Evil on any wishing audience. Calmer is Yday's assistant and trusted friend. Terjon, the second-in-command, is an adventurer at heart. He prefers that Yday manage the Temple's affairs so that he can go on expeditions. About one-quarter of the time, he is off on a quest for something or other. Derim is a new acolyte who keeps quiet and observes, learning the hierarchy of the church and, indeed, the town. \n",
      "\n",
      "```Stat Block: Canoness Yday\n",
      "CLASS & LEVEL: Cleric 10\n",
      "BACKGROUND: Acolyte\n",
      "RACE: Human\n",
      "ARMOR: 16\n",
      "MAX HP: 73\n",
      "HIT DICE: 10d8\n",
      "STRENGTH: +0 11\n",
      "DEXTERITY: +0 10\n",
      "CONSTITUTION: +2 14\n",
      "INTELLIGENCE: +3 17\n",
      "WISDOM: +4 18\n",
      "CHARISMA: +2 14\n",
      "ATTACK: Mace, Melee Weapon, Reach: 5ft., Bonus: +4, Damage: 1d6\n",
      "SPELL LIST: Cantrips: Guidance, Light, Mending, Spare the Dying; 1st Level: Bless, Command, Identify; 2nd Level: Augury, Lesser Restoration, Prayer of Healing, Suggestion; 3rd Level: Beacon of Hope, Clairvoyance, Mass Healing Word, Nondetection, Remove Curse, Revivify, Speak with Dead; 4th Level: Arcane Eye, Confusion, Death Ward; 5th Level: Dispel Evil and Good, Legend Lore, Raise Dead, Scrying\n",
      "ACTIONS IN COMBAT: Attack, Cast a Spell, Dash, Disengage, Dodge, Grapple, Help, Hide, Improvise, Ready, Search, Shove, Use an Object\n",
      "CHANNEL DIVINITY: Knowledge of the Ages, Read Thoughts, Turn Undead\n",
      "DIVINE INTERVENTION: As an action, you can request your deity's aid and roll percentile dice. If your roll is equal to or less than 10, your deity intervenes (your DM chooses the nature of the intervention). If successful, you can't use this feature again for 7 days, otherwise, you can use it again after a long rest.\n",
      "HEALER HEALING: As an action, you can spend one use of a healer's kit to tend to a creature and restore 1d6 + 4 HP to it, plus additional HP equal to the creature's maximum number of Hit Dice. The creature can't regain HP from this feat again until it finishes a short or long rest.\n",
      "UNARMED STRIKE: You can punch, kick, head-butt, or use a similar forceful blow and deal bludgeoning damage equal to 1 + STR modifier```\n"
     ]
    }
   ],
   "source": [
    "prompt = f\"\"\"\n",
    "You are a dungeon master.\n",
    "\n",
    "Describe the Canoness Yday.\n",
    "\n",
    "For her stat block, use the statistics in triple backticks.\n",
    "\n",
    "Stat Block: ~~~{character_sheet}~~~\n",
    "\n",
    "For her setting, use the description in quotes.\n",
    "\n",
    "Setting: \"{character_intro}\n",
    "\n",
    "\"\"\"\n",
    "\n",
    "response = get_completion(prompt)\n",
    "print(response)\n"
   ],
   "metadata": {
    "collapsed": false,
    "ExecuteTime": {
     "start_time": "2023-05-13T09:31:22.445568Z",
     "end_time": "2023-05-13T09:31:50.986787Z"
    }
   }
  },
  {
   "cell_type": "code",
   "execution_count": null,
   "outputs": [],
   "source": [],
   "metadata": {
    "collapsed": false
   }
  }
 ],
 "metadata": {
  "kernelspec": {
   "display_name": "Python 3",
   "language": "python",
   "name": "python3"
  },
  "language_info": {
   "codemirror_mode": {
    "name": "ipython",
    "version": 2
   },
   "file_extension": ".py",
   "mimetype": "text/x-python",
   "name": "python",
   "nbconvert_exporter": "python",
   "pygments_lexer": "ipython2",
   "version": "2.7.6"
  }
 },
 "nbformat": 4,
 "nbformat_minor": 0
}
