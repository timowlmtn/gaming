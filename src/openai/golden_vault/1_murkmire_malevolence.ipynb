{
 "cells": [
  {
   "cell_type": "code",
   "execution_count": 47,
   "metadata": {
    "collapsed": true,
    "ExecuteTime": {
     "start_time": "2023-05-27T19:48:43.747113Z",
     "end_time": "2023-05-27T19:48:43.752621Z"
    }
   },
   "outputs": [],
   "source": [
    "import openai\n",
    "import os\n",
    "\n",
    "from dotenv import load_dotenv, find_dotenv\n",
    "_ = load_dotenv(find_dotenv()) # read local .env file\n",
    "\n",
    "openai.api_key  = os.getenv('OPENAI_API_KEY')"
   ]
  },
  {
   "cell_type": "code",
   "execution_count": 48,
   "outputs": [],
   "source": [
    "def get_completion(prompt, model=\"gpt-3.5-turbo\", temperature=0): # Andrew mentioned that the prompt/ completion paradigm is preferable for this class\n",
    "    messages = [{\"role\": \"user\", \"content\": prompt}]\n",
    "    response = openai.ChatCompletion.create(\n",
    "        model=model,\n",
    "        messages=messages,\n",
    "        temperature=temperature, # this is the degree of randomness of the model's output\n",
    "    )\n",
    "    return response.choices[0].message[\"content\"]\n",
    "\n",
    "def read_file(filename):\n",
    "    with open(filename, \"r\") as fin:\n",
    "        result = fin.read()\n",
    "\n",
    "    return result"
   ],
   "metadata": {
    "collapsed": false,
    "ExecuteTime": {
     "start_time": "2023-05-27T19:48:47.325395Z",
     "end_time": "2023-05-27T19:48:47.332588Z"
    }
   }
  },
  {
   "cell_type": "code",
   "execution_count": 49,
   "outputs": [
    {
     "name": "stdout",
     "output_type": "stream",
     "text": [
      "The five-room dungeon technique is a method of designing a self-contained adventure that can be completed in a single play session. It involves structuring the adventure around five distinct rooms, each with its own challenges and obstacles:\n",
      "\n",
      "1. Entrance: The first room sets the stage for the adventure and introduces the players to the challenges they will face. This can be a simple puzzle, a combat encounter, or a social challenge.\n",
      "\n",
      "2. Puzzle/Roleplaying Challenge: The second room provides a more complex challenge that requires problem-solving or roleplaying skills. This can be a riddle or a negotiation with an NPC, for example.\n",
      "\n",
      "3. Trick/Setback: The third room introduces a setback or complication that raises the stakes and adds tension to the adventure. This could be a trap, an ambush, or some other unforeseen obstacle that the players must overcome.\n",
      "\n",
      "4. Climax: The fourth room is the most intense and challenging part of the adventure, where players face off against the main threat or enemy. This can be a boss fight, a pitched battle, or a grand escape.\n",
      "\n",
      "5. Conclusion: The final room provides closure to the adventure and allows the players to reap the rewards of their efforts. This can be a treasure hoard, a final puzzle or obstacle to overcome, or a satisfying resolution to the story.\n"
     ]
    }
   ],
   "source": [
    "prompt = f\"\"\"\n",
    "What is the five room dungeon technique in dungeons and dragons?\n",
    "\"\"\"\n",
    "\n",
    "\n",
    "response = get_completion(prompt, temperature=1)\n",
    "print(response)"
   ],
   "metadata": {
    "collapsed": false,
    "ExecuteTime": {
     "start_time": "2023-05-27T19:48:49.874362Z",
     "end_time": "2023-05-27T19:49:02.058149Z"
    }
   }
  },
  {
   "cell_type": "code",
   "execution_count": 50,
   "outputs": [
    {
     "name": "stdout",
     "output_type": "stream",
     "text": [
      "Welcome to \"The Murkmire Stone\", a Dungeons & Dragons adventure where you play as a group of adventurers who have been recruited by Dr. Cassee Dannell to help her stop a horrifying eldritch creature from hatching out of a strange object that was recently unearthed in the nearby Murkmire. This object, known as the Murkmire Stone, has been acquired by the Varkenbluff Museum of Natural History and is due to be displayed in just a few days. However, Dr. Dannell has reason to believe that the stone is actually an egg of an eldritch creature that could wipe out entire villages if it hatches. With the university and museum authorities refusing to listen to her warnings, it's up to you to help Dr. Dannell save the city of Varkenbluff from a catastrophic event. Your mission, should you choose to accept it, is to infiltrate the museum, retrieve the Murkmire Stone, and find a way to neutralize its contents before it's too late. Are you ready to embark on this perilous adventure and safeguard the city?\n"
     ]
    }
   ],
   "source": [
    "background = read_file(\"../../../data/dnd/golden_vault/1_adventure_background.txt\")\n",
    "prompt = f\"\"\"\n",
    "As a dungeon master, Write an introduction to the adventure\n",
    "\n",
    "```\n",
    "{background}\n",
    "```\n",
    "\"\"\"\n",
    "\n",
    "\n",
    "introduction = get_completion(prompt, temperature=1)\n",
    "print(introduction)"
   ],
   "metadata": {
    "collapsed": false,
    "ExecuteTime": {
     "start_time": "2023-05-27T19:49:02.058303Z",
     "end_time": "2023-05-27T19:49:12.716140Z"
    }
   }
  },
  {
   "cell_type": "code",
   "execution_count": 51,
   "outputs": [
    {
     "name": "stdout",
     "output_type": "stream",
     "text": [
      "You find yourself in the Sage's Quill, a cozy tavern nestled next to the Varkenbluff Museum of Natural History. As you enter, you notice the luxurious mahogany furniture and soft lighting. A purple-hooded figure beckons to you from a corner booth. It's Dr. Cassee Dannell, the woman who contacted you. She looks worried as she explains the situation: A few weeks ago, she discovered a light-green stone during a dig in the Murkmire, but it turned out to be an eldritch horror egg that will hatch tonight at midnight. The university and museum ignored her warnings, and she was fired after attempting to steal the egg to contain it. Now, with the egg on the cusp of hatching and the Murkmire Stone exhibit opening tomorrow, the city is in danger. She needs your help to steal the Murkmire Stone from the museum and bring it back to her so she can encase the egg in a crystal box. She provides you with a map of the museum and gala tickets to the private exhibit tonight, as well as formal attire from her heirloom bag of holding. She offers 20 gold pieces per character plus her bag of holding as a reward for success, with the potential for an increase if you can persuade her. The clock is ticking - will you accept the mission and save the city from the eldritch horror hatchling?\n"
     ]
    }
   ],
   "source": [
    "dr_dannel = read_file(\"../../../data/dnd/golden_vault/2_cry_for_help.txt\")\n",
    "prompt = f\"\"\"\n",
    "As a dungeon master, describe the approach to Room One in the Adventure, using the locations in triple backticks to\n",
    "flavor the text.  Use second person.\n",
    "\n",
    "```\n",
    "{dr_dannel}\n",
    "```\n",
    "\"\"\"\n",
    "room_one = get_completion(prompt, temperature=1)\n",
    "print(room_one)"
   ],
   "metadata": {
    "collapsed": false,
    "ExecuteTime": {
     "start_time": "2023-05-27T19:49:12.716117Z",
     "end_time": "2023-05-27T19:49:23.406008Z"
    }
   }
  },
  {
   "cell_type": "code",
   "execution_count": 23,
   "outputs": [
    {
     "name": "stdout",
     "output_type": "stream",
     "text": [
      "You approach the Varkenbluff Museum of Natural History, an elegant building with enormous marble columns and sleek attendees wearing formalwear. The museum is open to the public aside from the Gemstone Wing on the second floor, where the Murkmire Stone is being exhibited. As you explore the museum, you have about two hours before it closes at 8 p.m. If you don't immediately go to the Gemstone Wing, guards notice your attire periodically and suggest you do so. Curator Alda Arkin carries a master key to the nonpublic areas of the museum.\n",
      "\n",
      "At 8 p.m., the museum closes, and several security measures activate. Watch out for audible alarm spells, animated statues, locked doors, and angry guards who will sound the alarm and even call for backup if you're caught sneaking around. If you decide to attend the gala in the Gemstone Wing, Alda Arkin is present, bearing a clutch with a master key, pass card, and map of after-hours guard stations.\n",
      "\n",
      "As you get closer to the Gemstone Wing, you spot the Murkmire Stone on its intricate marble pedestal. However, examining the pedestal reveals an elaborate defense mechanism that must be overcome to successfully steal the stone. Be wary of the security measures if you hope to make off with the treasure.\n"
     ]
    }
   ],
   "source": [
    "gala = read_file(\"../../../data/dnd/golden_vault/3_opening_gala.txt\")\n",
    "prompt = f\"\"\"\n",
    "As a dungeon master, describe to me the approach to Room Two in the Adventure in second person, using the locations in triple backticks to\n",
    "flavor the text.\n",
    "\n",
    "Separate into 3 paragraphs of at most 60 words each.\n",
    "\n",
    "```\n",
    "{gala}\n",
    "```\n",
    "\"\"\"\n",
    "room_two = get_completion(prompt, temperature=1)\n",
    "print(room_two)\n"
   ],
   "metadata": {
    "collapsed": false,
    "ExecuteTime": {
     "start_time": "2023-05-27T08:20:07.875773Z",
     "end_time": "2023-05-27T08:20:21.441509Z"
    }
   }
  },
  {
   "cell_type": "code",
   "execution_count": 31,
   "outputs": [
    {
     "name": "stdout",
     "output_type": "stream",
     "text": [
      "The Varkenbluff Museum of Natural History has several unique rooms that are important to the model of the museum. The following rooms are included:\n",
      "\n",
      "- V1: Grand Entrance\n",
      "- V2: Museum Shops\n",
      "- V3: Ancient Plants Exhibit\n",
      "- V4: Ancient Cultures Exhibit\n",
      "- V5: Curator’s Office\n",
      "- V6: Records Room\n",
      "- V7: Break Room and Storage\n",
      "- V8: Creatures of the Past Exhibit\n",
      "- V9: Underground Wonders Exhibit\n",
      "- V10: Archaeology Display\n",
      "- V11: Unearthed Café\n",
      "- V12: Prehistoric Predators Exhibit\n"
     ]
    }
   ],
   "source": [
    "museum = read_file(\"../../../data/dnd/golden_vault/4_varkenbluff.txt\")\n",
    "prompt = f\"\"\"\n",
    "Create a model for the Varkenbluff Museum based on the rooms in the text delineated by double backticks.\n",
    "```\n",
    "{museum}\n",
    "```\n",
    "\"\"\"\n",
    "room_three = get_completion(prompt, temperature=1)\n",
    "print(room_three)\n"
   ],
   "metadata": {
    "collapsed": false,
    "ExecuteTime": {
     "start_time": "2023-05-27T08:28:34.310121Z",
     "end_time": "2023-05-27T08:28:41.603237Z"
    }
   }
  },
  {
   "cell_type": "code",
   "execution_count": 34,
   "outputs": [
    {
     "name": "stdout",
     "output_type": "stream",
     "text": [
      "As you enter the Prehistoric Predators Exhibit of the Varkenbluff Museum, you are immediately transported back in time to an era when giant creatures roamed the earth. The exhibit features life-size replicas of some of the most fearsome prehistoric predators, including the vicious Sabertooth Tiger and the massive T-rex. As you make your way through the exhibit, you'll encounter a variety of interactive displays that will engage all of your senses. You can touch a replica of a dinosaur egg, hear the roar of a Megalodon shark, and even smell the foul breath of a giant Pterodactyl. The exhibit also includes fascinating information on the biology and behavior of these ancient creatures, making it both entertaining and educational. With impressive displays and informative exhibits, the Prehistoric Predators Exhibit at the Varkenbluff Museum is an exploration into the fascinating history of the earth's most ferocious predators.\n"
     ]
    }
   ],
   "source": [
    "print(get_completion(f\"\"\"\n",
    "As a dungeon master, Describe the Prehistoric Predators Exhibit of the Varkenbluff Museum on the museum in second person.\n",
    "      \"\"\", temperature=1))"
   ],
   "metadata": {
    "collapsed": false,
    "ExecuteTime": {
     "start_time": "2023-05-27T08:31:19.897444Z",
     "end_time": "2023-05-27T08:31:29.744813Z"
    }
   }
  },
  {
   "cell_type": "code",
   "execution_count": 35,
   "outputs": [
    {
     "name": "stdout",
     "output_type": "stream",
     "text": [
      "As you make your way through the Varkenbluff Museum, you come across the Ancient Plants Exhibit. The air around you is thick with the sweet aroma of floral scents and the sound of gentle leaves rustling in the wind. The exhibit is dimly lit, with subtle lighting scattered throughout that illuminates the lush foliage beautifully. As you approach the center of the exhibit, a large basin catches your eye. The water within the basin is crystal clear, and upon closer inspection, you can see an array of exotic aquatic plants growing. You are surprised to see plants you have never seen before in your entire life, some with petals the size of your head and others with leaves as delicate as butterfly wings.\n",
      "\n",
      "As you continue further into the exhibit, you notice massive trees towering overhead, their gnarled roots twisting into intricate patterns. The trees are adorned with colorful flowers, and strange fruits that look like nothing you've seen before hang from their branches. As you walk, you become increasingly aware of the soft hum and buzzing of bees and other insects that flit from flower to flower in search of nectar.\n",
      "\n",
      "As you round the corner, you stumble upon a small greenhouse, containing some of the rarest and most exotic plants in the world. There are Venus Flytraps, Pitcher Plants, and Swamp Orchids, all thriving in their own little worlds. You can't help but feel fascinated as you observe the intricate details of each plant, each one a masterpiece of nature.\n",
      "\n",
      "Overall, the Ancient Plants Exhibit of the Varkenbluff Museum is a celebration of the beauty and wonder of the plant kingdom. It is a truly magical experience that will leave you in awe of the vitality, diversity, and complexity of the natural world.\n"
     ]
    }
   ],
   "source": [
    "print(get_completion(f\"\"\"\n",
    "As a dungeon master, Describe the Ancient Plants Exhibit of the Varkenbluff Museum on the museum in second person.\n",
    "      \"\"\", temperature=1))"
   ],
   "metadata": {
    "collapsed": false,
    "ExecuteTime": {
     "start_time": "2023-05-27T08:32:12.282410Z",
     "end_time": "2023-05-27T08:32:30.466659Z"
    }
   }
  },
  {
   "cell_type": "code",
   "execution_count": 38,
   "outputs": [
    {
     "name": "stdout",
     "output_type": "stream",
     "text": [
      "As the museum closes at 8pm, you have about two hours to prepare for the heist of the Murkmire Stone from the Gemstone Wing. If you don't immediately go to the Gemstone Wing, the guards will notice your formal attire and periodically suggest you do so. You can explore the public areas of the museum while it's still open, but the offices, basement, and attic are off-limits. If you are caught entering a restricted area or causing a public incident, a guard approaches you. You can try to use trickery or intimidation to convince the guard to leave, but if you fail, the guard becomes hostile and calls for backup. The museum is protected by several security measures after hours, including alarms, animated statues, and guards. However, you can find ways to circumvent these measures by avoiding the statues, stealing pass cards or keys, or sneaking past guards. During the private gala in the Gemstone Wing, you can interact with other attendees and learn a random piece of information from the Museum Gossip table by succeeding on a DC 12 Charisma (Persuasion) check. The curator, Alda Arkin, holds a map of the guards' after-hours stations, a master key to the museum's locked doors, and a pass card that allows her to bypass the museum's alarms in her fancy clutch. The Murkmire Stone sits atop a pedestal with an elaborate defense mechanism in the Gemstone Wing.\n"
     ]
    }
   ],
   "source": [
    "print(get_completion(f\"\"\"\n",
    "You are a dungeon master.\n",
    "\n",
    "Based on the text in double backticks, describe what happens to the me in second person as the museum closes at 8pm.\n",
    "\n",
    "```\n",
    "{gala}\n",
    "```\n",
    "      \"\"\", temperature=1))"
   ],
   "metadata": {
    "collapsed": false,
    "ExecuteTime": {
     "start_time": "2023-05-27T08:38:31.557252Z",
     "end_time": "2023-05-27T08:38:45.986194Z"
    }
   }
  },
  {
   "cell_type": "code",
   "execution_count": 39,
   "outputs": [
    {
     "name": "stdout",
     "output_type": "stream",
     "text": [
      "You enter the Varkenbluff Museum of Natural History's Ancient Plants Exhibit and are greeted by an array of artificial plants made of wood, silk, and other materials. The planters are arranged in an artistic way, showcasing tall ferns, bushes with strange berries, and slender trees. Placards are placed beside each plant, providing information about ancient plant life. Despite the exhibit being closed to the public, a guard still patrols the area. Hallways leading to the north and south connect to the Ancient Cultures Exhibit, and both have alarm spells cast on them. If you take a moment\n"
     ]
    }
   ],
   "source": [
    "print(get_completion(f\"\"\"\n",
    "As a dungeon master, Describe the Ancient Plants Exhibit of the Varkenbluff Museum on the museum in second person. Use the text in\n",
    "double backticks.\n",
    "\n",
    "```\n",
    "{museum}\n",
    "```\n",
    "      \"\"\", temperature=1))"
   ],
   "metadata": {
    "collapsed": false,
    "ExecuteTime": {
     "start_time": "2023-05-27T08:44:16.601181Z",
     "end_time": "2023-05-27T08:44:25.546513Z"
    }
   }
  },
  {
   "cell_type": "code",
   "execution_count": 40,
   "outputs": [
    {
     "name": "stdout",
     "output_type": "stream",
     "text": [
      "You enter room V11, the Unearthed Café. The space holds a mix of cafeteria-style tables and lounge furniture, with a counter in the northeast corner labeled, \"Unearthed Café.\" As you look around, you notice a guard patrolling the area. However, your attention is quickly drawn to a small lockbox stashed under the counter. You approach it and see that it is locked. As an action, you can use your thieves' tools to try to open the lockbox, doing so with a successful DC 14 Dexterity check. If you succeed, you find the lockbox contains 15 gp, 7 sp\n"
     ]
    }
   ],
   "source": [
    "print(get_completion(f\"\"\"\n",
    "As a dungeon master, Describe room V11 in the museum in second person. Use the text in\n",
    "double backticks.\n",
    "\n",
    "```\n",
    "{museum}\n",
    "```\n",
    "      \"\"\", temperature=1))"
   ],
   "metadata": {
    "collapsed": false,
    "ExecuteTime": {
     "start_time": "2023-05-27T08:45:36.416798Z",
     "end_time": "2023-05-27T08:45:43.202590Z"
    }
   }
  },
  {
   "cell_type": "code",
   "execution_count": 41,
   "outputs": [
    {
     "name": "stdout",
     "output_type": "stream",
     "text": [
      "You enter room V14, an access hallway connecting the Unearthed Café to the Prehistoric Predators exhibit and the privies. The walls are made of stone, and the floor is tiled. The hallway is dimly lit, with only a few sconces lining the walls. To your left is the Unearthed Café, and to the right is the Prehistoric Predators exhibit. A set of doors leading to the privies is straight ahead. As you approach the doors, you notice a simple latch allowing each door to be locked from the inside.\n"
     ]
    }
   ],
   "source": [
    "print(get_completion(f\"\"\"\n",
    "As a dungeon master, Describe room V14 in the museum in second person. Use the text in\n",
    "double backticks.\n",
    "\n",
    "```\n",
    "{museum}\n",
    "```\n",
    "      \"\"\", temperature=1))"
   ],
   "metadata": {
    "collapsed": false,
    "ExecuteTime": {
     "start_time": "2023-05-27T08:46:35.525851Z",
     "end_time": "2023-05-27T08:46:42.132588Z"
    }
   }
  },
  {
   "cell_type": "code",
   "execution_count": 42,
   "outputs": [
    {
     "name": "stdout",
     "output_type": "stream",
     "text": [
      "You climb up the winding staircase and enter the cramped space of the attic. The room is cluttered with haphazardly stacked boxes, likely full of supplies for events. Starlight shines through a large skylight, illuminating the space. The skylight overhead is locked, but you could use your thieves' tools to try and unlock it with a successful DC 14 Dexterity check. If you manage to unlock it, lifting it to open it will require a successful DC 12 Strength (Athletics) check. Loose bricks are scattered on the roof near the skylight, which you could use to prop the skylight\n"
     ]
    }
   ],
   "source": [
    "print(get_completion(f\"\"\"\n",
    "As a dungeon master, Describe room V17 in the museum in second person. Use the text in\n",
    "double backticks.\n",
    "\n",
    "```\n",
    "{museum}\n",
    "```\n",
    "      \"\"\", temperature=1))"
   ],
   "metadata": {
    "collapsed": false,
    "ExecuteTime": {
     "start_time": "2023-05-27T08:47:18.383014Z",
     "end_time": "2023-05-27T08:47:26.170104Z"
    }
   }
  },
  {
   "cell_type": "code",
   "execution_count": 44,
   "outputs": [
    {
     "name": "stdout",
     "output_type": "stream",
     "text": [
      "You enter room V13 in the Varkenbluff Museum of Natural History. The Gemstone Wing is dimly lit with a light-green stone resting atop a marble pedestal against the east wall. The stone is the Murkmire Stone, described in detail at the end of this adventure. A detect magic spell reveals an aura of transmutation magic around the pedestal, and the glyphs carved into the base release arcane lock spells on all doors leading into the room if the stone is removed. The unlocked doors will then close and lock, with the exception of the curator and museum guards. You notice\n"
     ]
    }
   ],
   "source": [
    "print(get_completion(f\"\"\"\n",
    "As a dungeon master, Describe room V13 in the museum in second person. Use the text in\n",
    "double backticks.  Use 3 paragraphs of 60 words each.\n",
    "\n",
    "```\n",
    "{museum}\n",
    "```\n",
    "      \"\"\", temperature=1))"
   ],
   "metadata": {
    "collapsed": false,
    "ExecuteTime": {
     "start_time": "2023-05-27T08:48:35.041742Z",
     "end_time": "2023-05-27T08:48:42.353208Z"
    }
   }
  },
  {
   "cell_type": "code",
   "execution_count": 45,
   "outputs": [
    {
     "name": "stdout",
     "output_type": "stream",
     "text": [
      "You enter a grand entrance with statues of robed women flanking each side of the space. A marble column stands in the center with an information desk just inside the front doors. To the north is a grand staircase draped in rich carpet. Two guards patrol the area, but beware - the statues flanking the information desk animate if a character comes within 5 feet of them, using the animated armor stat block and fighting until they're destroyed.\n",
      "\n",
      "The grand entrance is dimly lit, and guards carry hooded lanterns. An alarm spell also has been cast on the bottom of the grand staircase\n"
     ]
    }
   ],
   "source": [
    "print(get_completion(f\"\"\"\n",
    "As a dungeon master, Describe room V1 in the museum in second person. Use the text in\n",
    "double backticks.  Use 3 paragraphs of 60 words each.\n",
    "\n",
    "```\n",
    "{museum}\n",
    "```\n",
    "      \"\"\", temperature=1))"
   ],
   "metadata": {
    "collapsed": false,
    "ExecuteTime": {
     "start_time": "2023-05-27T08:49:17.335981Z",
     "end_time": "2023-05-27T08:49:24.437557Z"
    }
   }
  },
  {
   "cell_type": "code",
   "execution_count": 46,
   "outputs": [
    {
     "name": "stdout",
     "output_type": "stream",
     "text": [
      "The museum gala celebrating the opening of the Murkmire Stone exhibition is a private event that begins at 6 p.m. and ends at 8 p.m. Before attending, characters must retrieve or procure formal attire and stash their weapons and visible armor. The museum's facade boasts enormous columns and elegant archways hewn from marble, while cosmopolitan visitors bustle about the entrance, including some clad in sleek formalwear.\n",
      "\n",
      "During the first part of the gala, characters can explore the public areas of the museum and prepare for the heist before the museum closes at 8 p.m. Museum guards notice anyone not immediately heading to the Gemstone Wing, where the Murkmire Stone is ensconced. The doors to the museum’s offices and basement are locked at all hours, and any characters caught entering a restricted area or causing a public incident are escorted from the museum.\n",
      "\n",
      "After the museum closes, the characters can hide in various locations, such as cleaning supply storage, privies, attic, or basement. If the characters decide to leave the museum and sneak back inside after hours, they can either pick the front doors' lock, enter through the attic skylight, or pry open the loading dock doors. During the gala, the characters can interact with other attendees and the museum's curator, Alda Arkin, who holds a map of the museum guards’ after-hours stations, a master key to the museum’s locked doors, and a pass card that allows her to bypass the museum’s alarms. \n",
      "\n",
      "Overall, the opening gala of the Murkmire Stone exhibition is a sophisticated event that requires careful planning and stealthy movements. The museum's tight security and various security measures, including alarms, animated statues, and Gemstone Wing defenses, make it a challenging heist for characters looking to acquire the Murkmire Stone.\n"
     ]
    }
   ],
   "source": [
    "print(get_completion(f\"\"\"\n",
    "As a dungeon master, Describe the museum gala based on the text in double backticks.  Use 3 paragraphs of 60 words each.\n",
    "\n",
    "```\n",
    "{gala}\n",
    "```\n",
    "      \"\"\", temperature=1))"
   ],
   "metadata": {
    "collapsed": false,
    "ExecuteTime": {
     "start_time": "2023-05-27T08:50:05.686189Z",
     "end_time": "2023-05-27T08:50:23.424341Z"
    }
   }
  },
  {
   "cell_type": "code",
   "execution_count": null,
   "outputs": [],
   "source": [
    "\"\"\"\n",
    "Vladirmir Calimirssian.\"\"\""
   ],
   "metadata": {
    "collapsed": false
   }
  }
 ],
 "metadata": {
  "kernelspec": {
   "display_name": "Python 3",
   "language": "python",
   "name": "python3"
  },
  "language_info": {
   "codemirror_mode": {
    "name": "ipython",
    "version": 2
   },
   "file_extension": ".py",
   "mimetype": "text/x-python",
   "name": "python",
   "nbconvert_exporter": "python",
   "pygments_lexer": "ipython2",
   "version": "2.7.6"
  }
 },
 "nbformat": 4,
 "nbformat_minor": 0
}
