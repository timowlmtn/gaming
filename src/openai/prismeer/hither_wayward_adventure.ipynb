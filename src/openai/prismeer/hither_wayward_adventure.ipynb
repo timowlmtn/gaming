{
 "cells": [
  {
   "cell_type": "code",
   "execution_count": 1,
   "metadata": {
    "collapsed": true,
    "ExecuteTime": {
     "start_time": "2023-05-24T06:51:56.583147Z",
     "end_time": "2023-05-24T06:51:56.701543Z"
    }
   },
   "outputs": [],
   "source": [
    "import openai\n",
    "import os\n",
    "\n",
    "from dotenv import load_dotenv, find_dotenv\n",
    "_ = load_dotenv(find_dotenv()) # read local .env file\n",
    "\n",
    "openai.api_key  = os.getenv('OPENAI_API_KEY')"
   ]
  },
  {
   "cell_type": "code",
   "execution_count": 2,
   "outputs": [],
   "source": [
    "def get_completion(prompt, model=\"gpt-3.5-turbo\", temperature=0): # Andrew mentioned that the prompt/ completion paradigm is preferable for this class\n",
    "    messages = [{\"role\": \"user\", \"content\": prompt}]\n",
    "    response = openai.ChatCompletion.create(\n",
    "        model=model,\n",
    "        messages=messages,\n",
    "        temperature=temperature, # this is the degree of randomness of the model's output\n",
    "    )\n",
    "    return response.choices[0].message[\"content\"]\n",
    "\n",
    "def read_file(filename):\n",
    "    with open(filename, \"r\") as fin:\n",
    "        result = fin.read()\n",
    "\n",
    "    return result"
   ],
   "metadata": {
    "collapsed": false,
    "ExecuteTime": {
     "start_time": "2023-05-24T06:51:56.702595Z",
     "end_time": "2023-05-24T06:51:56.703937Z"
    }
   }
  },
  {
   "cell_type": "code",
   "execution_count": 5,
   "outputs": [],
   "source": [
    "wayward_pool = read_file(\"../../../data/dnd/witchlight/wayward_pool.txt\")"
   ],
   "metadata": {
    "collapsed": false,
    "ExecuteTime": {
     "start_time": "2023-05-24T06:55:05.620360Z",
     "end_time": "2023-05-24T06:55:05.629072Z"
    }
   }
  },
  {
   "cell_type": "code",
   "execution_count": 6,
   "outputs": [
    {
     "name": "stdout",
     "output_type": "stream",
     "text": [
      "The five room dungeon technique is a popular framework used in designing and running dungeons or adventure modules in Dungeons and Dragons. It involves breaking down a dungeon or adventure into five distinct sections or rooms, each with its own purpose and challenges. These sections are:\n",
      "\n",
      "1. Entrance: The first room of the dungeon, which introduces the players to the adventure and sets the tone for what lies ahead. It may include initial obstacles, traps, or puzzles.\n",
      "\n",
      "2. Puzzle or Roleplaying Challenge: A room that requires the players to solve a puzzle or engage in a non-combat encounter, such as negotiating with NPCs or navigating complex social situations.\n",
      "\n",
      "3. Trick or Setback: A room that introduces a twist or setback that complicates the players' progress, such as a trap or ambush.\n",
      "\n",
      "4. Climax: The most significant room in the dungeon, where the players face off against the primary antagonist or overcome the final obstacle. This room usually involves combat, but it can also include other challenges.\n",
      "\n",
      "5. Reward or Revelation: The final room, which includes rewards for completing the dungeon or reveals important information about the adventure or game world.\n",
      "\n",
      "The five room dungeon technique is a flexible framework that can be adapted to many different types of adventures and settings in Dungeons and Dragons. It helps ensure that the adventure has a clear structure and provides engaging challenges for the players throughout.\n"
     ]
    }
   ],
   "source": [
    "prompt = f\"\"\"\n",
    "What is the five room dungeon technique in dungeons and dragons?\n",
    "\"\"\"\n",
    "\n",
    "\n",
    "response = get_completion(prompt, temperature=1)\n",
    "print(response)"
   ],
   "metadata": {
    "collapsed": false,
    "ExecuteTime": {
     "start_time": "2023-05-24T06:55:07.356583Z",
     "end_time": "2023-05-24T06:55:14.567138Z"
    }
   }
  },
  {
   "cell_type": "code",
   "execution_count": 7,
   "outputs": [
    {
     "name": "stdout",
     "output_type": "stream",
     "text": [
      "Adventure: The Unicorn's Mate\n",
      "\n",
      "Introduction:\n",
      "As the characters travel towards Loomlurch or Little Oak, they come across Wayward Pool, a small lake surrounded by forested crags. However, any attempt to approach the lake's shore leads them back to where they started, except for those who are unicorns or have a fake unicorn horn. This is because the lake is protected by a unicorn named Lamorna who has claimed it as her domain. The characters can either find a way to become unicorns or use the Getaway Gang's unicorn costume to approach the lake's shore.\n",
      "\n",
      "Room 1: Summoning the Unicorn\n",
      "Once the characters reach the islet in the middle of the lake, they can light the fire in the iron bowl atop the islet to summon Lamorna. She appears on the lakeshore 1 minute later and telepathically communicates with the characters. Lamorna tells them about the Hourglass Coven who stole her mate, Elidon's horn, and used its magic to imprison the archfey Zybilna in her stronghold, the Palace of Heart's Desire. She urges the characters to free Zybilna and save Prismeer from the evil hags. Lamorna also offers Wayward Pool as a safe place to rest and describes the lake's magical properties.\n",
      "\n",
      "Room 2: Zarak Attacks!\n",
      "As the characters converse with Lamorna, they are suddenly attacked by an assassin named Zarak who has been ordered by the wizard Kelek to hunt down Lamorna and chop off her horn. Zarak is surprised by any character with a passive Wisdom (Perception) score of 17 or higher. Lamorna teleports away, leaving Zarak to face the characters alone. Zarak retreats if not spoiling for a fight or is willing to give up his hunt in exchange for gold or if led to Nib's cave.\n",
      "\n",
      "Room 3: Information about the League of Malevolence\n",
      "If the characters manage to capture Zarak or persuade him with magic, he reveals some information about the League of Malevolence. Kelek, the leader, wants to take custody of a magic staff belonging to his enemy, wizard Ringlerun, who is frozen in time in the Palace of Heart's Desire. Zargash, a priest of Orcus, and Skylla, a warlock, are also members of the league. Skylla knows more about the Hourglass Coven and Iggwilv's Cauldron, but has gone missing.\n",
      "\n",
      "Conclusion:\n",
      "If the characters manage to defeat the Hourglass Coven and free Zybilna, they can break the spell on Lamorna's mate, Elidon, and reunite him with her. Lamorna rewards each character with a charm of heroism.\n"
     ]
    }
   ],
   "source": [
    "prompt = f\"\"\"\n",
    "Using the five room dungeon technique, organize the text in triple backticks into an adventure.\n",
    "\n",
    "```\n",
    "{wayward_pool}\n",
    "```\n",
    "\"\"\"\n",
    "\n",
    "\n",
    "response = get_completion(prompt, temperature=1)\n",
    "print(response)"
   ],
   "metadata": {
    "collapsed": false,
    "ExecuteTime": {
     "start_time": "2023-05-24T06:55:18.102542Z",
     "end_time": "2023-05-24T06:55:32.387395Z"
    }
   }
  },
  {
   "cell_type": "code",
   "execution_count": null,
   "outputs": [],
   "source": [],
   "metadata": {
    "collapsed": false
   }
  }
 ],
 "metadata": {
  "kernelspec": {
   "display_name": "Python 3",
   "language": "python",
   "name": "python3"
  },
  "language_info": {
   "codemirror_mode": {
    "name": "ipython",
    "version": 2
   },
   "file_extension": ".py",
   "mimetype": "text/x-python",
   "name": "python",
   "nbconvert_exporter": "python",
   "pygments_lexer": "ipython2",
   "version": "2.7.6"
  }
 },
 "nbformat": 4,
 "nbformat_minor": 0
}
