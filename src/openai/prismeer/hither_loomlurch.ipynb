{
 "cells": [
  {
   "cell_type": "code",
   "execution_count": 35,
   "metadata": {
    "collapsed": true,
    "ExecuteTime": {
     "start_time": "2023-05-25T18:30:54.861515Z",
     "end_time": "2023-05-25T18:30:54.869227Z"
    }
   },
   "outputs": [],
   "source": [
    "import openai\n",
    "import os\n",
    "\n",
    "from dotenv import load_dotenv, find_dotenv\n",
    "_ = load_dotenv(find_dotenv()) # read local .env file\n",
    "\n",
    "openai.api_key  = os.getenv('OPENAI_API_KEY')"
   ]
  },
  {
   "cell_type": "code",
   "execution_count": 36,
   "outputs": [],
   "source": [
    "def get_completion(prompt, model=\"gpt-3.5-turbo\", temperature=0): # Andrew mentioned that the prompt/ completion paradigm is preferable for this class\n",
    "    messages = [{\"role\": \"user\", \"content\": prompt}]\n",
    "    response = openai.ChatCompletion.create(\n",
    "        model=model,\n",
    "        messages=messages,\n",
    "        temperature=temperature, # this is the degree of randomness of the model's output\n",
    "    )\n",
    "    return response.choices[0].message[\"content\"]\n",
    "\n",
    "def read_file(filename):\n",
    "    with open(filename, \"r\") as fin:\n",
    "        result = fin.read()\n",
    "\n",
    "    return result"
   ],
   "metadata": {
    "collapsed": false,
    "ExecuteTime": {
     "start_time": "2023-05-25T18:30:56.034938Z",
     "end_time": "2023-05-25T18:30:56.039306Z"
    }
   }
  },
  {
   "cell_type": "code",
   "execution_count": 37,
   "outputs": [
    {
     "name": "stdout",
     "output_type": "stream",
     "text": [
      "The five room dungeon technique is a popular method of creating a dungeon adventure in Dungeons and Dragons or other role-playing games. It involves dividing the adventure into five distinct areas, each with a specific purpose or challenge:\n",
      "\n",
      "1. Entrance/Guardian: The first room or area typically features some kind of obstacle or challenge that players must overcome to gain entry to the dungeon proper. This could be a locked door, a trap, a monster guarding the entrance, or some other hazard.\n",
      "\n",
      "2. Puzzle/Roleplaying Challenge: In this room, players are presented with a puzzle or roleplaying challenge that they must solve or navigate before they can progress further into the dungeon. This could be a riddle, a moral dilemma, or some other challenge that requires players to think creatively and use their skills.\n",
      "\n",
      "3. Trick/Setback: This room features a setback or twist that complicates the player's progress through the dungeon. This could be a trap that springs unexpectedly, an enemy that appears to be defeated only to rise again later, or some other unexpected obstacle.\n",
      "\n",
      "4. Climax/Boss Battle: This is the final challenge of the dungeon, typically a boss battle or other high-stakes encounter that requires players to use all their skills and resources to overcome. This challenge should feel like a true climax, with high stakes and a sense of danger.\n",
      "\n",
      "5. Reward/Revelation: The final room of the dungeon should offer some kind of reward or revelation for the players. This could be treasure, a magic item, a valuable piece of information, or some other reward that feels satisfying and ties up the adventure neatly.\n",
      "\n",
      "The five room dungeon technique is a popular way to structure adventures in Dungeons and Dragons because it provides a clear framework for building a compelling story that offers challenges, rewards, and a sense of progression.\n"
     ]
    }
   ],
   "source": [
    "prompt = f\"\"\"\n",
    "What is the five room dungeon technique in dungeons and dragons?\n",
    "\"\"\"\n",
    "\n",
    "\n",
    "response = get_completion(prompt, temperature=1)\n",
    "print(response)"
   ],
   "metadata": {
    "collapsed": false,
    "ExecuteTime": {
     "start_time": "2023-05-25T18:31:10.134812Z",
     "end_time": "2023-05-25T18:31:22.567620Z"
    }
   }
  },
  {
   "cell_type": "code",
   "execution_count": 39,
   "outputs": [
    {
     "name": "stdout",
     "output_type": "stream",
     "text": [
      "Adventure: Loomlurch\n",
      "Type: Rescue Mission\n",
      "\n",
      "Introduction: The characters are on a mission to rescue the children kidnapped by Granny Nightshade and her minions. They have received information that the children are being kept in Loomlurch, a twisted workshop carved out of the interior of a gigantic oak that has fallen over.\n",
      "\n",
      "Room 1: Root bridges (area L1)\n",
      "As the characters approach Loomlurch, they must cross root bridges over a deep ravine to get to the entrance. Boggles, small fey creatures, will try to knock them off the bridges. Characters who fall into the ravine take 2d6 bludgeoning damage and must succeed on a DC 13 Dexterity saving throw or be restrained by roots.\n",
      "\n",
      "Room 2: Stalls (area L2)\n",
      "On one side of the fallen tree, firelight spills from a pair of quaint storefront windows, illuminating a clearing filled with merchant stalls. Unbeknownst to the characters, some of these stalls are traps set by Granny Nightshade's minions. The minions, disguised as merchants, will try to lure the characters into the stalls and attack them.\n",
      "\n",
      "Room 3: Entrance (area L3)\n",
      "The entrance to Loomlurch is a sturdy wooden door with iron fittings. It is unlocked, but the characters may try to pick the lock if they prefer. Once inside, they will come face to face with Granny Nightshade's minions. \n",
      "\n",
      "Room 4: Workshop (area L4)\n",
      "The workshop is operated by kidnapped children who are allowed a small measure of freedom to carry out their labors, under the watchful eyes of the hag’s minions. Characters who observe the workshop can see diminutive figures prowling around inside: kidnapped children and Boggles. They must sneak past the minions and find a way to free the children.\n",
      "\n",
      "Room 5: Study (area L5)\n",
      "Granny Nightshade's study is where she keeps the children's parents prisoner. The room is heavily guarded, and characters must use stealth or force to get in. Once inside, they must free the parents and any other captives they find.\n",
      "\n",
      "Conclusion: Once the characters have freed the children and the parents, they must make their way out of Loomlurch. They may face resistance from Granny Nightshade and her minions, who will try to stop them from leaving. If they succeed, the characters will be hailed as heroes and rewarded for their bravery.\n"
     ]
    }
   ],
   "source": [
    "loomlurch_approaching = read_file(\"../../../data/dnd/witchlight/1_loomlurch_approaching.txt\")\n",
    "prompt = f\"\"\"\n",
    "Using the five room dungeon technique, organize the text in triple backticks into an adventure.\n",
    "\n",
    "```\n",
    "{loomlurch_approaching}\n",
    "```\n",
    "\"\"\"\n",
    "\n",
    "\n",
    "five_room_dungeon = get_completion(prompt, temperature=1)\n",
    "print(five_room_dungeon)"
   ],
   "metadata": {
    "collapsed": false,
    "ExecuteTime": {
     "start_time": "2023-05-25T18:32:43.059362Z",
     "end_time": "2023-05-25T18:32:58.673510Z"
    }
   }
  },
  {
   "cell_type": "code",
   "execution_count": 33,
   "outputs": [],
   "source": [
    "loomlurch_locations = read_file(\"../../../data/dnd/witchlight/5_loomlurch_locations_1.txt\")\n",
    "prompt = f\"\"\"\n",
    "As a dungeon master, describe the approach to Room One in the Adventure in a mysterious and menacing way, using the locations in triple backticks to\n",
    "flavor the text.\n",
    "\n",
    "Use two paragraphs of at least 60 words each.\n",
    "\n",
    "```\n",
    "{loomlurch_locations}\n",
    "```\n",
    "\"\"\""
   ],
   "metadata": {
    "collapsed": false,
    "ExecuteTime": {
     "start_time": "2023-05-25T14:23:13.440443Z",
     "end_time": "2023-05-25T14:23:13.446124Z"
    }
   }
  },
  {
   "cell_type": "code",
   "execution_count": 34,
   "outputs": [
    {
     "name": "stdout",
     "output_type": "stream",
     "text": [
      "The gnarled bridge formed by tangled tree roots spans a rocky, dried-up riverbed, swaying and creaking underfoot. The characters must make a DC 12 Dexterity (Stealth) check to avoid alerting the creatures stationed in the goblin market (area L2), where three stalls selling candy are situated. Two goblins are working in each stall, watched over by a goblin with a toffee apple head who appears to be muttering quietly to himself. This goblin is Chucklehead, the goblin boss who can escort characters to the parlor (area L3) if they request a meeting with Granny Nightshade.\n",
      "\n",
      "The parlor is nestled between walls of twisted roots, through gaps in which the characters can see the eerily beautiful woodland surrounding them. The closed wooden door stands opposite the root bridge that leads into the room, in the center of which are four armchairs encircling a small table laid out for a tea service. The room is cluttered with items and hoarded treasures like a spell scroll of speak with plants and a set of four silver teaspoons engraved with pained facial expressions. However, the three armchairs in the room are trained mimics in disguise, magically compelled to adhere to creatures only when Granny Nightshade orders them to do so. The hag makes children craft nightmarish toys in the adjacent workshop (area L4), where flickering lanterns illuminate a cluttered workspace filled with soft, ambient music produced by bells and chimes. The boggles that lurk in the shadows intend to play pranks on visitors while awaiting their potential freedom.\n"
     ]
    }
   ],
   "source": [
    "\n",
    "room_one = get_completion(prompt, temperature=1)\n",
    "print(room_one)"
   ],
   "metadata": {
    "collapsed": false,
    "ExecuteTime": {
     "start_time": "2023-05-25T14:23:58.564609Z",
     "end_time": "2023-05-25T14:24:12.262214Z"
    }
   }
  },
  {
   "cell_type": "code",
   "execution_count": 30,
   "outputs": [
    {
     "name": "stdout",
     "output_type": "stream",
     "text": [
      "Room 2:\n",
      "As the characters navigate the winding, tree-lined path beyond Granny Nightshade's parlor, they eventually come upon a decrepit old barn. The door creaks open, revealing a dimly lit interior filled with the sour smell of moldy straw and cobwebs. However, upon closer inspection, the barn appears to be a front for a goblin smuggling operation. The characters can hear the soft whispers of sneaky goblins huddled around a crudely-drawn map, planning their next heist. The walls are lined with cages of exotic animals and contraband goods from across the land, all awaiting shipment to eager goblin customers. The adventurers must navigate the obstacles of hay bales and crates to avoid detection and gather any intel they can before moving on to the next part of their quest.\n"
     ]
    }
   ],
   "source": [
    "\n",
    "prompt = f\"\"\"\n",
    "Using the five room dungeon technique, describe Room 2 based on Room one denoted by the backticks\n",
    "\n",
    "```\n",
    "{room_one}\n",
    "```\n",
    "\"\"\"\n",
    "\n",
    "\n",
    "room_2 = get_completion(prompt, temperature=1)\n",
    "print(room_2)"
   ],
   "metadata": {
    "collapsed": false,
    "ExecuteTime": {
     "start_time": "2023-05-25T14:20:51.198627Z",
     "end_time": "2023-05-25T14:20:57.935158Z"
    }
   }
  },
  {
   "cell_type": "code",
   "execution_count": null,
   "outputs": [],
   "source": [],
   "metadata": {
    "collapsed": false
   }
  }
 ],
 "metadata": {
  "kernelspec": {
   "display_name": "Python 3",
   "language": "python",
   "name": "python3"
  },
  "language_info": {
   "codemirror_mode": {
    "name": "ipython",
    "version": 2
   },
   "file_extension": ".py",
   "mimetype": "text/x-python",
   "name": "python",
   "nbconvert_exporter": "python",
   "pygments_lexer": "ipython2",
   "version": "2.7.6"
  }
 },
 "nbformat": 4,
 "nbformat_minor": 0
}
