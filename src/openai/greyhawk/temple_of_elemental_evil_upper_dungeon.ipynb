{
 "cells": [
  {
   "cell_type": "code",
   "execution_count": 1,
   "metadata": {
    "collapsed": true,
    "ExecuteTime": {
     "start_time": "2023-05-24T06:58:55.380387Z",
     "end_time": "2023-05-24T06:58:55.497015Z"
    }
   },
   "outputs": [],
   "source": [
    "import openai\n",
    "import os\n",
    "\n",
    "from dotenv import load_dotenv, find_dotenv\n",
    "_ = load_dotenv(find_dotenv()) # read local .env file\n",
    "\n",
    "openai.api_key  = os.getenv('OPENAI_API_KEY')"
   ]
  },
  {
   "cell_type": "code",
   "execution_count": 2,
   "outputs": [],
   "source": [
    "def get_completion(prompt, model=\"gpt-3.5-turbo\", temperature=0): # Andrew mentioned that the prompt/ completion paradigm is preferable for this class\n",
    "    messages = [{\"role\": \"user\", \"content\": prompt}]\n",
    "    response = openai.ChatCompletion.create(\n",
    "        model=model,\n",
    "        messages=messages,\n",
    "        temperature=temperature, # this is the degree of randomness of the model's output\n",
    "    )\n",
    "    return response.choices[0].message[\"content\"]\n",
    "\n",
    "def read_file(filename):\n",
    "    with open(filename, \"r\") as fin:\n",
    "        result = fin.read()\n",
    "\n",
    "    return result"
   ],
   "metadata": {
    "collapsed": false,
    "ExecuteTime": {
     "start_time": "2023-05-24T06:58:55.498724Z",
     "end_time": "2023-05-24T06:58:55.499883Z"
    }
   }
  },
  {
   "cell_type": "code",
   "execution_count": 3,
   "outputs": [],
   "source": [
    "dungeon_upper = read_file(\"../../../data/dnd/greyhawk/verbobonc/temple_of_elemental_evil/11_moathouse_dungeon_upper.txt\")"
   ],
   "metadata": {
    "collapsed": false,
    "ExecuteTime": {
     "start_time": "2023-05-24T06:59:23.413934Z",
     "end_time": "2023-05-24T06:59:23.425605Z"
    }
   }
  },
  {
   "cell_type": "code",
   "execution_count": 4,
   "outputs": [
    {
     "name": "stdout",
     "output_type": "stream",
     "text": [
      "Adventure: The Moathouse Dungeon\n",
      "\n",
      "Entrance: The players enter the dungeon from the top of a staircase that leads down to a cavernous space with towering ceilings. Two gnoll guards stand at the bottom of the stairs and attack intruders on sight.\n",
      "\n",
      "Puzzle or Roleplaying Challenge: The players come across an old storeroom with a weathered suit of armor and three large shields. One shield bears the symbol of a flaming eye. The players must investigate and piece together the history of the place based on the items they find.\n",
      "\n",
      "Trick or Setback: The players enter an old armory, which has been ruined and is filled with debris. As they navigate the room, they trigger a trap that causes a portcullis to fall from the ceiling and pin them down.\n",
      "\n",
      "Climax: The players must fight their way through a prison, which is guarded by a ghast. The ghast commands any ghouls found in the dungeon and is spawned by the corruption inherent in the obelisk's power.\n",
      "\n",
      "Reward: The players come across a room filled with excavated relics. These relics include a torch of revealing, a black scepter, a bead of force, and a worm-ridden scroll that provides information for accessing an extraplanar node of utter darkness called the Black Cyst.\n",
      "\n",
      "Bonus Room: The players must navigate through the gnoll lair, located in an oddly shaped room that bears signs of fire. The leader of the gnolls, Garrik, is a ranger whose favored enemy is humans. The players must defeat Garrik and his troops to progress through the dungeon.\n",
      "\n",
      "Bonus Room: The players enter a room of the clerics' quarters, which contains six old wooden beds with straw mattresses. The room is trapped with an aglyph of warding activated when a locked box is opened without saying \"Praise the Elder Elemental Eye.\" The box contains potions, scrolls, and a ceremonial dagger with gold inlay.\n",
      "\n",
      "Bonus Room: The players must face an ambush from a ghast in a stairwell leading to the dungeon's depths. The ghast is spawned by the obelisk's power and obeys the clerics of the Elder Elemental Eye.\n",
      "\n",
      "Conclusion: The players must make their way through the dungeon, fighting off gnolls, avoiding traps, and facing the corruption of the obelisk's power. Ultimately, they will come face to face with the clerics of the Elder Elemental Eye and must defeat them to save the surrounding lands from their evil influence.\n"
     ]
    }
   ],
   "source": [
    "prompt = f\"\"\"\n",
    "Using the five room dungeon technique of 1. Entrance, 2. Puzzle or Roleplaying Challenge, 3. Trick or Setback, 4. Climax, and 5. Reward, organize the text in triple backticks into an adventure.\n",
    "\n",
    "```\n",
    "{dungeon_upper}\n",
    "```\n",
    "\"\"\"\n",
    "\n",
    "\n",
    "response = get_completion(prompt, temperature=1)\n",
    "print(response)"
   ],
   "metadata": {
    "collapsed": false,
    "ExecuteTime": {
     "start_time": "2023-05-24T07:00:59.065670Z",
     "end_time": "2023-05-24T07:01:12.352762Z"
    }
   }
  },
  {
   "cell_type": "code",
   "execution_count": null,
   "outputs": [],
   "source": [],
   "metadata": {
    "collapsed": false
   }
  }
 ],
 "metadata": {
  "kernelspec": {
   "display_name": "Python 3",
   "language": "python",
   "name": "python3"
  },
  "language_info": {
   "codemirror_mode": {
    "name": "ipython",
    "version": 2
   },
   "file_extension": ".py",
   "mimetype": "text/x-python",
   "name": "python",
   "nbconvert_exporter": "python",
   "pygments_lexer": "ipython2",
   "version": "2.7.6"
  }
 },
 "nbformat": 4,
 "nbformat_minor": 0
}
