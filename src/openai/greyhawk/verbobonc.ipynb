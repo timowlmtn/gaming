{
 "cells": [
  {
   "cell_type": "code",
   "execution_count": 1,
   "metadata": {
    "collapsed": true,
    "ExecuteTime": {
     "start_time": "2023-05-13T11:04:05.519745Z",
     "end_time": "2023-05-13T11:04:05.787637Z"
    }
   },
   "outputs": [],
   "source": [
    "import openai\n",
    "import os\n",
    "\n",
    "from dotenv import load_dotenv, find_dotenv\n",
    "\n",
    "_ = load_dotenv(find_dotenv())  # read local .env file\n",
    "\n",
    "openai.api_key = os.getenv('OPENAI_API_KEY')\n",
    "\n",
    "\n",
    "def get_completion(prompt, model=\"gpt-3.5-turbo\",\n",
    "                   temperature=0):  # Andrew mentioned that the prompt/ completion paradigm is preferable for this class\n",
    "    messages = [{\"role\": \"user\", \"content\": prompt}]\n",
    "    response = openai.ChatCompletion.create(\n",
    "        model=model,\n",
    "        messages=messages,\n",
    "        temperature=temperature,  # this is the degree of randomness of the model's output\n",
    "    )\n",
    "    return response.choices[0].message[\"content\"]\n",
    "\n",
    "\n",
    "def read_file(filename):\n",
    "    with open(filename, \"r\") as fin:\n",
    "        result = fin.read()\n",
    "\n",
    "    return result"
   ]
  },
  {
   "cell_type": "code",
   "execution_count": 2,
   "outputs": [],
   "source": [
    "verbonbonc = read_file(\"../../../data/dnd/greyhawk/verbobonc/verbobonc.txt\")\n",
    "\n"
   ],
   "metadata": {
    "collapsed": false,
    "ExecuteTime": {
     "start_time": "2023-05-13T11:04:30.259113Z",
     "end_time": "2023-05-13T11:04:30.263370Z"
    }
   }
  },
  {
   "cell_type": "code",
   "execution_count": 4,
   "outputs": [
    {
     "name": "stdout",
     "output_type": "stream",
     "text": [
      "Verbobonc is a semi-independent town and viscounty, rich in trade and home to humans, elves, and gnomes. It has a diligent work ethic and a cautious but friendly population. The town has a religious and secular army, and orders of knighthood are few. Verbobonc has a history of battling evil cults, including the infamous Temple of Elemental Evil. The current viscount, Langard, is a half-elf and a cautious ruler. Conflicts include evil cults, the allegiance of the gnomes, and exiles from the Wild Coast.\n"
     ]
    }
   ],
   "source": [
    "prompt = f\"\"\"\n",
    "You are a dungeon master.\n",
    "\n",
    "Describe the city of Verbobonc in less than 50 words using the Background.\n",
    "\n",
    "Setting: \"{verbonbonc}\n",
    "\n",
    "\"\"\"\n",
    "\n",
    "response = get_completion(prompt)\n",
    "print(response)"
   ],
   "metadata": {
    "collapsed": false,
    "ExecuteTime": {
     "start_time": "2023-05-13T11:05:16.385048Z",
     "end_time": "2023-05-13T11:05:20.499330Z"
    }
   }
  },
  {
   "cell_type": "code",
   "execution_count": null,
   "outputs": [],
   "source": [],
   "metadata": {
    "collapsed": false
   }
  }
 ],
 "metadata": {
  "kernelspec": {
   "display_name": "Python 3",
   "language": "python",
   "name": "python3"
  },
  "language_info": {
   "codemirror_mode": {
    "name": "ipython",
    "version": 2
   },
   "file_extension": ".py",
   "mimetype": "text/x-python",
   "name": "python",
   "nbconvert_exporter": "python",
   "pygments_lexer": "ipython2",
   "version": "2.7.6"
  }
 },
 "nbformat": 4,
 "nbformat_minor": 0
}
