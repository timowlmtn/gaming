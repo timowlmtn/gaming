{
 "cells": [
  {
   "cell_type": "code",
   "execution_count": 27,
   "metadata": {
    "ExecuteTime": {
     "start_time": "2023-05-11T19:07:25.158297Z",
     "end_time": "2023-05-11T19:07:25.177057Z"
    }
   },
   "outputs": [],
   "source": [
    "import openai\n",
    "import os\n",
    "\n",
    "from dotenv import load_dotenv, find_dotenv\n",
    "_ = load_dotenv(find_dotenv()) # read local .env file\n",
    "\n",
    "openai.api_key  = os.getenv('OPENAI_API_KEY')"
   ]
  },
  {
   "cell_type": "markdown",
   "metadata": {},
   "source": []
  },
  {
   "cell_type": "code",
   "execution_count": 28,
   "metadata": {
    "ExecuteTime": {
     "start_time": "2023-05-11T19:07:26.278268Z",
     "end_time": "2023-05-11T19:07:26.281353Z"
    }
   },
   "outputs": [],
   "source": [
    "def get_completion(prompt, model=\"gpt-3.5-turbo\", temperature=0): # Andrew mentioned that the prompt/ completion paradigm is preferable for this class\n",
    "    messages = [{\"role\": \"user\", \"content\": prompt}]\n",
    "    response = openai.ChatCompletion.create(\n",
    "        model=model,\n",
    "        messages=messages,\n",
    "        temperature=temperature, # this is the degree of randomness of the model's output\n",
    "    )\n",
    "    return response.choices[0].message[\"content\"]\n",
    "\n",
    "def read_file(filename):\n",
    "    pass\n",
    "\n"
   ]
  },
  {
   "cell_type": "code",
   "execution_count": 29,
   "metadata": {
    "ExecuteTime": {
     "start_time": "2023-05-11T19:07:33.063853Z",
     "end_time": "2023-05-11T19:07:33.066781Z"
    }
   },
   "outputs": [],
   "source": [
    "toe_gygax_1976 = read_file(\"gaming/data/dnd/greyhawk/verbobonc/temple_of_elemental_evil/1_introduction.txt\")"
   ]
  },
  {
   "cell_type": "code",
   "execution_count": 4,
   "metadata": {
    "ExecuteTime": {
     "end_time": "2023-05-10T07:38:00.503988Z",
     "start_time": "2023-05-10T07:37:57.761466Z"
    }
   },
   "outputs": [
    {
     "name": "stdout",
     "output_type": "stream",
     "text": [
      "A cult of chaotic evil worshipped the elemental forces of the universe and sought to destroy all works of good. They grew powerful and rich, attracting followers of the worst sort, and offering safety within their temple stronghold. Eventually, a mighty host of good, lawful, and chaotic forces banded together to besiege and destroy the temple, putting its inhabitants to the sword.\n"
     ]
    }
   ],
   "source": [
    "prompt = f\"\"\"\n",
    "You are a crazy old man telling a story in a D&D game.\n",
    "\n",
    "Generate a short summary of the history of the Temple of\n",
    "Elemental Evil.\n",
    "\n",
    "Summarize the story, delimited by triple backticks, in at most 30 words.\n",
    "\n",
    "```\n",
    "{toe_gygax_1976}\n",
    "```\n",
    "\"\"\"\n",
    "\n",
    "response = get_completion(prompt)\n",
    "print(response)"
   ]
  },
  {
   "cell_type": "code",
   "execution_count": 5,
   "metadata": {
    "ExecuteTime": {
     "end_time": "2023-05-10T07:39:47.167269Z",
     "start_time": "2023-05-10T07:39:43.860879Z"
    }
   },
   "outputs": [
    {
     "name": "stdout",
     "output_type": "stream",
     "text": [
      "A cult of chaotic evil worshipped the elemental forces of the universe and sought to destroy all works of good. They grew powerful and rich, attracting followers of the worst sort, and offering safety within their temple stronghold. The temple had extensive upper works and a deep labyrinth beneath, inhabited by creatures serving chaos and evil. Eventually, a mighty host of good, lawful, and chaotic neighbors banded together to besiege and destroy the temple, putting its inhabitants to the sword.\n"
     ]
    }
   ],
   "source": [
    "prompt = f\"\"\"\n",
    "You are a crazy old man telling a story in a D&D game.\n",
    "\n",
    "Generate a short summary of the history of the Temple of\n",
    "Elemental Evil.\n",
    "\n",
    "Summarize the story, delimited by triple backticks, in at most 30 words, and focusing\n",
    "on aspects of the dungeon and the history.\n",
    "\n",
    "```\n",
    "{toe_gygax_1976}\n",
    "```\n",
    "\"\"\"\n",
    "\n",
    "response = get_completion(prompt)\n",
    "print(response)"
   ]
  },
  {
   "cell_type": "code",
   "execution_count": 6,
   "metadata": {
    "ExecuteTime": {
     "end_time": "2023-05-10T07:39:52.641123Z",
     "start_time": "2023-05-10T07:39:48.790674Z"
    }
   },
   "outputs": [
    {
     "name": "stdout",
     "output_type": "stream",
     "text": [
      "The Temple of Elemental Evil was a stronghold of a cult of chaotic evil, seeking to destroy all good and disrupt order. The cult worshipped fire, water, air, and earth as elemental forces of evil and grew powerful by raiding and pillaging nearby lands. The temple had extensive upper works and a deep labyrinth beneath, inhabited by creatures serving chaos and evil. The temple was eventually besieged and destroyed by a mighty host of good, lawful, and chaotic forces, putting an end to the cult's depredations.\n"
     ]
    }
   ],
   "source": [
    "prompt = f\"\"\"\n",
    "You are a dungeon master.\n",
    "\n",
    "Extract relevant information Temple of Elemental Evil.\n",
    "\n",
    "Summarize the story, delimited by triple backticks, in at most 30 words, and focusing\n",
    "on aspects of the dungeon and the history.\n",
    "\n",
    "```\n",
    "{toe_gygax_1976}\n",
    "```\n",
    "\"\"\"\n",
    "\n",
    "response = get_completion(prompt)\n",
    "print(response)"
   ]
  },
  {
   "cell_type": "code",
   "execution_count": 7,
   "metadata": {
    "ExecuteTime": {
     "end_time": "2023-05-10T07:39:55.404702Z",
     "start_time": "2023-05-10T07:39:54.848790Z"
    }
   },
   "outputs": [
    {
     "name": "stdout",
     "output_type": "stream",
     "text": [
      "lost, fascinated, horrified, disgusted, intrigued\n"
     ]
    }
   ],
   "source": [
    "prompt = f\"\"\"\n",
    "Identify a list of emotions that the writer of the text is expressing.  Include no more than\n",
    "five items in the list.  Format your answer as a list of lower-case words separated by commas.\n",
    "\n",
    "Text: '''{toe_gygax_1976}'''\n",
    "\"\"\"\n",
    "response = get_completion(prompt)\n",
    "print(response)"
   ]
  },
  {
   "cell_type": "code",
   "execution_count": 9,
   "metadata": {
    "ExecuteTime": {
     "end_time": "2023-05-10T07:41:08.008616Z",
     "start_time": "2023-05-10T07:41:04.260896Z"
    }
   },
   "outputs": [
    {
     "name": "stdout",
     "output_type": "stream",
     "text": [
      "Yes, the writer is expressing danger. \n",
      "\n",
      "1. The cult is based on the premise that the elemental forces of the universe are chaotic and opposed to mankind, i.e. evil.\n",
      "2. The temple of the cult sought to destroy all works of good and disrupt order.\n",
      "3. Its members were thieves, assassins, brigands, and the like.\n",
      "4. Captives from these raids were brought back to the temple to serve as human sacrifices.\n",
      "5. It is rumored that a demon took up abode in the deepest level in order to better receive the sacrifices to him.\n"
     ]
    }
   ],
   "source": [
    "prompt = f\"\"\"\n",
    "Is the writer of the text expressing danger.  Include no more than\n",
    "five items in the list.  Give your answer as yes or no.\n",
    "\n",
    "Text: '''{toe_gygax_1976}'''\n",
    "\"\"\"\n",
    "response = get_completion(prompt)\n",
    "print(response)"
   ]
  },
  {
   "cell_type": "code",
   "execution_count": 10,
   "metadata": {
    "ExecuteTime": {
     "end_time": "2023-05-10T07:41:14.570374Z",
     "start_time": "2023-05-10T07:41:12.032082Z"
    }
   },
   "outputs": [
    {
     "name": "stdout",
     "output_type": "stream",
     "text": [
      "{\n",
      "  \"followers\": [\n",
      "    {\"creature\": \"human\", \"level\": \"unknown\"},\n",
      "    {\"creature\": \"dwarf\", \"level\": \"unknown\"},\n",
      "    {\"creature\": \"elf\", \"level\": \"unknown\"},\n",
      "    {\"creature\": \"goblin\", \"level\": \"unknown\"}\n",
      "  ]\n",
      "}\n"
     ]
    }
   ],
   "source": [
    "prompt = f\"\"\"\"\n",
    "Identify the followers one might encounter in the text.\n",
    "- Creature the creature type of the followers\n",
    "- Level the level of the temple where the follower lives\n",
    "\n",
    "Format your response as a JSON object with \"creature\" and \"level\" as the keys.\n",
    "\n",
    "If the information isn't present, use \"unknown\" as the value.\n",
    "\n",
    "Make your response as short as possible.\n",
    "\n",
    "\"\"\"\n",
    "\n",
    "response = get_completion(prompt)\n",
    "print(response)\n"
   ]
  },
  {
   "cell_type": "code",
   "execution_count": 12,
   "metadata": {
    "ExecuteTime": {
     "end_time": "2023-05-10T07:41:18.449993Z",
     "start_time": "2023-05-10T07:41:17.072683Z"
    }
   },
   "outputs": [
    {
     "name": "stdout",
     "output_type": "stream",
     "text": [
      "1. A cult of chaotic evil\n",
      "2. Elemental forces of the universe\n",
      "3. Human sacrifices and slavery\n",
      "4. Battles and warfare\n",
      "5. Destruction of the cult and its stronghold\n"
     ]
    }
   ],
   "source": [
    "prompt = f\"\"\"\n",
    "Determine fiv topics that are being discussed in the following text:\n",
    "\n",
    "text: {toe_gygax_1976}\n",
    "\"\"\"\n",
    "\n",
    "response = get_completion(prompt)\n",
    "print(response)\n"
   ]
  },
  {
   "cell_type": "code",
   "execution_count": 13,
   "metadata": {
    "ExecuteTime": {
     "end_time": "2023-05-10T07:42:22.569735Z",
     "start_time": "2023-05-10T07:41:56.397759Z"
    }
   },
   "outputs": [
    {
     "name": "stdout",
     "output_type": "stream",
     "text": [
      "Pendant de nombreuses années, un culte du mal chaotique a prospéré quelque part sur les rives du Myr Dyv. Bien que l'emplacement du temple soit perdu, ces faits à son sujet et sur ses adeptes sont connus.\n",
      "\n",
      "Le culte était basé sur la prémisse que les forces élémentaires de l'univers sont chaotiques et opposées à l'humanité, c'est-à-dire maléfiques. Le temple du culte cherchait à détruire toutes les œuvres du bien et à perturber l'ordre. Ses membres étaient des voleurs, des assassins, des brigands et autres. Le feu était considéré comme le premier mal élémentaire, et son penchant pour les événements chaotiques s'inscrivait dans la prémisse du culte.\n",
      "\n",
      "De même, l'eau était vénérée comme une force encore plus puissante du mal chaotique, l'eau sous forme d'inondations, de tempêtes et de mers déchaînées, battant les terres et coulant les navires. L'apogée du mal chaotique était cependant considérée comme une combinaison d'air et de terre - représentée par le noir et correspondant à l'abîme démoniaque. Cette combinaison était considérée comme la négation complète de la matière.\n",
      "\n",
      "Le culte est devenu puissant et riche, attirant les adeptes du pire genre et leur offrant sécurité dans les murs de sa forteresse-temple. De cette forteresse, ces adeptes chevauchaient pour voler, piller et dévaster les terres environnantes, dîmant le culte avec les butins de ces brigandages. Les captifs de ces raids étaient ramenés au temple pour servir de sacrifices humains (enfants au feu, hommes à l'eau, femmes au mal noir) ou pour esclavagiser leur vie. Outre les vastes travaux supérieurs du temple, un labyrinthe profond sous le lieu a été construit, mais presque rien n'est maintenant connu de ces donjons, sinon qu'il y avait des créatures habitées servant à la fois le chaos et le mal. On raconte qu'un démon a pris domicile dans le niveau le plus profond afin de mieux recevoir les sacrifices qui lui étaient destinés.\n",
      "\n",
      "Finalement, les voisins de ce temple se sont lassés des déprédations. Tout le bien, le légal et le chaotique se sont unis sous la forme d'une armée puissante. Leur armée a marché vers le temple, combattant deux batailles en chemin. La première était inconclusive, bien que les forces du bien aient tenu le champ par la suite, de sorte qu'elles ont acquis la réputation de la victoire, et leurs rangs ont été gonflés par de nombreux hommes de la région. La deuxième bataille a vu un grand massacre de kobolds, de gobelins, d'orcs, de hobgoblins, d'hommes maléfiques et autres. Le temple a ensuite été assiégé, est tombé et ses habitants ont été mis à mort. Certaines sources rapportent que le temple et ses environs ont résisté à une destruction complète, mais la majorité affirme que le tout a été rasé pour que le culte ne puisse jamais émerger à nouveau ni trouver où il avait autrefois prospéré.\n"
     ]
    }
   ],
   "source": [
    "prompt = f\"\"\"\n",
    "Translate the following English text to French.\n",
    "\n",
    "text: {toe_gygax_1976}\n",
    "\"\"\"\n",
    "\n",
    "response = get_completion(prompt)\n",
    "print(response)\n",
    "\n"
   ]
  },
  {
   "cell_type": "code",
   "execution_count": 14,
   "metadata": {
    "ExecuteTime": {
     "end_time": "2023-05-10T07:43:00.808843Z",
     "start_time": "2023-05-10T07:42:59.193554Z"
    }
   },
   "outputs": [
    {
     "name": "stdout",
     "output_type": "stream",
     "text": [
      "Dear friend,\n",
      "\n",
      "I hope this email finds you well! I wanted to invite you to a game of Dungeons & Dragons with me. We'll be exploring a cult of chaotic evil and their stronghold. It's sure to be a thrilling adventure! Let me know if you're interested.\n",
      "\n",
      "Best,\n",
      "[Your Name]\n"
     ]
    }
   ],
   "source": [
    "prompt = f\"\"\"\n",
    "You are a party planner AI assistant.\n",
    "\n",
    "Limit to 30 words.  Use a friendly and familiar tone.\n",
    "\n",
    "Your task is to send an email to a valued friend inviting them to play D&D given\n",
    "the text delimited by the backticks.\n",
    "\n",
    "```{toe_gygax_1976}```\n",
    "\"\"\"\n",
    "\n",
    "\n",
    "response = get_completion(prompt, temperature=0.7)\n",
    "print(response)\n"
   ]
  },
  {
   "cell_type": "code",
   "execution_count": 15,
   "metadata": {
    "ExecuteTime": {
     "end_time": "2023-05-10T07:43:05.765271Z",
     "start_time": "2023-05-10T07:43:05.758580Z"
    }
   },
   "outputs": [],
   "source": [
    "def get_completion_from_messages(messages, model=\"gpt-3.5-turbo\", temperature=0):\n",
    "    response = openai.ChatCompletion.create(\n",
    "        model=model,\n",
    "        messages=messages,\n",
    "        temperature=temperature, # this is the degree of randomness of the model's output\n",
    "    )\n",
    "#     print(str(response.choices[0].message))\n",
    "    return response.choices[0].message[\"content\"]"
   ]
  },
  {
   "cell_type": "code",
   "execution_count": 16,
   "metadata": {
    "ExecuteTime": {
     "end_time": "2023-05-10T07:43:09.409159Z",
     "start_time": "2023-05-10T07:43:09.402165Z"
    }
   },
   "outputs": [],
   "source": [
    "messages =  [\n",
    "{'role':'system', 'content':'You are an dungeon master that speaks like Shakespeare.'},\n",
    "{'role':'user', 'content':'Tell me a joke'},\n",
    "{'role':'assistant', 'content':'How do you know if there’s a paladin in the party?'},\n",
    "{'role':'user', 'content':'I don\\'t know'}  ]"
   ]
  },
  {
   "cell_type": "code",
   "execution_count": 17,
   "metadata": {
    "ExecuteTime": {
     "end_time": "2023-05-10T07:43:13.135686Z",
     "start_time": "2023-05-10T07:43:12.530283Z"
    }
   },
   "outputs": [
    {
     "name": "stdout",
     "output_type": "stream",
     "text": [
      "Don't worry, they'll tell you.\n"
     ]
    }
   ],
   "source": [
    "response = get_completion_from_messages(messages, temperature=1)\n",
    "print(response)"
   ]
  },
  {
   "cell_type": "code",
   "execution_count": 18,
   "metadata": {
    "ExecuteTime": {
     "end_time": "2023-05-10T07:46:04.425199Z",
     "start_time": "2023-05-10T07:46:04.416195Z"
    }
   },
   "outputs": [],
   "source": [
    "\n",
    "def collect_messages(_):\n",
    "    prompt = inp.value_input\n",
    "    inp.value = ''\n",
    "    context.append({'role':'user', 'content':f\"{prompt}\"})\n",
    "    response = get_completion_from_messages(context)\n",
    "    context.append({'role':'assistant', 'content':f\"{response}\"})\n",
    "    panels.append(\n",
    "        pn.Row('User:', pn.pane.Markdown(prompt, width=600)))\n",
    "    panels.append(\n",
    "        pn.Row('Assistant:', pn.pane.Markdown(response, width=600, style={'background-color': '#F6F6F6'})))\n",
    "\n",
    "    return pn.Column(*panels)\n"
   ]
  },
  {
   "cell_type": "code",
   "execution_count": 19,
   "metadata": {
    "ExecuteTime": {
     "end_time": "2023-05-10T07:46:35.938387Z",
     "start_time": "2023-05-10T07:46:35.917248Z"
    }
   },
   "outputs": [
    {
     "data": {
      "application/javascript": [
       "(function(root) {\n",
       "  function now() {\n",
       "    return new Date();\n",
       "  }\n",
       "\n",
       "  var force = true;\n",
       "\n",
       "  if (typeof root._bokeh_onload_callbacks === \"undefined\" || force === true) {\n",
       "    root._bokeh_onload_callbacks = [];\n",
       "    root._bokeh_is_loading = undefined;\n",
       "  }\n",
       "\n",
       "  if (typeof (root._bokeh_timeout) === \"undefined\" || force === true) {\n",
       "    root._bokeh_timeout = Date.now() + 5000;\n",
       "    root._bokeh_failed_load = false;\n",
       "  }\n",
       "\n",
       "  function run_callbacks() {\n",
       "    try {\n",
       "      root._bokeh_onload_callbacks.forEach(function(callback) {\n",
       "        if (callback != null)\n",
       "          callback();\n",
       "      });\n",
       "    } finally {\n",
       "      delete root._bokeh_onload_callbacks\n",
       "    }\n",
       "    console.debug(\"Bokeh: all callbacks have finished\");\n",
       "  }\n",
       "\n",
       "  function load_libs(css_urls, js_urls, js_modules, callback) {\n",
       "    if (css_urls == null) css_urls = [];\n",
       "    if (js_urls == null) js_urls = [];\n",
       "    if (js_modules == null) js_modules = [];\n",
       "\n",
       "    root._bokeh_onload_callbacks.push(callback);\n",
       "    if (root._bokeh_is_loading > 0) {\n",
       "      console.debug(\"Bokeh: BokehJS is being loaded, scheduling callback at\", now());\n",
       "      return null;\n",
       "    }\n",
       "    if (js_urls.length === 0 && js_modules.length === 0) {\n",
       "      run_callbacks();\n",
       "      return null;\n",
       "    }\n",
       "    console.debug(\"Bokeh: BokehJS not loaded, scheduling load and callback at\", now());\n",
       "\n",
       "    function on_load() {\n",
       "      root._bokeh_is_loading--;\n",
       "      if (root._bokeh_is_loading === 0) {\n",
       "        console.debug(\"Bokeh: all BokehJS libraries/stylesheets loaded\");\n",
       "        run_callbacks()\n",
       "      }\n",
       "    }\n",
       "\n",
       "    function on_error() {\n",
       "      console.error(\"failed to load \" + url);\n",
       "    }\n",
       "\n",
       "    for (var i = 0; i < css_urls.length; i++) {\n",
       "      var url = css_urls[i];\n",
       "      const element = document.createElement(\"link\");\n",
       "      element.onload = on_load;\n",
       "      element.onerror = on_error;\n",
       "      element.rel = \"stylesheet\";\n",
       "      element.type = \"text/css\";\n",
       "      element.href = url;\n",
       "      console.debug(\"Bokeh: injecting link tag for BokehJS stylesheet: \", url);\n",
       "      document.body.appendChild(element);\n",
       "    }\n",
       "\n",
       "    var skip = [];\n",
       "    if (window.requirejs) {\n",
       "      window.requirejs.config({'packages': {}, 'paths': {'gridstack': 'https://cdn.jsdelivr.net/npm/gridstack@4.2.5/dist/gridstack-h5', 'notyf': 'https://cdn.jsdelivr.net/npm/notyf@3/notyf.min'}, 'shim': {'gridstack': {'exports': 'GridStack'}}});\n",
       "      require([\"gridstack\"], function(GridStack) {\n",
       "\twindow.GridStack = GridStack\n",
       "\ton_load()\n",
       "      })\n",
       "      require([\"notyf\"], function() {\n",
       "\ton_load()\n",
       "      })\n",
       "      root._bokeh_is_loading = css_urls.length + 2;\n",
       "    } else {\n",
       "      root._bokeh_is_loading = css_urls.length + js_urls.length + js_modules.length;\n",
       "    }    if (((window['GridStack'] !== undefined) && (!(window['GridStack'] instanceof HTMLElement))) || window.requirejs) {\n",
       "      var urls = ['https://cdn.holoviz.org/panel/0.14.4/dist/bundled/gridstack/gridstack@4.2.5/dist/gridstack-h5.js'];\n",
       "      for (var i = 0; i < urls.length; i++) {\n",
       "        skip.push(urls[i])\n",
       "      }\n",
       "    }    if (((window['Notyf'] !== undefined) && (!(window['Notyf'] instanceof HTMLElement))) || window.requirejs) {\n",
       "      var urls = ['https://cdn.holoviz.org/panel/0.14.4/dist/bundled/notificationarea/notyf@3/notyf.min.js'];\n",
       "      for (var i = 0; i < urls.length; i++) {\n",
       "        skip.push(urls[i])\n",
       "      }\n",
       "    }    for (var i = 0; i < js_urls.length; i++) {\n",
       "      var url = js_urls[i];\n",
       "      if (skip.indexOf(url) >= 0) {\n",
       "\tif (!window.requirejs) {\n",
       "\t  on_load();\n",
       "\t}\n",
       "\tcontinue;\n",
       "      }\n",
       "      var element = document.createElement('script');\n",
       "      element.onload = on_load;\n",
       "      element.onerror = on_error;\n",
       "      element.async = false;\n",
       "      element.src = url;\n",
       "      console.debug(\"Bokeh: injecting script tag for BokehJS library: \", url);\n",
       "      document.head.appendChild(element);\n",
       "    }\n",
       "    for (var i = 0; i < js_modules.length; i++) {\n",
       "      var url = js_modules[i];\n",
       "      if (skip.indexOf(url) >= 0) {\n",
       "\tif (!window.requirejs) {\n",
       "\t  on_load();\n",
       "\t}\n",
       "\tcontinue;\n",
       "      }\n",
       "      var element = document.createElement('script');\n",
       "      element.onload = on_load;\n",
       "      element.onerror = on_error;\n",
       "      element.async = false;\n",
       "      element.src = url;\n",
       "      element.type = \"module\";\n",
       "      console.debug(\"Bokeh: injecting script tag for BokehJS library: \", url);\n",
       "      document.head.appendChild(element);\n",
       "    }\n",
       "    if (!js_urls.length && !js_modules.length) {\n",
       "      on_load()\n",
       "    }\n",
       "  };\n",
       "\n",
       "  function inject_raw_css(css) {\n",
       "    const element = document.createElement(\"style\");\n",
       "    element.appendChild(document.createTextNode(css));\n",
       "    document.body.appendChild(element);\n",
       "  }\n",
       "\n",
       "  var js_urls = [\"https://cdn.bokeh.org/bokeh/release/bokeh-2.4.3.min.js\", \"https://cdn.bokeh.org/bokeh/release/bokeh-gl-2.4.3.min.js\", \"https://cdn.bokeh.org/bokeh/release/bokeh-widgets-2.4.3.min.js\", \"https://cdn.bokeh.org/bokeh/release/bokeh-tables-2.4.3.min.js\", \"https://cdn.bokeh.org/bokeh/release/bokeh-mathjax-2.4.3.min.js\", \"https://unpkg.com/@holoviz/panel@0.14.4/dist/panel.min.js\"];\n",
       "  var js_modules = [];\n",
       "  var css_urls = [\"https://cdn.holoviz.org/panel/0.14.4/dist/css/debugger.css\", \"https://cdn.holoviz.org/panel/0.14.4/dist/css/alerts.css\", \"https://cdn.holoviz.org/panel/0.14.4/dist/css/card.css\", \"https://cdn.holoviz.org/panel/0.14.4/dist/css/widgets.css\", \"https://cdn.holoviz.org/panel/0.14.4/dist/css/markdown.css\", \"https://cdn.holoviz.org/panel/0.14.4/dist/css/json.css\", \"https://cdn.holoviz.org/panel/0.14.4/dist/css/loading.css\", \"https://cdn.holoviz.org/panel/0.14.4/dist/css/dataframe.css\"];\n",
       "  var inline_js = [    function(Bokeh) {\n",
       "      inject_raw_css(\"\\n    .bk.pn-loading.arc:before {\\n      background-image: url(\\\"data:image/svg+xml;base64,PHN2ZyB4bWxucz0iaHR0cDovL3d3dy53My5vcmcvMjAwMC9zdmciIHN0eWxlPSJtYXJnaW46IGF1dG87IGJhY2tncm91bmQ6IG5vbmU7IGRpc3BsYXk6IGJsb2NrOyBzaGFwZS1yZW5kZXJpbmc6IGF1dG87IiB2aWV3Qm94PSIwIDAgMTAwIDEwMCIgcHJlc2VydmVBc3BlY3RSYXRpbz0ieE1pZFlNaWQiPiAgPGNpcmNsZSBjeD0iNTAiIGN5PSI1MCIgZmlsbD0ibm9uZSIgc3Ryb2tlPSIjYzNjM2MzIiBzdHJva2Utd2lkdGg9IjEwIiByPSIzNSIgc3Ryb2tlLWRhc2hhcnJheT0iMTY0LjkzMzYxNDMxMzQ2NDE1IDU2Ljk3Nzg3MTQzNzgyMTM4Ij4gICAgPGFuaW1hdGVUcmFuc2Zvcm0gYXR0cmlidXRlTmFtZT0idHJhbnNmb3JtIiB0eXBlPSJyb3RhdGUiIHJlcGVhdENvdW50PSJpbmRlZmluaXRlIiBkdXI9IjFzIiB2YWx1ZXM9IjAgNTAgNTA7MzYwIDUwIDUwIiBrZXlUaW1lcz0iMDsxIj48L2FuaW1hdGVUcmFuc2Zvcm0+ICA8L2NpcmNsZT48L3N2Zz4=\\\");\\n      background-size: auto calc(min(50%, 400px));\\n    }\\n    \");\n",
       "    },    function(Bokeh) {\n",
       "      Bokeh.set_log_level(\"info\");\n",
       "    },\n",
       "function(Bokeh) {} // ensure no trailing comma for IE\n",
       "  ];\n",
       "\n",
       "  function run_inline_js() {\n",
       "    if ((root.Bokeh !== undefined) || (force === true)) {\n",
       "      for (var i = 0; i < inline_js.length; i++) {\n",
       "        inline_js[i].call(root, root.Bokeh);\n",
       "      }} else if (Date.now() < root._bokeh_timeout) {\n",
       "      setTimeout(run_inline_js, 100);\n",
       "    } else if (!root._bokeh_failed_load) {\n",
       "      console.log(\"Bokeh: BokehJS failed to load within specified timeout.\");\n",
       "      root._bokeh_failed_load = true;\n",
       "    }\n",
       "  }\n",
       "\n",
       "  if (root._bokeh_is_loading === 0) {\n",
       "    console.debug(\"Bokeh: BokehJS loaded, going straight to plotting\");\n",
       "    run_inline_js();\n",
       "  } else {\n",
       "    load_libs(css_urls, js_urls, js_modules, function() {\n",
       "      console.debug(\"Bokeh: BokehJS plotting callback run at\", now());\n",
       "      run_inline_js();\n",
       "    });\n",
       "  }\n",
       "}(window));"
      ],
      "application/vnd.holoviews_load.v0+json": "(function(root) {\n  function now() {\n    return new Date();\n  }\n\n  var force = true;\n\n  if (typeof root._bokeh_onload_callbacks === \"undefined\" || force === true) {\n    root._bokeh_onload_callbacks = [];\n    root._bokeh_is_loading = undefined;\n  }\n\n  if (typeof (root._bokeh_timeout) === \"undefined\" || force === true) {\n    root._bokeh_timeout = Date.now() + 5000;\n    root._bokeh_failed_load = false;\n  }\n\n  function run_callbacks() {\n    try {\n      root._bokeh_onload_callbacks.forEach(function(callback) {\n        if (callback != null)\n          callback();\n      });\n    } finally {\n      delete root._bokeh_onload_callbacks\n    }\n    console.debug(\"Bokeh: all callbacks have finished\");\n  }\n\n  function load_libs(css_urls, js_urls, js_modules, callback) {\n    if (css_urls == null) css_urls = [];\n    if (js_urls == null) js_urls = [];\n    if (js_modules == null) js_modules = [];\n\n    root._bokeh_onload_callbacks.push(callback);\n    if (root._bokeh_is_loading > 0) {\n      console.debug(\"Bokeh: BokehJS is being loaded, scheduling callback at\", now());\n      return null;\n    }\n    if (js_urls.length === 0 && js_modules.length === 0) {\n      run_callbacks();\n      return null;\n    }\n    console.debug(\"Bokeh: BokehJS not loaded, scheduling load and callback at\", now());\n\n    function on_load() {\n      root._bokeh_is_loading--;\n      if (root._bokeh_is_loading === 0) {\n        console.debug(\"Bokeh: all BokehJS libraries/stylesheets loaded\");\n        run_callbacks()\n      }\n    }\n\n    function on_error() {\n      console.error(\"failed to load \" + url);\n    }\n\n    for (var i = 0; i < css_urls.length; i++) {\n      var url = css_urls[i];\n      const element = document.createElement(\"link\");\n      element.onload = on_load;\n      element.onerror = on_error;\n      element.rel = \"stylesheet\";\n      element.type = \"text/css\";\n      element.href = url;\n      console.debug(\"Bokeh: injecting link tag for BokehJS stylesheet: \", url);\n      document.body.appendChild(element);\n    }\n\n    var skip = [];\n    if (window.requirejs) {\n      window.requirejs.config({'packages': {}, 'paths': {'gridstack': 'https://cdn.jsdelivr.net/npm/gridstack@4.2.5/dist/gridstack-h5', 'notyf': 'https://cdn.jsdelivr.net/npm/notyf@3/notyf.min'}, 'shim': {'gridstack': {'exports': 'GridStack'}}});\n      require([\"gridstack\"], function(GridStack) {\n\twindow.GridStack = GridStack\n\ton_load()\n      })\n      require([\"notyf\"], function() {\n\ton_load()\n      })\n      root._bokeh_is_loading = css_urls.length + 2;\n    } else {\n      root._bokeh_is_loading = css_urls.length + js_urls.length + js_modules.length;\n    }    if (((window['GridStack'] !== undefined) && (!(window['GridStack'] instanceof HTMLElement))) || window.requirejs) {\n      var urls = ['https://cdn.holoviz.org/panel/0.14.4/dist/bundled/gridstack/gridstack@4.2.5/dist/gridstack-h5.js'];\n      for (var i = 0; i < urls.length; i++) {\n        skip.push(urls[i])\n      }\n    }    if (((window['Notyf'] !== undefined) && (!(window['Notyf'] instanceof HTMLElement))) || window.requirejs) {\n      var urls = ['https://cdn.holoviz.org/panel/0.14.4/dist/bundled/notificationarea/notyf@3/notyf.min.js'];\n      for (var i = 0; i < urls.length; i++) {\n        skip.push(urls[i])\n      }\n    }    for (var i = 0; i < js_urls.length; i++) {\n      var url = js_urls[i];\n      if (skip.indexOf(url) >= 0) {\n\tif (!window.requirejs) {\n\t  on_load();\n\t}\n\tcontinue;\n      }\n      var element = document.createElement('script');\n      element.onload = on_load;\n      element.onerror = on_error;\n      element.async = false;\n      element.src = url;\n      console.debug(\"Bokeh: injecting script tag for BokehJS library: \", url);\n      document.head.appendChild(element);\n    }\n    for (var i = 0; i < js_modules.length; i++) {\n      var url = js_modules[i];\n      if (skip.indexOf(url) >= 0) {\n\tif (!window.requirejs) {\n\t  on_load();\n\t}\n\tcontinue;\n      }\n      var element = document.createElement('script');\n      element.onload = on_load;\n      element.onerror = on_error;\n      element.async = false;\n      element.src = url;\n      element.type = \"module\";\n      console.debug(\"Bokeh: injecting script tag for BokehJS library: \", url);\n      document.head.appendChild(element);\n    }\n    if (!js_urls.length && !js_modules.length) {\n      on_load()\n    }\n  };\n\n  function inject_raw_css(css) {\n    const element = document.createElement(\"style\");\n    element.appendChild(document.createTextNode(css));\n    document.body.appendChild(element);\n  }\n\n  var js_urls = [\"https://cdn.bokeh.org/bokeh/release/bokeh-2.4.3.min.js\", \"https://cdn.bokeh.org/bokeh/release/bokeh-gl-2.4.3.min.js\", \"https://cdn.bokeh.org/bokeh/release/bokeh-widgets-2.4.3.min.js\", \"https://cdn.bokeh.org/bokeh/release/bokeh-tables-2.4.3.min.js\", \"https://cdn.bokeh.org/bokeh/release/bokeh-mathjax-2.4.3.min.js\", \"https://unpkg.com/@holoviz/panel@0.14.4/dist/panel.min.js\"];\n  var js_modules = [];\n  var css_urls = [\"https://cdn.holoviz.org/panel/0.14.4/dist/css/debugger.css\", \"https://cdn.holoviz.org/panel/0.14.4/dist/css/alerts.css\", \"https://cdn.holoviz.org/panel/0.14.4/dist/css/card.css\", \"https://cdn.holoviz.org/panel/0.14.4/dist/css/widgets.css\", \"https://cdn.holoviz.org/panel/0.14.4/dist/css/markdown.css\", \"https://cdn.holoviz.org/panel/0.14.4/dist/css/json.css\", \"https://cdn.holoviz.org/panel/0.14.4/dist/css/loading.css\", \"https://cdn.holoviz.org/panel/0.14.4/dist/css/dataframe.css\"];\n  var inline_js = [    function(Bokeh) {\n      inject_raw_css(\"\\n    .bk.pn-loading.arc:before {\\n      background-image: url(\\\"data:image/svg+xml;base64,PHN2ZyB4bWxucz0iaHR0cDovL3d3dy53My5vcmcvMjAwMC9zdmciIHN0eWxlPSJtYXJnaW46IGF1dG87IGJhY2tncm91bmQ6IG5vbmU7IGRpc3BsYXk6IGJsb2NrOyBzaGFwZS1yZW5kZXJpbmc6IGF1dG87IiB2aWV3Qm94PSIwIDAgMTAwIDEwMCIgcHJlc2VydmVBc3BlY3RSYXRpbz0ieE1pZFlNaWQiPiAgPGNpcmNsZSBjeD0iNTAiIGN5PSI1MCIgZmlsbD0ibm9uZSIgc3Ryb2tlPSIjYzNjM2MzIiBzdHJva2Utd2lkdGg9IjEwIiByPSIzNSIgc3Ryb2tlLWRhc2hhcnJheT0iMTY0LjkzMzYxNDMxMzQ2NDE1IDU2Ljk3Nzg3MTQzNzgyMTM4Ij4gICAgPGFuaW1hdGVUcmFuc2Zvcm0gYXR0cmlidXRlTmFtZT0idHJhbnNmb3JtIiB0eXBlPSJyb3RhdGUiIHJlcGVhdENvdW50PSJpbmRlZmluaXRlIiBkdXI9IjFzIiB2YWx1ZXM9IjAgNTAgNTA7MzYwIDUwIDUwIiBrZXlUaW1lcz0iMDsxIj48L2FuaW1hdGVUcmFuc2Zvcm0+ICA8L2NpcmNsZT48L3N2Zz4=\\\");\\n      background-size: auto calc(min(50%, 400px));\\n    }\\n    \");\n    },    function(Bokeh) {\n      Bokeh.set_log_level(\"info\");\n    },\nfunction(Bokeh) {} // ensure no trailing comma for IE\n  ];\n\n  function run_inline_js() {\n    if ((root.Bokeh !== undefined) || (force === true)) {\n      for (var i = 0; i < inline_js.length; i++) {\n        inline_js[i].call(root, root.Bokeh);\n      }} else if (Date.now() < root._bokeh_timeout) {\n      setTimeout(run_inline_js, 100);\n    } else if (!root._bokeh_failed_load) {\n      console.log(\"Bokeh: BokehJS failed to load within specified timeout.\");\n      root._bokeh_failed_load = true;\n    }\n  }\n\n  if (root._bokeh_is_loading === 0) {\n    console.debug(\"Bokeh: BokehJS loaded, going straight to plotting\");\n    run_inline_js();\n  } else {\n    load_libs(css_urls, js_urls, js_modules, function() {\n      console.debug(\"Bokeh: BokehJS plotting callback run at\", now());\n      run_inline_js();\n    });\n  }\n}(window));"
     },
     "metadata": {},
     "output_type": "display_data"
    },
    {
     "data": {
      "application/javascript": [
       "\n",
       "if ((window.PyViz === undefined) || (window.PyViz instanceof HTMLElement)) {\n",
       "  window.PyViz = {comms: {}, comm_status:{}, kernels:{}, receivers: {}, plot_index: []}\n",
       "}\n",
       "\n",
       "\n",
       "    function JupyterCommManager() {\n",
       "    }\n",
       "\n",
       "    JupyterCommManager.prototype.register_target = function(plot_id, comm_id, msg_handler) {\n",
       "      if (window.comm_manager || ((window.Jupyter !== undefined) && (Jupyter.notebook.kernel != null))) {\n",
       "        var comm_manager = window.comm_manager || Jupyter.notebook.kernel.comm_manager;\n",
       "        comm_manager.register_target(comm_id, function(comm) {\n",
       "          comm.on_msg(msg_handler);\n",
       "        });\n",
       "      } else if ((plot_id in window.PyViz.kernels) && (window.PyViz.kernels[plot_id])) {\n",
       "        window.PyViz.kernels[plot_id].registerCommTarget(comm_id, function(comm) {\n",
       "          comm.onMsg = msg_handler;\n",
       "        });\n",
       "      } else if (typeof google != 'undefined' && google.colab.kernel != null) {\n",
       "        google.colab.kernel.comms.registerTarget(comm_id, (comm) => {\n",
       "          var messages = comm.messages[Symbol.asyncIterator]();\n",
       "          function processIteratorResult(result) {\n",
       "            var message = result.value;\n",
       "            console.log(message)\n",
       "            var content = {data: message.data, comm_id};\n",
       "            var buffers = []\n",
       "            for (var buffer of message.buffers || []) {\n",
       "              buffers.push(new DataView(buffer))\n",
       "            }\n",
       "            var metadata = message.metadata || {};\n",
       "            var msg = {content, buffers, metadata}\n",
       "            msg_handler(msg);\n",
       "            return messages.next().then(processIteratorResult);\n",
       "          }\n",
       "          return messages.next().then(processIteratorResult);\n",
       "        })\n",
       "      }\n",
       "    }\n",
       "\n",
       "    JupyterCommManager.prototype.get_client_comm = function(plot_id, comm_id, msg_handler) {\n",
       "      if (comm_id in window.PyViz.comms) {\n",
       "        return window.PyViz.comms[comm_id];\n",
       "      } else if (window.comm_manager || ((window.Jupyter !== undefined) && (Jupyter.notebook.kernel != null))) {\n",
       "        var comm_manager = window.comm_manager || Jupyter.notebook.kernel.comm_manager;\n",
       "        var comm = comm_manager.new_comm(comm_id, {}, {}, {}, comm_id);\n",
       "        if (msg_handler) {\n",
       "          comm.on_msg(msg_handler);\n",
       "        }\n",
       "      } else if ((plot_id in window.PyViz.kernels) && (window.PyViz.kernels[plot_id])) {\n",
       "        var comm = window.PyViz.kernels[plot_id].connectToComm(comm_id);\n",
       "        comm.open();\n",
       "        if (msg_handler) {\n",
       "          comm.onMsg = msg_handler;\n",
       "        }\n",
       "      } else if (typeof google != 'undefined' && google.colab.kernel != null) {\n",
       "        var comm_promise = google.colab.kernel.comms.open(comm_id)\n",
       "        comm_promise.then((comm) => {\n",
       "          window.PyViz.comms[comm_id] = comm;\n",
       "          if (msg_handler) {\n",
       "            var messages = comm.messages[Symbol.asyncIterator]();\n",
       "            function processIteratorResult(result) {\n",
       "              var message = result.value;\n",
       "              var content = {data: message.data};\n",
       "              var metadata = message.metadata || {comm_id};\n",
       "              var msg = {content, metadata}\n",
       "              msg_handler(msg);\n",
       "              return messages.next().then(processIteratorResult);\n",
       "            }\n",
       "            return messages.next().then(processIteratorResult);\n",
       "          }\n",
       "        }) \n",
       "        var sendClosure = (data, metadata, buffers, disposeOnDone) => {\n",
       "          return comm_promise.then((comm) => {\n",
       "            comm.send(data, metadata, buffers, disposeOnDone);\n",
       "          });\n",
       "        };\n",
       "        var comm = {\n",
       "          send: sendClosure\n",
       "        };\n",
       "      }\n",
       "      window.PyViz.comms[comm_id] = comm;\n",
       "      return comm;\n",
       "    }\n",
       "    window.PyViz.comm_manager = new JupyterCommManager();\n",
       "    \n",
       "\n",
       "\n",
       "var JS_MIME_TYPE = 'application/javascript';\n",
       "var HTML_MIME_TYPE = 'text/html';\n",
       "var EXEC_MIME_TYPE = 'application/vnd.holoviews_exec.v0+json';\n",
       "var CLASS_NAME = 'output';\n",
       "\n",
       "/**\n",
       " * Render data to the DOM node\n",
       " */\n",
       "function render(props, node) {\n",
       "  var div = document.createElement(\"div\");\n",
       "  var script = document.createElement(\"script\");\n",
       "  node.appendChild(div);\n",
       "  node.appendChild(script);\n",
       "}\n",
       "\n",
       "/**\n",
       " * Handle when a new output is added\n",
       " */\n",
       "function handle_add_output(event, handle) {\n",
       "  var output_area = handle.output_area;\n",
       "  var output = handle.output;\n",
       "  if ((output.data == undefined) || (!output.data.hasOwnProperty(EXEC_MIME_TYPE))) {\n",
       "    return\n",
       "  }\n",
       "  var id = output.metadata[EXEC_MIME_TYPE][\"id\"];\n",
       "  var toinsert = output_area.element.find(\".\" + CLASS_NAME.split(' ')[0]);\n",
       "  if (id !== undefined) {\n",
       "    var nchildren = toinsert.length;\n",
       "    var html_node = toinsert[nchildren-1].children[0];\n",
       "    html_node.innerHTML = output.data[HTML_MIME_TYPE];\n",
       "    var scripts = [];\n",
       "    var nodelist = html_node.querySelectorAll(\"script\");\n",
       "    for (var i in nodelist) {\n",
       "      if (nodelist.hasOwnProperty(i)) {\n",
       "        scripts.push(nodelist[i])\n",
       "      }\n",
       "    }\n",
       "\n",
       "    scripts.forEach( function (oldScript) {\n",
       "      var newScript = document.createElement(\"script\");\n",
       "      var attrs = [];\n",
       "      var nodemap = oldScript.attributes;\n",
       "      for (var j in nodemap) {\n",
       "        if (nodemap.hasOwnProperty(j)) {\n",
       "          attrs.push(nodemap[j])\n",
       "        }\n",
       "      }\n",
       "      attrs.forEach(function(attr) { newScript.setAttribute(attr.name, attr.value) });\n",
       "      newScript.appendChild(document.createTextNode(oldScript.innerHTML));\n",
       "      oldScript.parentNode.replaceChild(newScript, oldScript);\n",
       "    });\n",
       "    if (JS_MIME_TYPE in output.data) {\n",
       "      toinsert[nchildren-1].children[1].textContent = output.data[JS_MIME_TYPE];\n",
       "    }\n",
       "    output_area._hv_plot_id = id;\n",
       "    if ((window.Bokeh !== undefined) && (id in Bokeh.index)) {\n",
       "      window.PyViz.plot_index[id] = Bokeh.index[id];\n",
       "    } else {\n",
       "      window.PyViz.plot_index[id] = null;\n",
       "    }\n",
       "  } else if (output.metadata[EXEC_MIME_TYPE][\"server_id\"] !== undefined) {\n",
       "    var bk_div = document.createElement(\"div\");\n",
       "    bk_div.innerHTML = output.data[HTML_MIME_TYPE];\n",
       "    var script_attrs = bk_div.children[0].attributes;\n",
       "    for (var i = 0; i < script_attrs.length; i++) {\n",
       "      toinsert[toinsert.length - 1].childNodes[1].setAttribute(script_attrs[i].name, script_attrs[i].value);\n",
       "    }\n",
       "    // store reference to server id on output_area\n",
       "    output_area._bokeh_server_id = output.metadata[EXEC_MIME_TYPE][\"server_id\"];\n",
       "  }\n",
       "}\n",
       "\n",
       "/**\n",
       " * Handle when an output is cleared or removed\n",
       " */\n",
       "function handle_clear_output(event, handle) {\n",
       "  var id = handle.cell.output_area._hv_plot_id;\n",
       "  var server_id = handle.cell.output_area._bokeh_server_id;\n",
       "  if (((id === undefined) || !(id in PyViz.plot_index)) && (server_id !== undefined)) { return; }\n",
       "  var comm = window.PyViz.comm_manager.get_client_comm(\"hv-extension-comm\", \"hv-extension-comm\", function () {});\n",
       "  if (server_id !== null) {\n",
       "    comm.send({event_type: 'server_delete', 'id': server_id});\n",
       "    return;\n",
       "  } else if (comm !== null) {\n",
       "    comm.send({event_type: 'delete', 'id': id});\n",
       "  }\n",
       "  delete PyViz.plot_index[id];\n",
       "  if ((window.Bokeh !== undefined) & (id in window.Bokeh.index)) {\n",
       "    var doc = window.Bokeh.index[id].model.document\n",
       "    doc.clear();\n",
       "    const i = window.Bokeh.documents.indexOf(doc);\n",
       "    if (i > -1) {\n",
       "      window.Bokeh.documents.splice(i, 1);\n",
       "    }\n",
       "  }\n",
       "}\n",
       "\n",
       "/**\n",
       " * Handle kernel restart event\n",
       " */\n",
       "function handle_kernel_cleanup(event, handle) {\n",
       "  delete PyViz.comms[\"hv-extension-comm\"];\n",
       "  window.PyViz.plot_index = {}\n",
       "}\n",
       "\n",
       "/**\n",
       " * Handle update_display_data messages\n",
       " */\n",
       "function handle_update_output(event, handle) {\n",
       "  handle_clear_output(event, {cell: {output_area: handle.output_area}})\n",
       "  handle_add_output(event, handle)\n",
       "}\n",
       "\n",
       "function register_renderer(events, OutputArea) {\n",
       "  function append_mime(data, metadata, element) {\n",
       "    // create a DOM node to render to\n",
       "    var toinsert = this.create_output_subarea(\n",
       "    metadata,\n",
       "    CLASS_NAME,\n",
       "    EXEC_MIME_TYPE\n",
       "    );\n",
       "    this.keyboard_manager.register_events(toinsert);\n",
       "    // Render to node\n",
       "    var props = {data: data, metadata: metadata[EXEC_MIME_TYPE]};\n",
       "    render(props, toinsert[0]);\n",
       "    element.append(toinsert);\n",
       "    return toinsert\n",
       "  }\n",
       "\n",
       "  events.on('output_added.OutputArea', handle_add_output);\n",
       "  events.on('output_updated.OutputArea', handle_update_output);\n",
       "  events.on('clear_output.CodeCell', handle_clear_output);\n",
       "  events.on('delete.Cell', handle_clear_output);\n",
       "  events.on('kernel_ready.Kernel', handle_kernel_cleanup);\n",
       "\n",
       "  OutputArea.prototype.register_mime_type(EXEC_MIME_TYPE, append_mime, {\n",
       "    safe: true,\n",
       "    index: 0\n",
       "  });\n",
       "}\n",
       "\n",
       "if (window.Jupyter !== undefined) {\n",
       "  try {\n",
       "    var events = require('base/js/events');\n",
       "    var OutputArea = require('notebook/js/outputarea').OutputArea;\n",
       "    if (OutputArea.prototype.mime_types().indexOf(EXEC_MIME_TYPE) == -1) {\n",
       "      register_renderer(events, OutputArea);\n",
       "    }\n",
       "  } catch(err) {\n",
       "  }\n",
       "}\n"
      ],
      "application/vnd.holoviews_load.v0+json": "\nif ((window.PyViz === undefined) || (window.PyViz instanceof HTMLElement)) {\n  window.PyViz = {comms: {}, comm_status:{}, kernels:{}, receivers: {}, plot_index: []}\n}\n\n\n    function JupyterCommManager() {\n    }\n\n    JupyterCommManager.prototype.register_target = function(plot_id, comm_id, msg_handler) {\n      if (window.comm_manager || ((window.Jupyter !== undefined) && (Jupyter.notebook.kernel != null))) {\n        var comm_manager = window.comm_manager || Jupyter.notebook.kernel.comm_manager;\n        comm_manager.register_target(comm_id, function(comm) {\n          comm.on_msg(msg_handler);\n        });\n      } else if ((plot_id in window.PyViz.kernels) && (window.PyViz.kernels[plot_id])) {\n        window.PyViz.kernels[plot_id].registerCommTarget(comm_id, function(comm) {\n          comm.onMsg = msg_handler;\n        });\n      } else if (typeof google != 'undefined' && google.colab.kernel != null) {\n        google.colab.kernel.comms.registerTarget(comm_id, (comm) => {\n          var messages = comm.messages[Symbol.asyncIterator]();\n          function processIteratorResult(result) {\n            var message = result.value;\n            console.log(message)\n            var content = {data: message.data, comm_id};\n            var buffers = []\n            for (var buffer of message.buffers || []) {\n              buffers.push(new DataView(buffer))\n            }\n            var metadata = message.metadata || {};\n            var msg = {content, buffers, metadata}\n            msg_handler(msg);\n            return messages.next().then(processIteratorResult);\n          }\n          return messages.next().then(processIteratorResult);\n        })\n      }\n    }\n\n    JupyterCommManager.prototype.get_client_comm = function(plot_id, comm_id, msg_handler) {\n      if (comm_id in window.PyViz.comms) {\n        return window.PyViz.comms[comm_id];\n      } else if (window.comm_manager || ((window.Jupyter !== undefined) && (Jupyter.notebook.kernel != null))) {\n        var comm_manager = window.comm_manager || Jupyter.notebook.kernel.comm_manager;\n        var comm = comm_manager.new_comm(comm_id, {}, {}, {}, comm_id);\n        if (msg_handler) {\n          comm.on_msg(msg_handler);\n        }\n      } else if ((plot_id in window.PyViz.kernels) && (window.PyViz.kernels[plot_id])) {\n        var comm = window.PyViz.kernels[plot_id].connectToComm(comm_id);\n        comm.open();\n        if (msg_handler) {\n          comm.onMsg = msg_handler;\n        }\n      } else if (typeof google != 'undefined' && google.colab.kernel != null) {\n        var comm_promise = google.colab.kernel.comms.open(comm_id)\n        comm_promise.then((comm) => {\n          window.PyViz.comms[comm_id] = comm;\n          if (msg_handler) {\n            var messages = comm.messages[Symbol.asyncIterator]();\n            function processIteratorResult(result) {\n              var message = result.value;\n              var content = {data: message.data};\n              var metadata = message.metadata || {comm_id};\n              var msg = {content, metadata}\n              msg_handler(msg);\n              return messages.next().then(processIteratorResult);\n            }\n            return messages.next().then(processIteratorResult);\n          }\n        }) \n        var sendClosure = (data, metadata, buffers, disposeOnDone) => {\n          return comm_promise.then((comm) => {\n            comm.send(data, metadata, buffers, disposeOnDone);\n          });\n        };\n        var comm = {\n          send: sendClosure\n        };\n      }\n      window.PyViz.comms[comm_id] = comm;\n      return comm;\n    }\n    window.PyViz.comm_manager = new JupyterCommManager();\n    \n\n\nvar JS_MIME_TYPE = 'application/javascript';\nvar HTML_MIME_TYPE = 'text/html';\nvar EXEC_MIME_TYPE = 'application/vnd.holoviews_exec.v0+json';\nvar CLASS_NAME = 'output';\n\n/**\n * Render data to the DOM node\n */\nfunction render(props, node) {\n  var div = document.createElement(\"div\");\n  var script = document.createElement(\"script\");\n  node.appendChild(div);\n  node.appendChild(script);\n}\n\n/**\n * Handle when a new output is added\n */\nfunction handle_add_output(event, handle) {\n  var output_area = handle.output_area;\n  var output = handle.output;\n  if ((output.data == undefined) || (!output.data.hasOwnProperty(EXEC_MIME_TYPE))) {\n    return\n  }\n  var id = output.metadata[EXEC_MIME_TYPE][\"id\"];\n  var toinsert = output_area.element.find(\".\" + CLASS_NAME.split(' ')[0]);\n  if (id !== undefined) {\n    var nchildren = toinsert.length;\n    var html_node = toinsert[nchildren-1].children[0];\n    html_node.innerHTML = output.data[HTML_MIME_TYPE];\n    var scripts = [];\n    var nodelist = html_node.querySelectorAll(\"script\");\n    for (var i in nodelist) {\n      if (nodelist.hasOwnProperty(i)) {\n        scripts.push(nodelist[i])\n      }\n    }\n\n    scripts.forEach( function (oldScript) {\n      var newScript = document.createElement(\"script\");\n      var attrs = [];\n      var nodemap = oldScript.attributes;\n      for (var j in nodemap) {\n        if (nodemap.hasOwnProperty(j)) {\n          attrs.push(nodemap[j])\n        }\n      }\n      attrs.forEach(function(attr) { newScript.setAttribute(attr.name, attr.value) });\n      newScript.appendChild(document.createTextNode(oldScript.innerHTML));\n      oldScript.parentNode.replaceChild(newScript, oldScript);\n    });\n    if (JS_MIME_TYPE in output.data) {\n      toinsert[nchildren-1].children[1].textContent = output.data[JS_MIME_TYPE];\n    }\n    output_area._hv_plot_id = id;\n    if ((window.Bokeh !== undefined) && (id in Bokeh.index)) {\n      window.PyViz.plot_index[id] = Bokeh.index[id];\n    } else {\n      window.PyViz.plot_index[id] = null;\n    }\n  } else if (output.metadata[EXEC_MIME_TYPE][\"server_id\"] !== undefined) {\n    var bk_div = document.createElement(\"div\");\n    bk_div.innerHTML = output.data[HTML_MIME_TYPE];\n    var script_attrs = bk_div.children[0].attributes;\n    for (var i = 0; i < script_attrs.length; i++) {\n      toinsert[toinsert.length - 1].childNodes[1].setAttribute(script_attrs[i].name, script_attrs[i].value);\n    }\n    // store reference to server id on output_area\n    output_area._bokeh_server_id = output.metadata[EXEC_MIME_TYPE][\"server_id\"];\n  }\n}\n\n/**\n * Handle when an output is cleared or removed\n */\nfunction handle_clear_output(event, handle) {\n  var id = handle.cell.output_area._hv_plot_id;\n  var server_id = handle.cell.output_area._bokeh_server_id;\n  if (((id === undefined) || !(id in PyViz.plot_index)) && (server_id !== undefined)) { return; }\n  var comm = window.PyViz.comm_manager.get_client_comm(\"hv-extension-comm\", \"hv-extension-comm\", function () {});\n  if (server_id !== null) {\n    comm.send({event_type: 'server_delete', 'id': server_id});\n    return;\n  } else if (comm !== null) {\n    comm.send({event_type: 'delete', 'id': id});\n  }\n  delete PyViz.plot_index[id];\n  if ((window.Bokeh !== undefined) & (id in window.Bokeh.index)) {\n    var doc = window.Bokeh.index[id].model.document\n    doc.clear();\n    const i = window.Bokeh.documents.indexOf(doc);\n    if (i > -1) {\n      window.Bokeh.documents.splice(i, 1);\n    }\n  }\n}\n\n/**\n * Handle kernel restart event\n */\nfunction handle_kernel_cleanup(event, handle) {\n  delete PyViz.comms[\"hv-extension-comm\"];\n  window.PyViz.plot_index = {}\n}\n\n/**\n * Handle update_display_data messages\n */\nfunction handle_update_output(event, handle) {\n  handle_clear_output(event, {cell: {output_area: handle.output_area}})\n  handle_add_output(event, handle)\n}\n\nfunction register_renderer(events, OutputArea) {\n  function append_mime(data, metadata, element) {\n    // create a DOM node to render to\n    var toinsert = this.create_output_subarea(\n    metadata,\n    CLASS_NAME,\n    EXEC_MIME_TYPE\n    );\n    this.keyboard_manager.register_events(toinsert);\n    // Render to node\n    var props = {data: data, metadata: metadata[EXEC_MIME_TYPE]};\n    render(props, toinsert[0]);\n    element.append(toinsert);\n    return toinsert\n  }\n\n  events.on('output_added.OutputArea', handle_add_output);\n  events.on('output_updated.OutputArea', handle_update_output);\n  events.on('clear_output.CodeCell', handle_clear_output);\n  events.on('delete.Cell', handle_clear_output);\n  events.on('kernel_ready.Kernel', handle_kernel_cleanup);\n\n  OutputArea.prototype.register_mime_type(EXEC_MIME_TYPE, append_mime, {\n    safe: true,\n    index: 0\n  });\n}\n\nif (window.Jupyter !== undefined) {\n  try {\n    var events = require('base/js/events');\n    var OutputArea = require('notebook/js/outputarea').OutputArea;\n    if (OutputArea.prototype.mime_types().indexOf(EXEC_MIME_TYPE) == -1) {\n      register_renderer(events, OutputArea);\n    }\n  } catch(err) {\n  }\n}\n"
     },
     "metadata": {},
     "output_type": "display_data"
    },
    {
     "data": {
      "text/html": [
       "<style>.bk-root, .bk-root .bk:before, .bk-root .bk:after {\n",
       "  font-family: var(--jp-ui-font-size1);\n",
       "  font-size: var(--jp-ui-font-size1);\n",
       "  color: var(--jp-ui-font-color1);\n",
       "}\n",
       "</style>"
      ]
     },
     "metadata": {},
     "output_type": "display_data"
    }
   ],
   "source": [
    "import panel as pn  # GUI\n",
    "pn.extension()\n",
    "\n",
    "panels = [] # collect display\n",
    "\n",
    "context = [ {'role':'system', 'content':\"\"\"\n",
    "You are Dungeon Master, playing a character named Ostler Gundigoot, the innkeeper. \\\n",
    "You first greet the player, then ask them where they would like to go in the village of Hommlet, \\\n",
    "and then asks if they plan to stay or take it in a picnic basket. \\\n",
    "You wait to collect the entire order, then summarize it and check for a final \\\n",
    "time if the player wants to add anything else. \\\n",
    "If it's a picnic, you ask what color napkins they wowuld like. \\\n",
    "Finally you collect the payment.\\\n",
    "Make sure to clarify all options, extras and sizes to uniquely \\\n",
    "identify the item from the menu.\\\n",
    "You respond in a short, very conversational friendly style. \\\n",
    "The menu includes \\\n",
    "Beer\t2cp \\\n",
    "Beer, heavy 3ср \\\n",
    "Ale 4 ср \\\n",
    "Ale, spiced\t7cp \\\n",
    "Mead 1sp \\\n",
    "Mead, special brew  14cp \\\n",
    "Wine, table\t8ср \\\n",
    "Wine, Keoish golden 15 cp \\\n",
    "Wine, Sundish lilac 4sp \\\n",
    "Wine, Urnst white 5 sp \\\n",
    "Wine, Celene ruby   8sp \\\n",
    "Wine, Furyondian emerald pale\t1 gp \\\n",
    "Wine, Velunan fireamber 3 gp \\\n",
    "Brandy, local   5 sp \\\n",
    "Brandy, Keoish  8 gp \\\n",
    "Brandy, Urnst, aged 3 gp\n",
    "Liqueur, Ulek Elixir    5 gp \\\n",
    "\"\"\"} ]  # accumulate messages\n",
    "\n"
   ]
  },
  {
   "cell_type": "code",
   "execution_count": 24,
   "metadata": {
    "ExecuteTime": {
     "end_time": "2023-05-10T07:48:31.915497Z",
     "start_time": "2023-05-10T07:48:29.956298Z"
    }
   },
   "outputs": [
    {
     "data": {},
     "metadata": {},
     "output_type": "display_data"
    },
    {
     "data": {
      "application/vnd.holoviews_exec.v0+json": "",
      "text/html": [
       "<div id='1053'>\n",
       "  <div class=\"bk-root\" id=\"fca021e6-cc4f-4786-9993-0c1eb0562b0d\" data-root-id=\"1053\"></div>\n",
       "</div>\n",
       "<script type=\"application/javascript\">(function(root) {\n",
       "  function embed_document(root) {\n",
       "    var docs_json = {\"5b174ae5-e328-453e-bd6b-8b62151a00ce\":{\"defs\":[{\"extends\":null,\"module\":null,\"name\":\"ReactiveHTML1\",\"overrides\":[],\"properties\":[]},{\"extends\":null,\"module\":null,\"name\":\"FlexBox1\",\"overrides\":[],\"properties\":[{\"default\":\"flex-start\",\"kind\":null,\"name\":\"align_content\"},{\"default\":\"flex-start\",\"kind\":null,\"name\":\"align_items\"},{\"default\":\"row\",\"kind\":null,\"name\":\"flex_direction\"},{\"default\":\"wrap\",\"kind\":null,\"name\":\"flex_wrap\"},{\"default\":\"flex-start\",\"kind\":null,\"name\":\"justify_content\"}]},{\"extends\":null,\"module\":null,\"name\":\"GridStack1\",\"overrides\":[],\"properties\":[{\"default\":\"warn\",\"kind\":null,\"name\":\"mode\"},{\"default\":null,\"kind\":null,\"name\":\"ncols\"},{\"default\":null,\"kind\":null,\"name\":\"nrows\"},{\"default\":true,\"kind\":null,\"name\":\"allow_resize\"},{\"default\":true,\"kind\":null,\"name\":\"allow_drag\"},{\"default\":[],\"kind\":null,\"name\":\"state\"}]},{\"extends\":null,\"module\":null,\"name\":\"click1\",\"overrides\":[],\"properties\":[{\"default\":\"\",\"kind\":null,\"name\":\"terminal_output\"},{\"default\":\"\",\"kind\":null,\"name\":\"debug_name\"},{\"default\":0,\"kind\":null,\"name\":\"clears\"}]},{\"extends\":null,\"module\":null,\"name\":\"NotificationAreaBase1\",\"overrides\":[],\"properties\":[{\"default\":\"bottom-right\",\"kind\":null,\"name\":\"position\"},{\"default\":0,\"kind\":null,\"name\":\"_clear\"}]},{\"extends\":null,\"module\":null,\"name\":\"NotificationArea1\",\"overrides\":[],\"properties\":[{\"default\":[],\"kind\":null,\"name\":\"notifications\"},{\"default\":\"bottom-right\",\"kind\":null,\"name\":\"position\"},{\"default\":0,\"kind\":null,\"name\":\"_clear\"},{\"default\":[{\"background\":\"#ffc107\",\"icon\":{\"className\":\"fas fa-exclamation-triangle\",\"color\":\"white\",\"tagName\":\"i\"},\"type\":\"warning\"},{\"background\":\"#007bff\",\"icon\":{\"className\":\"fas fa-info-circle\",\"color\":\"white\",\"tagName\":\"i\"},\"type\":\"info\"}],\"kind\":null,\"name\":\"types\"}]},{\"extends\":null,\"module\":null,\"name\":\"Notification\",\"overrides\":[],\"properties\":[{\"default\":null,\"kind\":null,\"name\":\"background\"},{\"default\":3000,\"kind\":null,\"name\":\"duration\"},{\"default\":null,\"kind\":null,\"name\":\"icon\"},{\"default\":\"\",\"kind\":null,\"name\":\"message\"},{\"default\":null,\"kind\":null,\"name\":\"notification_type\"},{\"default\":false,\"kind\":null,\"name\":\"_destroyed\"}]},{\"extends\":null,\"module\":null,\"name\":\"TemplateActions1\",\"overrides\":[],\"properties\":[{\"default\":0,\"kind\":null,\"name\":\"open_modal\"},{\"default\":0,\"kind\":null,\"name\":\"close_modal\"}]},{\"extends\":null,\"module\":null,\"name\":\"MaterialTemplateActions1\",\"overrides\":[],\"properties\":[{\"default\":0,\"kind\":null,\"name\":\"open_modal\"},{\"default\":0,\"kind\":null,\"name\":\"close_modal\"}]}],\"roots\":{\"references\":[{\"attributes\":{\"css_classes\":[\"markdown\"],\"margin\":[5,5,5,5],\"name\":\"Markdown00110\",\"width\":600},\"id\":\"1061\",\"type\":\"panel.models.markup.HTML\"},{\"attributes\":{\"children\":[{\"id\":\"1072\"},{\"id\":\"1073\"}],\"margin\":[0,0,0,0],\"name\":\"Row00150\"},\"id\":\"1071\",\"type\":\"Row\"},{\"attributes\":{\"css_classes\":[\"markdown\"],\"margin\":[5,5,5,5],\"name\":\"Markdown00177\",\"text\":\"&lt;p&gt;Assistant:&lt;/p&gt;\"},\"id\":\"1081\",\"type\":\"panel.models.markup.HTML\"},{\"attributes\":{\"css_classes\":[\"markdown\"],\"margin\":[5,5,5,5],\"name\":\"Markdown00146\",\"width\":600},\"id\":\"1073\",\"type\":\"panel.models.markup.HTML\"},{\"attributes\":{\"css_classes\":[\"markdown\"],\"margin\":[5,5,5,5],\"name\":\"Markdown00170\",\"width\":600},\"id\":\"1079\",\"type\":\"panel.models.markup.HTML\"},{\"attributes\":{\"children\":[{\"id\":\"1063\"},{\"id\":\"1064\"}],\"margin\":[0,0,0,0],\"name\":\"Row00119\"},\"id\":\"1062\",\"type\":\"Row\"},{\"attributes\":{\"children\":[{\"id\":\"1081\"},{\"id\":\"1082\"}],\"margin\":[0,0,0,0],\"name\":\"Row00179\"},\"id\":\"1080\",\"type\":\"Row\"},{\"attributes\":{\"css_classes\":[\"markdown\"],\"margin\":[5,5,5,5],\"name\":\"Markdown00148\",\"text\":\"&lt;p&gt;User:&lt;/p&gt;\"},\"id\":\"1072\",\"type\":\"panel.models.markup.HTML\"},{\"attributes\":{\"css_classes\":[\"markdown\"],\"margin\":[5,5,5,5],\"name\":\"Markdown00117\",\"text\":\"&lt;p&gt;Assistant:&lt;/p&gt;\"},\"id\":\"1063\",\"type\":\"panel.models.markup.HTML\"},{\"attributes\":{\"css_classes\":[\"markdown\"],\"margin\":[5,5,5,5],\"name\":\"Markdown00131\",\"style\":{\"background-color\":\"#F6F6F6\"},\"text\":\"&lt;p&gt;Good evening to you too! How can I assist you today? Are you looking for a room or would you like to order something from our menu?&lt;/p&gt;\",\"width\":600},\"id\":\"1070\",\"type\":\"panel.models.markup.HTML\"},{\"attributes\":{\"css_classes\":[\"markdown\"],\"margin\":[5,5,5,5],\"name\":\"Markdown00151\",\"style\":{\"background-color\":\"#F6F6F6\"},\"text\":\"&lt;p&gt;Sure, here&amp;rsquo;s our menu:&lt;/p&gt;\\n&lt;ul&gt;\\n&lt;li&gt;Beer (2cp)&lt;/li&gt;\\n&lt;li&gt;Heavy Beer (3cp)&lt;/li&gt;\\n&lt;li&gt;Ale (4cp)&lt;/li&gt;\\n&lt;li&gt;Spiced Ale (7cp)&lt;/li&gt;\\n&lt;li&gt;Mead (1sp)&lt;/li&gt;\\n&lt;li&gt;Special Brew Mead (14cp)&lt;/li&gt;\\n&lt;li&gt;Table Wine (8cp)&lt;/li&gt;\\n&lt;li&gt;Keoish Golden Wine (15cp)&lt;/li&gt;\\n&lt;li&gt;Sundish Lilac Wine (4sp)&lt;/li&gt;\\n&lt;li&gt;Urnst White Wine (5sp)&lt;/li&gt;\\n&lt;li&gt;Celene Ruby Wine (8sp)&lt;/li&gt;\\n&lt;li&gt;Furyondian Emerald Pale Wine (1gp)&lt;/li&gt;\\n&lt;li&gt;Velunan Fireamber Wine (3gp)&lt;/li&gt;\\n&lt;li&gt;Local Brandy (5sp)&lt;/li&gt;\\n&lt;li&gt;Keoish Brandy (8gp)&lt;/li&gt;\\n&lt;li&gt;Urnst Aged Brandy (3gp)&lt;/li&gt;\\n&lt;li&gt;Ulek Elixir Liqueur (5gp)&lt;/li&gt;\\n&lt;/ul&gt;\\n&lt;p&gt;What would you like to order?&lt;/p&gt;\",\"width\":600},\"id\":\"1076\",\"type\":\"panel.models.markup.HTML\"},{\"attributes\":{\"children\":[{\"id\":\"1059\"},{\"id\":\"1062\"},{\"id\":\"1065\"},{\"id\":\"1068\"},{\"id\":\"1071\"},{\"id\":\"1074\"},{\"id\":\"1077\"},{\"id\":\"1080\"}],\"margin\":[0,0,0,0],\"name\":\"Column00180\"},\"id\":\"1058\",\"type\":\"Column\"},{\"attributes\":{\"children\":[{\"id\":\"1058\"}],\"height\":300,\"margin\":[0,0,0,0],\"min_height\":300,\"name\":\"Row00168\"},\"id\":\"1057\",\"type\":\"Row\"},{\"attributes\":{\"args\":{\"bidirectional\":false,\"properties\":{\"event:button_click\":\"loading\"},\"source\":{\"id\":\"1056\"},\"target\":{\"id\":\"1057\"}},\"code\":\"\\n    if ('event:button_click'.startsWith('event:')) {\\n      var value = true\\n    } else {\\n      var value = source['event:button_click'];\\n      value = value;\\n    }\\n    if (typeof value !== 'boolean' || source.labels !== ['Loading']) {\\n      value = true\\n    }\\n    var css_classes = target.css_classes.slice()\\n    var loading_css = ['pn-loading', 'arc']\\n    if (value) {\\n      for (var css of loading_css) {\\n        if (!(css in css_classes)) {\\n          css_classes.push(css)\\n        }\\n      }\\n    } else {\\n     for (var css of loading_css) {\\n        var index = css_classes.indexOf(css)\\n        if (index > -1) {\\n          css_classes.splice(index, 1)\\n        }\\n      }\\n    }\\n    target['css_classes'] = css_classes\\n    \",\"tags\":[[5791372480,[null,\"event:button_click\"],[null,\"loading\"]]]},\"id\":\"1083\",\"type\":\"CustomJS\"},{\"attributes\":{\"css_classes\":[\"markdown\"],\"margin\":[5,5,5,5],\"name\":\"Markdown00133\",\"text\":\"&lt;p&gt;Assistant:&lt;/p&gt;\"},\"id\":\"1069\",\"type\":\"panel.models.markup.HTML\"},{\"attributes\":{\"children\":[{\"id\":\"1066\"},{\"id\":\"1067\"}],\"margin\":[0,0,0,0],\"name\":\"Row00130\"},\"id\":\"1065\",\"type\":\"Row\"},{\"attributes\":{\"children\":[{\"id\":\"1056\"}],\"margin\":[0,0,0,0],\"name\":\"Row00163\"},\"id\":\"1055\",\"type\":\"Row\"},{\"attributes\":{\"css_classes\":[\"markdown\"],\"margin\":[5,5,5,5],\"name\":\"Markdown00153\",\"text\":\"&lt;p&gt;Assistant:&lt;/p&gt;\"},\"id\":\"1075\",\"type\":\"panel.models.markup.HTML\"},{\"attributes\":{\"icon\":null,\"js_event_callbacks\":{\"button_click\":[{\"id\":\"1083\"}]},\"label\":\"Chat!\",\"margin\":[5,10,5,10],\"subscribed_events\":[\"button_click\"]},\"id\":\"1056\",\"type\":\"Button\"},{\"attributes\":{\"css_classes\":[\"markdown\"],\"margin\":[5,5,5,5],\"name\":\"Markdown00175\",\"style\":{\"background-color\":\"#F6F6F6\"},\"text\":\"&lt;p&gt;Great! What can I get for you?&lt;/p&gt;\",\"width\":600},\"id\":\"1082\",\"type\":\"panel.models.markup.HTML\"},{\"attributes\":{\"children\":[{\"id\":\"1078\"},{\"id\":\"1079\"}],\"margin\":[0,0,0,0],\"name\":\"Row00174\"},\"id\":\"1077\",\"type\":\"Row\"},{\"attributes\":{\"margin\":[5,10,5,10],\"max_length\":5000,\"placeholder\":\"Enter text here\\u2026\"},\"id\":\"1054\",\"type\":\"TextInput\"},{\"attributes\":{\"children\":[{\"id\":\"1075\"},{\"id\":\"1076\"}],\"margin\":[0,0,0,0],\"name\":\"Row00155\"},\"id\":\"1074\",\"type\":\"Row\"},{\"attributes\":{\"css_classes\":[\"markdown\"],\"margin\":[5,5,5,5],\"name\":\"Markdown00115\",\"style\":{\"background-color\":\"#F6F6F6\"},\"text\":\"&lt;p&gt;Hello there! Welcome to my inn. What can I get for you today? Are you looking to stay or take your order to go in a picnic basket? And where in the village of Hommlet would you like to go?&lt;/p&gt;\\n&lt;p&gt;Here&amp;rsquo;s our menu:&lt;/p&gt;\\n&lt;ul&gt;\\n&lt;li&gt;Beer (2cp)&lt;/li&gt;\\n&lt;li&gt;Heavy Beer (3cp)&lt;/li&gt;\\n&lt;li&gt;Ale (4cp)&lt;/li&gt;\\n&lt;li&gt;Spiced Ale (7cp)&lt;/li&gt;\\n&lt;li&gt;Mead (1sp)&lt;/li&gt;\\n&lt;li&gt;Special Brew Mead (14cp)&lt;/li&gt;\\n&lt;li&gt;Table Wine (8cp)&lt;/li&gt;\\n&lt;li&gt;Keoish Golden Wine (15cp)&lt;/li&gt;\\n&lt;li&gt;Sundish Lilac Wine (4sp)&lt;/li&gt;\\n&lt;li&gt;Urnst White Wine (5sp)&lt;/li&gt;\\n&lt;li&gt;Celene Ruby Wine (8sp)&lt;/li&gt;\\n&lt;li&gt;Furyondian Emerald Pale Wine (1gp)&lt;/li&gt;\\n&lt;li&gt;Velunan Fireamber Wine (3gp)&lt;/li&gt;\\n&lt;li&gt;Local Brandy (5sp)&lt;/li&gt;\\n&lt;li&gt;Keoish Brandy (8gp)&lt;/li&gt;\\n&lt;li&gt;Urnst Aged Brandy (3gp)&lt;/li&gt;\\n&lt;li&gt;Ulek Elixir Liqueur (5gp)&lt;/li&gt;\\n&lt;/ul&gt;\\n&lt;p&gt;Let me know what you&amp;rsquo;d like, and if it&amp;rsquo;s a picnic, what color napkins you prefer. And don&amp;rsquo;t forget to let me know if you&amp;rsquo;d like to add anything else. Once we have your complete order, I&amp;rsquo;ll collect the payment.&lt;/p&gt;\",\"width\":600},\"id\":\"1064\",\"type\":\"panel.models.markup.HTML\"},{\"attributes\":{\"css_classes\":[\"markdown\"],\"margin\":[5,5,5,5],\"name\":\"Markdown00128\",\"text\":\"&lt;p&gt;User:&lt;/p&gt;\"},\"id\":\"1066\",\"type\":\"panel.models.markup.HTML\"},{\"attributes\":{\"client_comm_id\":\"893035dc6ffd43f6bad972c11b1fecf5\",\"comm_id\":\"6da5c0c656a9460db5b476a5f97c7fa0\",\"plot_id\":\"1053\"},\"id\":\"1084\",\"type\":\"panel.models.comm_manager.CommManager\"},{\"attributes\":{\"children\":[{\"id\":\"1054\"},{\"id\":\"1055\"},{\"id\":\"1057\"}],\"margin\":[0,0,0,0],\"name\":\"Column00182\"},\"id\":\"1053\",\"type\":\"Column\"},{\"attributes\":{\"children\":[{\"id\":\"1060\"},{\"id\":\"1061\"}],\"margin\":[0,0,0,0],\"name\":\"Row00114\"},\"id\":\"1059\",\"type\":\"Row\"},{\"attributes\":{\"css_classes\":[\"markdown\"],\"margin\":[5,5,5,5],\"name\":\"Markdown00126\",\"text\":\"&lt;p&gt;Good evening good sir&lt;/p&gt;\",\"width\":600},\"id\":\"1067\",\"type\":\"panel.models.markup.HTML\"},{\"attributes\":{\"children\":[{\"id\":\"1069\"},{\"id\":\"1070\"}],\"margin\":[0,0,0,0],\"name\":\"Row00135\"},\"id\":\"1068\",\"type\":\"Row\"},{\"attributes\":{\"css_classes\":[\"markdown\"],\"margin\":[5,5,5,5],\"name\":\"Markdown00112\",\"text\":\"&lt;p&gt;User:&lt;/p&gt;\"},\"id\":\"1060\",\"type\":\"panel.models.markup.HTML\"},{\"attributes\":{\"css_classes\":[\"markdown\"],\"margin\":[5,5,5,5],\"name\":\"Markdown00172\",\"text\":\"&lt;p&gt;User:&lt;/p&gt;\"},\"id\":\"1078\",\"type\":\"panel.models.markup.HTML\"}],\"root_ids\":[\"1053\",\"1084\"]},\"title\":\"Bokeh Application\",\"version\":\"2.4.3\"}};\n",
       "    var render_items = [{\"docid\":\"5b174ae5-e328-453e-bd6b-8b62151a00ce\",\"root_ids\":[\"1053\"],\"roots\":{\"1053\":\"fca021e6-cc4f-4786-9993-0c1eb0562b0d\"}}];\n",
       "    root.Bokeh.embed.embed_items_notebook(docs_json, render_items);\n",
       "    for (const render_item of render_items) {\n",
       "      for (const root_id of render_item.root_ids) {\n",
       "\tconst id_el = document.getElementById(root_id)\n",
       "\tif (id_el.children.length && (id_el.children[0].className === 'bk-root')) {\n",
       "\t  const root_el = id_el.children[0]\n",
       "\t  root_el.id = root_el.id + '-rendered'\n",
       "\t}\n",
       "      }\n",
       "    }\n",
       "  }\n",
       "  if (root.Bokeh !== undefined && root.Bokeh.Panel !== undefined) {\n",
       "    embed_document(root);\n",
       "  } else {\n",
       "    var attempts = 0;\n",
       "    var timer = setInterval(function(root) {\n",
       "      if (root.Bokeh !== undefined && root.Bokeh.Panel !== undefined) {\n",
       "        clearInterval(timer);\n",
       "        embed_document(root);\n",
       "      } else if (document.readyState == \"complete\") {\n",
       "        attempts++;\n",
       "        if (attempts > 200) {\n",
       "          clearInterval(timer);\n",
       "          console.log(\"Bokeh: ERROR: Unable to run BokehJS code because BokehJS library is missing\");\n",
       "        }\n",
       "      }\n",
       "    }, 25, root)\n",
       "  }\n",
       "})(window);</script>"
      ],
      "text/plain": [
       "Column\n",
       "    [0] TextInput(placeholder='Enter text here…')\n",
       "    [1] Row\n",
       "        [0] Button(name='Chat!')\n",
       "    [2] ParamFunction(function, _pane=Column, height=300, loading_indicator=True)"
      ]
     },
     "execution_count": 24,
     "metadata": {
      "application/vnd.holoviews_exec.v0+json": {
       "id": "1053"
      }
     },
     "output_type": "execute_result"
    }
   ],
   "source": [
    "\n",
    "inp = pn.widgets.TextInput(value=\"Hi\", placeholder='Enter text here…')\n",
    "button_conversation = pn.widgets.Button(name=\"Chat!\")\n",
    "\n",
    "interactive_conversation = pn.bind(collect_messages, button_conversation)\n",
    "\n",
    "dashboard = pn.Column(\n",
    "    inp,\n",
    "    pn.Row(button_conversation),\n",
    "    pn.panel(interactive_conversation, loading_indicator=True, height=300),\n",
    ")\n",
    "\n",
    "dashboard"
   ]
  },
  {
   "cell_type": "code",
   "execution_count": 26,
   "metadata": {},
   "outputs": [
    {
     "name": "stdout",
     "output_type": "stream",
     "text": [
      "Here's a JSON summary of the previous bar order:\n",
      "\n",
      "```\n",
      "{\n",
      "  \"order\": [\n",
      "    {\n",
      "      \"drink\": \"Spiced Ale\",\n",
      "      \"type\": \"ale\",\n",
      "      \"size\": \"regular\",\n",
      "      \"price\": 4\n",
      "    },\n",
      "    {\n",
      "      \"drink\": \"Keoish Brandy\",\n",
      "      \"type\": \"brandy\",\n",
      "      \"size\": \"regular\",\n",
      "      \"price\": 8\n",
      "    },\n",
      "    {\n",
      "      \"drink\": \"Velunan Fireamber Wine\",\n",
      "      \"type\": \"wine\",\n",
      "      \"size\": \"regular\",\n",
      "      \"price\": 3\n",
      "    }\n",
      "  ],\n",
      "  \"napkins\": \"yellow\",\n",
      "  \"total_price\": 15\n",
      "}\n",
      "```\n",
      "\n",
      "The `order` field contains an array of objects, each representing a drink that was ordered. Each object has a `drink` field that includes the name of the drink and its size (if applicable), a `type` field that specifies the type of drink, and a `price` field that indicates the total price of the drink.\n",
      "\n",
      "The `napkins` field indicates the color of the napkins that were requested.\n",
      "\n",
      "The `total_price` field indicates the total price of the order, including all drinks and any additional items (such as napkins).\n"
     ]
    }
   ],
   "source": [
    "messages =  context.copy()\n",
    "messages.append(\n",
    "{'role':'system', 'content':'create a json summary of the previous bar order. Itemize the price for each item\\\n",
    " The fields should be 1) drink, include size 2) the type of drink 3) total price '},\n",
    ")\n",
    "\n",
    "\n",
    "response = get_completion_from_messages(messages, temperature=0)\n",
    "print(response)"
   ]
  },
  {
   "cell_type": "code",
   "execution_count": 6,
   "metadata": {
    "ExecuteTime": {
     "start_time": "2023-05-10T17:39:54.059439Z",
     "end_time": "2023-05-10T17:39:54.063845Z"
    }
   },
   "outputs": [],
   "source": [
    "church = read_file(\"data/dnd/greyhawk/verbobonc/temple_of_elemental_evil/2_hommlet_church_of_st_cuthbert.txt\")"
   ]
  },
  {
   "cell_type": "code",
   "execution_count": 5,
   "outputs": [
    {
     "name": "stdout",
     "output_type": "stream",
     "text": [
      "As you approach the Church of St. Cuthbert, you see that it is the largest temple in town. The entrance is guarded by a man named Calmer, who will only allow visitors in if they first pass his detect evil spell. Within the temple, you will find Canoness Ydey, a respected and aged cleric who helped defeat the Temple of Elemental Evil years ago. Ydey is a bit of a mystery, as she suspects that there was more to that temple than what they saw. She wonders about the true nature of the \"elemental evil\" that they fought and the forces behind it. Ydey's assistant and friend, Calmer is a tall and well-built man who is content with his current position. The second-in-command here is Terjon, an adventurer at heart who prefers to leave the management of the temple to Ydey so that he can continue going on expeditions. Terjon is gruff and not well-liked by the townsfolk. Finally, there is Derim, a quiet acolyte who is new to the temple but hopes to one day become the canon of his church.\n"
     ]
    }
   ],
   "source": [
    "response = get_completion(prompt, temperature=1)\n",
    "print(response)"
   ],
   "metadata": {
    "collapsed": false,
    "ExecuteTime": {
     "start_time": "2023-05-10T17:38:18.677581Z",
     "end_time": "2023-05-10T17:38:24.843347Z"
    }
   }
  },
  {
   "cell_type": "code",
   "execution_count": 8,
   "outputs": [
    {
     "name": "stdout",
     "output_type": "stream",
     "text": [
      "As you enter the Church of St. Cuthbert, the dim light casts eerie shadows on the walls and ceiling. The pews are overturned and broken, some even set on fire. The stained-glass windows are shattered, filling the floor with colorful shards. The altar is desecrated, with symbols of dark power etched into the once holy wood. The smell of smoke and burnt flesh lingers in the air.\n",
      "\n",
      "You see a few figures moving about the wreckage, investigating the damage. Canoness Ydey is kneeling beside a burned tome, shaking her head in dismay. Calmer stands nearby, his face etched with concern. Terjon is nowhere to be seen, perhaps on one of his adventures. A young acolyte, Derim, is sweeping up broken glass and trying to make himself useful.\n",
      "\n",
      "As you approach, Ydey looks up at you with a mix of sadness and anger. \"We have been attacked by Doomdreamer priests,\" she explains. \"They seek to bring chaos and destruction to our town. We will not let them succeed. But we could use your help in tracking down these villains and stopping their evil plans.\" She looks around at the destruction, a determined glint in her eye. \"We will rebuild and we will prevail.\"\n"
     ]
    }
   ],
   "source": [
    "prompt = f\"\"\"\n",
    "As a dungeon master, describe the church of St. Cuthbert in the dim light just after it was attacked by a Doomdreamer priest.\n",
    "\n",
    "use the description in quotes \"{church}\" as context.\n",
    "\"\"\"\n",
    "response = get_completion(prompt, temperature=1)\n",
    "print(response)\n"
   ],
   "metadata": {
    "collapsed": false,
    "ExecuteTime": {
     "start_time": "2023-05-10T17:41:17.312225Z",
     "end_time": "2023-05-10T17:41:23.500167Z"
    }
   }
  },
  {
   "cell_type": "code",
   "execution_count": 12,
   "outputs": [
    {
     "name": "stdout",
     "output_type": "stream",
     "text": [
      "The road from Hommlet to the Nulb follows the small river that leads to the shores of the Myr Dyv. Along the way, travelers may come across remnants of a long-forgotten cult of chaotic evil that once flourished in the area. The cult believed that the elemental forces of the universe were chaotic and opposed to mankind, and sought to destroy all works of good and disrupt order. Their temple stronghold was a haven for thieves, assassins, brigands, and the like, and from there they would ride forth to rob, pillage, and lay waste to the lands thereabout. Captives from these raids were brought back to the temple to serve as human sacrifices or to slave their lives away in bondage. The temple was eventually besieged and fell, but rumors persist of a demon that took up abode in the deepest level to better receive sacrifices. Today, only the ruins of the temple remain as a reminder of the evil that once lurked along the river's edge.\n"
     ]
    }
   ],
   "source": [
    "prompt = f\"\"\"\n",
    "As a dungeon master, describe the a road from Hommlet that leads along a small river to the Nulb using the background in triple backticks.\n",
    "\n",
    "```\n",
    "{toe_gygax_1976}\n",
    "```\n",
    "\"\"\"\n",
    "\n",
    "response = get_completion(prompt, temperature=1)\n",
    "print(response)"
   ],
   "metadata": {
    "collapsed": false,
    "ExecuteTime": {
     "start_time": "2023-05-10T19:53:38.549329Z",
     "end_time": "2023-05-10T19:53:42.382241Z"
    }
   }
  },
  {
   "cell_type": "code",
   "execution_count": 13,
   "outputs": [
    {
     "name": "stdout",
     "output_type": "stream",
     "text": [
      "The road through the swamp leading to Nulb passes by an old moathouse that was once a stronghold of the chaotic evil cult. The moathouse lies abandoned now, but travelers on the road may still catch glimpses of the dark, foreboding structure as they pass by. The road itself is treacherous, with deep mud pits that can swallow up unsuspecting wagons, and dense fog that can disorient even the most seasoned adventurers. \n",
      "\n",
      "Despite its dangers, the road through the swamp is a popular shortcut, as it is significantly shorter in distance than the east road. There are some who even say that the road is cursed, that the spirits of the cultists who were killed in the siege still haunt its muddy stretches. Nevertheless, merchants and adventurers alike continue to brave the swamp, hoping to save time and reach their destination faster. \n",
      "\n",
      "At the end of the road lies the town of Nulb, a den of lawlessness and depravity. Here, the cult of chaotic evil still has a small but dedicated following, and its influence can be felt in the town's twisted morals and seedy establishments. The journey through the swamp may be dangerous, but for those who seek adventure and riches, it is a necessary risk.\n"
     ]
    }
   ],
   "source": [
    "prompt = f\"\"\"\n",
    "As a dungeon master, describe a road through a swamp that leads past an old moathouse and to Nulb that is shorter in distance than the east road.\n",
    "```\n",
    "{toe_gygax_1976}\n",
    "```\n",
    "\"\"\"\n",
    "\n",
    "response = get_completion(prompt, temperature=1)\n",
    "print(response)"
   ],
   "metadata": {
    "collapsed": false,
    "ExecuteTime": {
     "start_time": "2023-05-10T19:54:47.103442Z",
     "end_time": "2023-05-10T19:54:51.610173Z"
    }
   }
  },
  {
   "cell_type": "code",
   "execution_count": 14,
   "outputs": [],
   "source": [
    "inn_welcome_wench = read_file(\"data/dnd/greyhawk/verbobonc/temple_of_elemental_evil/3_hommlet_inn_welcome_wench.txt\")"
   ],
   "metadata": {
    "collapsed": false,
    "ExecuteTime": {
     "start_time": "2023-05-11T05:41:45.516720Z",
     "end_time": "2023-05-11T05:41:45.532218Z"
    }
   }
  },
  {
   "cell_type": "code",
   "execution_count": 18,
   "outputs": [
    {
     "name": "stdout",
     "output_type": "stream",
     "text": [
      "As the adventurers approach the Inn of the Welcome Wench, they see a sign swinging from a post above the door. Inside, they see a man sitting at a table near the door, greeting customers as they enter. This is Oseltr Gundigoot, the owner of the inn. Despite his age, he seems sharp and friendly.\n",
      "\n",
      "Behind the bar stands Maridosen, the barkeep. She is a striking woman with black hair and pale skin, but she appears to be in a perpetually bad mood. The adventurers can sense that she has little patience for small talk.\n",
      "\n",
      "As they look around, they see Vestra, Oseltr's daughter, darting from table to table, making sure that the patrons are comfortable and well-fed. She has a warm smile and seems to be the heart of the inn.\n",
      "\n",
      "Overall, the Inn of the Welcome Wench appears to be a cozy and welcoming place, filled with good food, good drink, and friendly company.\n"
     ]
    }
   ],
   "source": [
    "prompt = f\"\"\"\n",
    "As a dungeon master, introduce the characters of the Inn of the Welcome Wench.\n",
    "\n",
    "Use the text delimited by triple backticks.\n",
    "```{inn_welcome_wench}```\n",
    "\"\"\"\n",
    "\n",
    "\n",
    "response = get_completion(prompt, temperature=1)\n",
    "print(response)"
   ],
   "metadata": {
    "collapsed": false,
    "ExecuteTime": {
     "start_time": "2023-05-11T05:56:44.099174Z",
     "end_time": "2023-05-11T05:56:51.991745Z"
    }
   }
  },
  {
   "cell_type": "code",
   "execution_count": 22,
   "outputs": [],
   "source": [
    "moathouse = \"data/dnd/greyhawk/verbobonc/temple_of_elemental_evil/10_moathouse.txt\""
   ],
   "metadata": {
    "collapsed": false,
    "ExecuteTime": {
     "start_time": "2023-05-11T09:21:06.263250Z",
     "end_time": "2023-05-11T09:21:06.264334Z"
    }
   }
  },
  {
   "cell_type": "code",
   "execution_count": 26,
   "outputs": [
    {
     "name": "stdout",
     "output_type": "stream",
     "text": [
      "As you approach the Moathouse, you can hardly believe your eyes. What once stood as a ruined keep of small size has been rebuilt with astonishing craftsmanship. The walls have been mended, and the wooden sections have been replaced with sturdy stone. The moat, which once lay murky and stagnant, now sparkles in the sun, showing the care given to it. Although it seemed uninhabited, you notice the smoke rising from chimneys, indicating that someone calls the newly rebuilt Moathouse home.\n",
      "\n",
      "As you draw closer, you catch a glimpse of several figures. They are smaller than humans, with scales covering their bodies and snouts protruding from their faces. These are kobolds, and as you approach, they ready their weapons, wary of your intentions.\n",
      "\n",
      "After a brief standoff, a kobold steps forward. \"Hail, adventurers,\" she says. \"I am Ur'kan, servant of the Sapphire Countess. Who are you, and what brings you to the Moathouse?\"\n",
      "\n",
      "Ur'kan explains that the Sapphire Countess has claimed the Moathouse as her domain. She and her loyal followers, including the kobolds, have worked tirelessly to rebuild the keep, honoring its history while making it their own. The kobolds were tasked with overseeing the construction, and they take pride in its renewed splendor.\n",
      "\n",
      "If asked about the Sapphire Countess, Ur'kan explains that she is a powerful spellcaster who values loyalty and obedience above all else. She resides within the keep and rarely leaves, but her presence is felt throughout the area.\n",
      "\n",
      "It is up to the players to decide how to proceed with this newfound knowledge of the Moathouse and its inhabitants. Will they seek an audience with the Sapphire Countess or press on with their original mission? Only time will tell what adventures await within the walls of the Moathouse.\n"
     ]
    }
   ],
   "source": [
    "prompt = f\"\"\"\n",
    "As a dungeon master, introduce the Moathouse after it has been unexpectedly rebuilt with craftsman attention to detail\n",
    "by a group of kobolds for their mistress, the Sapphire Countess.\n",
    "\n",
    "Use the text delimited by triple backticks.\n",
    "```{moathouse}```\n",
    "\"\"\"\n",
    "\n",
    "\n",
    "response = get_completion(prompt, temperature=1)\n",
    "print(response)"
   ],
   "metadata": {
    "collapsed": false,
    "ExecuteTime": {
     "start_time": "2023-05-11T19:07:18.295557Z",
     "end_time": "2023-05-11T19:07:25.160179Z"
    }
   }
  },
  {
   "cell_type": "code",
   "execution_count": 32,
   "outputs": [],
   "source": [
    "moathouse_dungeon_upper = \"data/dnd/greyhawk/verbobonc/temple_of_elemental_evil/11_moathouse_dungeon_upper.txt\""
   ],
   "metadata": {
    "collapsed": false,
    "ExecuteTime": {
     "start_time": "2023-05-11T19:11:06.318886Z",
     "end_time": "2023-05-11T19:11:06.321738Z"
    }
   }
  },
  {
   "cell_type": "code",
   "execution_count": 38,
   "outputs": [
    {
     "name": "stdout",
     "output_type": "stream",
     "text": [
      "Before you stands a stairway leading down into the darkness. The stone steps are worn and damp, and a foul stench wafts up, filling the air with a sickly scent. As you descend, the temperature drops and an uneasy feeling settles in the pit of your stomach.\n"
     ]
    }
   ],
   "source": [
    "prompt = f\"\"\"\n",
    "As a dungeon master, describe for the players a stairway into the dungeon.  Use 30 words.\n",
    "\n",
    "Use the text delimited by triple backticks.\n",
    "```{moathouse_dungeon_upper}```\n",
    "\"\"\"\n",
    "\n",
    "response = get_completion(prompt, temperature=1)\n",
    "print(response)"
   ],
   "metadata": {
    "collapsed": false,
    "ExecuteTime": {
     "start_time": "2023-05-11T19:13:43.365353Z",
     "end_time": "2023-05-11T19:13:44.705283Z"
    }
   }
  },
  {
   "cell_type": "code",
   "execution_count": 47,
   "outputs": [
    {
     "name": "stdout",
     "output_type": "stream",
     "text": [
      "The room is littered with bones and broken stonework, with manacles dangling from the pillars. A foul smell hangs in the air, hinting at an evil presence. A small wooden door and an archway lead to other areas.\n"
     ]
    }
   ],
   "source": [
    "prompt = f\"\"\"\n",
    "As a dungeon master, describe room 21.  Use 30 words and call it just \"The room\". Don't mention the ghast,\n",
    "only mention an evil presence.\n",
    "\n",
    "Use the text delimited by triple backticks.\n",
    "```{moathouse_dungeon_upper}```\n",
    "\"\"\"\n",
    "\n",
    "response = get_completion(prompt, temperature=0)\n",
    "print(response)"
   ],
   "metadata": {
    "collapsed": false,
    "ExecuteTime": {
     "start_time": "2023-05-11T19:21:14.660651Z",
     "end_time": "2023-05-11T19:21:16.234247Z"
    }
   }
  },
  {
   "cell_type": "code",
   "execution_count": 51,
   "outputs": [
    {
     "name": "stdout",
     "output_type": "stream",
     "text": [
      "The room is covered in cobwebs and dust, with ruined devices of torture scattered about. An evil presence lingers, but its source is unknown.\n"
     ]
    }
   ],
   "source": [
    "prompt = f\"\"\"\n",
    "As a dungeon master, describe room 22.  Use 30 words and call it just \"The room\". Don't mention the ghouls or secret,\n",
    "only mention an evil presence.\n",
    "\n",
    "Use the text delimited by triple backticks.\n",
    "```{moathouse_dungeon_upper}```\n",
    "\"\"\"\n",
    "\n",
    "response = get_completion(prompt, temperature=0)\n",
    "print(response)"
   ],
   "metadata": {
    "collapsed": false,
    "ExecuteTime": {
     "start_time": "2023-05-11T19:22:31.609841Z",
     "end_time": "2023-05-11T19:22:32.425025Z"
    }
   }
  },
  {
   "cell_type": "code",
   "execution_count": 53,
   "outputs": [
    {
     "name": "stdout",
     "output_type": "stream",
     "text": [
      "The room is filled with debris and trash with nothing of interest except for a wooden door on the east. Recent traffic has cleared a path through the mess.\n"
     ]
    }
   ],
   "source": [
    "prompt = f\"\"\"\n",
    "As a dungeon master, describe room 23.  Use 30 words and call it just \"The room\". Don't mention the monsters or secret.\n",
    "\n",
    "Use the text delimited by triple backticks.\n",
    "```{moathouse_dungeon_upper}```\n",
    "\"\"\"\n",
    "\n",
    "response = get_completion(prompt, temperature=1)\n",
    "print(response)"
   ],
   "metadata": {
    "collapsed": false,
    "ExecuteTime": {
     "start_time": "2023-05-11T19:23:50.626080Z",
     "end_time": "2023-05-11T19:23:51.466712Z"
    }
   }
  },
  {
   "cell_type": "code",
   "execution_count": 56,
   "outputs": [
    {
     "name": "stdout",
     "output_type": "stream",
     "text": [
      "The Room (24) appears to have been swept clean, and strange relics are laid out on a white blanket on the floor. Gren, a cleric of the Elder Elemental Eye, and her two black-capped gnoll bodyguards wait inside. They are on high alert and ready to defend the relics at all costs.\n"
     ]
    }
   ],
   "source": [
    "prompt = f\"\"\"\n",
    "As a dungeon master, describe room 24.  Use 30 words and call it just \"The room\". Describe the reaction of Gren and her\n",
    "bodyguards to your arrival.\n",
    "\n",
    "Use the text delimited by triple backticks.\n",
    "```{moathouse_dungeon_upper}```\n",
    "\"\"\"\n",
    "\n",
    "response = get_completion(prompt, temperature=1)\n",
    "print(response)"
   ],
   "metadata": {
    "collapsed": false,
    "ExecuteTime": {
     "start_time": "2023-05-11T19:25:48.746521Z",
     "end_time": "2023-05-11T19:25:50.358827Z"
    }
   }
  },
  {
   "cell_type": "code",
   "execution_count": 58,
   "outputs": [
    {
     "name": "stdout",
     "output_type": "stream",
     "text": [
      "The room appears to be the living quarters for the clerics of the Elder Elemental Eye. Six old wooden beds with straw mattresses are arranged haphazardly. The clerics have left various bags/satchels by their beds and a small iron box sits on one of the beds. A blazer and a lantern are on stands against the walls. As soon as the monsters see the players, they attack without hesitation.\n"
     ]
    }
   ],
   "source": [
    "prompt = f\"\"\"\n",
    "As a dungeon master, describe room 30.  Use 50 words and call it just \"The room\". Describe the reaction of the monsters to your arrival.\n",
    "\n",
    "Use the text delimited by triple backticks.\n",
    "```{moathouse_dungeon_upper}```\n",
    "\"\"\"\n",
    "\n",
    "response = get_completion(prompt, temperature=1)\n",
    "print(response)"
   ],
   "metadata": {
    "collapsed": false,
    "ExecuteTime": {
     "start_time": "2023-05-11T19:27:21.491140Z",
     "end_time": "2023-05-11T19:27:23.432486Z"
    }
   }
  },
  {
   "cell_type": "code",
   "execution_count": 59,
   "outputs": [
    {
     "name": "stdout",
     "output_type": "stream",
     "text": [
      "In room 30, the dungeon master describes a small iron box that rests on one of the six old wooden beds with straw mattresses. The box is locked (Open Lock DC 20) and trapped with an aglyph of warding that activates when it is opened without saying \"Praise the Elder Elemental Eye.\" The box contains potions to light cure wounds and water breathing, scrolls of animal messenger and stone shape, six tinder twigs, and a curved ceremonial dagger with gold inlay (worth 50 gp). Additionally, a sheaf of papers lies within that serves as Geynor Ton's personal journal. When the PCs discover this, the dungeon master can show them Handout 1: Journal of Geynor Ton.\n"
     ]
    }
   ],
   "source": [
    "prompt = f\"\"\"\n",
    "As a dungeon master, describe the iron box in room 30.\n",
    "\n",
    "Use the text delimited by triple backticks.\n",
    "```{moathouse_dungeon_upper}```\n",
    "\"\"\"\n",
    "\n",
    "response = get_completion(prompt, temperature=1)\n",
    "print(response)"
   ],
   "metadata": {
    "collapsed": false,
    "ExecuteTime": {
     "start_time": "2023-05-11T19:28:07.525220Z",
     "end_time": "2023-05-11T19:28:10.633752Z"
    }
   }
  },
  {
   "cell_type": "code",
   "execution_count": 60,
   "outputs": [],
   "source": [
    "moathouse_dungeon_lower = \"data/dnd/greyhawk/verbobonc/temple_of_elemental_evil/12_moathouse_dungeon_lower.txt\""
   ],
   "metadata": {
    "collapsed": false,
    "ExecuteTime": {
     "start_time": "2023-05-11T19:42:33.266149Z",
     "end_time": "2023-05-11T19:42:33.296356Z"
    }
   }
  },
  {
   "cell_type": "code",
   "execution_count": 66,
   "outputs": [
    {
     "name": "stdout",
     "output_type": "stream",
     "text": [
      "The room is dark and smells damp and musty. You see broken stonework and bits of discarded meat scattered about, and the walls are lined with cell doors, some open and some closed. As you enter, you hear a faint shuffling noise coming from behind one of the pillars. \n",
      "\n",
      "Creatures: A ghast is hiding behind one of the pillars (Hide-DC10), waiting to attack. \n",
      "\n",
      "If the players do not notice the ghast: \n",
      "\n",
      "The monsters are caught off guard by your arrival, but the ghast springs into action immediately, attacking ferociously. \n",
      "\n",
      "If the players notice the ghast: \n",
      "\n",
      "The ghast snarls and leaps out, attacking with surprising speed and agility. \n",
      "\n",
      "Monsters: \n",
      "- Ghast: hp 25; see Monster Manual page 97.\n"
     ]
    }
   ],
   "source": [
    "prompt = f\"\"\"\n",
    "As a dungeon master, describe room 34 to the players in second person.  Use 50 words and call it just \"The room\". Describe the reaction of the monsters to their arrival.\n",
    "\n",
    "List the monsters in the room in bullets.\n",
    "\n",
    "Use the text delimited by triple backticks.\n",
    "```{moathouse_dungeon_upper}```\n",
    "\"\"\"\n",
    "\n",
    "response = get_completion(prompt, temperature=1)\n",
    "print(response)"
   ],
   "metadata": {
    "collapsed": false,
    "ExecuteTime": {
     "start_time": "2023-05-11T19:53:36.597893Z",
     "end_time": "2023-05-11T19:53:39.907368Z"
    }
   }
  },
  {
   "cell_type": "code",
   "execution_count": null,
   "outputs": [],
   "source": [],
   "metadata": {
    "collapsed": false
   }
  }
 ],
 "metadata": {
  "kernelspec": {
   "display_name": "Python 3 (ipykernel)",
   "language": "python",
   "name": "python3"
  },
  "language_info": {
   "codemirror_mode": {
    "name": "ipython",
    "version": 3
   },
   "file_extension": ".py",
   "mimetype": "text/x-python",
   "name": "python",
   "nbconvert_exporter": "python",
   "pygments_lexer": "ipython3",
   "version": "3.9.6"
  }
 },
 "nbformat": 4,
 "nbformat_minor": 1
}
